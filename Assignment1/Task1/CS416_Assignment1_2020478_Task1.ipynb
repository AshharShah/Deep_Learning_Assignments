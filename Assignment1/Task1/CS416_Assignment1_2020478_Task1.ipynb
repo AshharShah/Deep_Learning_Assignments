{
  "nbformat": 4,
  "nbformat_minor": 0,
  "metadata": {
    "colab": {
      "provenance": []
    },
    "kernelspec": {
      "name": "python3",
      "display_name": "Python 3"
    },
    "language_info": {
      "name": "python"
    }
  },
  "cells": [
    {
      "cell_type": "markdown",
      "source": [
        "# CS 416 - Intro to Deep Learning\n",
        "## Assignment - 1\n",
        "\n",
        "___\n",
        "\n",
        "**Name:** Syed Muhammad Ashhar Shah\n",
        "\n",
        "**Reg No:** 2020478"
      ],
      "metadata": {
        "id": "X9db6udOEIU4"
      }
    },
    {
      "cell_type": "markdown",
      "source": [
        "# Task 1\n",
        "\n",
        "- For following house prediction dataset, [House Data](https://raw.githubusercontent.com/Tan-Moy/medium_articles/master/art2_multivariate_linear_regression/home.txt)\n",
        "\n",
        "- Split the dataset into training/ testing. Estimate the parameters for Linear regression on the training set using the batch gradient method.\n",
        "\n",
        "- Predict the new values of Y using **Ŷ = Xŵ** (X being the test part and ŵ are the optimized weights on the training part)."
      ],
      "metadata": {
        "id": "6WiU3o-eQW14"
      }
    },
    {
      "cell_type": "markdown",
      "source": [
        "## Importing the required libraraies"
      ],
      "metadata": {
        "id": "DeZbdEe_IHrb"
      }
    },
    {
      "cell_type": "code",
      "execution_count": 1,
      "metadata": {
        "id": "rSiAZRzdDSYU"
      },
      "outputs": [],
      "source": [
        "import pandas as pd\n",
        "import numpy as np\n",
        "import tensorflow as tf\n",
        "from sklearn.model_selection import train_test_split"
      ]
    },
    {
      "cell_type": "markdown",
      "source": [
        "## Getting the dataset from the URL"
      ],
      "metadata": {
        "id": "qNcCcsgpINWx"
      }
    },
    {
      "cell_type": "code",
      "source": [
        "dataset = \"https://raw.githubusercontent.com/Tan-Moy/medium_articles/master/art2_multivariate_linear_regression/home.txt\""
      ],
      "metadata": {
        "id": "xaLp92K8DePF"
      },
      "execution_count": 2,
      "outputs": []
    },
    {
      "cell_type": "code",
      "source": [
        "df = pd.read_csv(dataset)"
      ],
      "metadata": {
        "id": "RBDOeLj6DmF9"
      },
      "execution_count": 3,
      "outputs": []
    },
    {
      "cell_type": "code",
      "source": [
        "df.describe()"
      ],
      "metadata": {
        "colab": {
          "base_uri": "https://localhost:8080/",
          "height": 301
        },
        "id": "zN8C7O_5DrId",
        "outputId": "62ecc752-48ce-4238-9d25-a73030ac6d1b"
      },
      "execution_count": 4,
      "outputs": [
        {
          "output_type": "execute_result",
          "data": {
            "text/plain": [
              "              2104          3         399900\n",
              "count    46.000000  46.000000      46.000000\n",
              "mean   1998.434783   3.173913  339119.456522\n",
              "std     803.333019   0.768963  126103.418369\n",
              "min     852.000000   1.000000  169900.000000\n",
              "25%    1429.500000   3.000000  249900.000000\n",
              "50%    1870.000000   3.000000  299900.000000\n",
              "75%    2284.500000   4.000000  368875.000000\n",
              "max    4478.000000   5.000000  699900.000000"
            ],
            "text/html": [
              "\n",
              "  <div id=\"df-10f25119-5228-4e3f-a666-f73de752f5a7\" class=\"colab-df-container\">\n",
              "    <div>\n",
              "<style scoped>\n",
              "    .dataframe tbody tr th:only-of-type {\n",
              "        vertical-align: middle;\n",
              "    }\n",
              "\n",
              "    .dataframe tbody tr th {\n",
              "        vertical-align: top;\n",
              "    }\n",
              "\n",
              "    .dataframe thead th {\n",
              "        text-align: right;\n",
              "    }\n",
              "</style>\n",
              "<table border=\"1\" class=\"dataframe\">\n",
              "  <thead>\n",
              "    <tr style=\"text-align: right;\">\n",
              "      <th></th>\n",
              "      <th>2104</th>\n",
              "      <th>3</th>\n",
              "      <th>399900</th>\n",
              "    </tr>\n",
              "  </thead>\n",
              "  <tbody>\n",
              "    <tr>\n",
              "      <th>count</th>\n",
              "      <td>46.000000</td>\n",
              "      <td>46.000000</td>\n",
              "      <td>46.000000</td>\n",
              "    </tr>\n",
              "    <tr>\n",
              "      <th>mean</th>\n",
              "      <td>1998.434783</td>\n",
              "      <td>3.173913</td>\n",
              "      <td>339119.456522</td>\n",
              "    </tr>\n",
              "    <tr>\n",
              "      <th>std</th>\n",
              "      <td>803.333019</td>\n",
              "      <td>0.768963</td>\n",
              "      <td>126103.418369</td>\n",
              "    </tr>\n",
              "    <tr>\n",
              "      <th>min</th>\n",
              "      <td>852.000000</td>\n",
              "      <td>1.000000</td>\n",
              "      <td>169900.000000</td>\n",
              "    </tr>\n",
              "    <tr>\n",
              "      <th>25%</th>\n",
              "      <td>1429.500000</td>\n",
              "      <td>3.000000</td>\n",
              "      <td>249900.000000</td>\n",
              "    </tr>\n",
              "    <tr>\n",
              "      <th>50%</th>\n",
              "      <td>1870.000000</td>\n",
              "      <td>3.000000</td>\n",
              "      <td>299900.000000</td>\n",
              "    </tr>\n",
              "    <tr>\n",
              "      <th>75%</th>\n",
              "      <td>2284.500000</td>\n",
              "      <td>4.000000</td>\n",
              "      <td>368875.000000</td>\n",
              "    </tr>\n",
              "    <tr>\n",
              "      <th>max</th>\n",
              "      <td>4478.000000</td>\n",
              "      <td>5.000000</td>\n",
              "      <td>699900.000000</td>\n",
              "    </tr>\n",
              "  </tbody>\n",
              "</table>\n",
              "</div>\n",
              "    <div class=\"colab-df-buttons\">\n",
              "\n",
              "  <div class=\"colab-df-container\">\n",
              "    <button class=\"colab-df-convert\" onclick=\"convertToInteractive('df-10f25119-5228-4e3f-a666-f73de752f5a7')\"\n",
              "            title=\"Convert this dataframe to an interactive table.\"\n",
              "            style=\"display:none;\">\n",
              "\n",
              "  <svg xmlns=\"http://www.w3.org/2000/svg\" height=\"24px\" viewBox=\"0 -960 960 960\">\n",
              "    <path d=\"M120-120v-720h720v720H120Zm60-500h600v-160H180v160Zm220 220h160v-160H400v160Zm0 220h160v-160H400v160ZM180-400h160v-160H180v160Zm440 0h160v-160H620v160ZM180-180h160v-160H180v160Zm440 0h160v-160H620v160Z\"/>\n",
              "  </svg>\n",
              "    </button>\n",
              "\n",
              "  <style>\n",
              "    .colab-df-container {\n",
              "      display:flex;\n",
              "      gap: 12px;\n",
              "    }\n",
              "\n",
              "    .colab-df-convert {\n",
              "      background-color: #E8F0FE;\n",
              "      border: none;\n",
              "      border-radius: 50%;\n",
              "      cursor: pointer;\n",
              "      display: none;\n",
              "      fill: #1967D2;\n",
              "      height: 32px;\n",
              "      padding: 0 0 0 0;\n",
              "      width: 32px;\n",
              "    }\n",
              "\n",
              "    .colab-df-convert:hover {\n",
              "      background-color: #E2EBFA;\n",
              "      box-shadow: 0px 1px 2px rgba(60, 64, 67, 0.3), 0px 1px 3px 1px rgba(60, 64, 67, 0.15);\n",
              "      fill: #174EA6;\n",
              "    }\n",
              "\n",
              "    .colab-df-buttons div {\n",
              "      margin-bottom: 4px;\n",
              "    }\n",
              "\n",
              "    [theme=dark] .colab-df-convert {\n",
              "      background-color: #3B4455;\n",
              "      fill: #D2E3FC;\n",
              "    }\n",
              "\n",
              "    [theme=dark] .colab-df-convert:hover {\n",
              "      background-color: #434B5C;\n",
              "      box-shadow: 0px 1px 3px 1px rgba(0, 0, 0, 0.15);\n",
              "      filter: drop-shadow(0px 1px 2px rgba(0, 0, 0, 0.3));\n",
              "      fill: #FFFFFF;\n",
              "    }\n",
              "  </style>\n",
              "\n",
              "    <script>\n",
              "      const buttonEl =\n",
              "        document.querySelector('#df-10f25119-5228-4e3f-a666-f73de752f5a7 button.colab-df-convert');\n",
              "      buttonEl.style.display =\n",
              "        google.colab.kernel.accessAllowed ? 'block' : 'none';\n",
              "\n",
              "      async function convertToInteractive(key) {\n",
              "        const element = document.querySelector('#df-10f25119-5228-4e3f-a666-f73de752f5a7');\n",
              "        const dataTable =\n",
              "          await google.colab.kernel.invokeFunction('convertToInteractive',\n",
              "                                                    [key], {});\n",
              "        if (!dataTable) return;\n",
              "\n",
              "        const docLinkHtml = 'Like what you see? Visit the ' +\n",
              "          '<a target=\"_blank\" href=https://colab.research.google.com/notebooks/data_table.ipynb>data table notebook</a>'\n",
              "          + ' to learn more about interactive tables.';\n",
              "        element.innerHTML = '';\n",
              "        dataTable['output_type'] = 'display_data';\n",
              "        await google.colab.output.renderOutput(dataTable, element);\n",
              "        const docLink = document.createElement('div');\n",
              "        docLink.innerHTML = docLinkHtml;\n",
              "        element.appendChild(docLink);\n",
              "      }\n",
              "    </script>\n",
              "  </div>\n",
              "\n",
              "\n",
              "<div id=\"df-9a792a89-20c8-4e3f-a888-59068c262eec\">\n",
              "  <button class=\"colab-df-quickchart\" onclick=\"quickchart('df-9a792a89-20c8-4e3f-a888-59068c262eec')\"\n",
              "            title=\"Suggest charts.\"\n",
              "            style=\"display:none;\">\n",
              "\n",
              "<svg xmlns=\"http://www.w3.org/2000/svg\" height=\"24px\"viewBox=\"0 0 24 24\"\n",
              "     width=\"24px\">\n",
              "    <g>\n",
              "        <path d=\"M19 3H5c-1.1 0-2 .9-2 2v14c0 1.1.9 2 2 2h14c1.1 0 2-.9 2-2V5c0-1.1-.9-2-2-2zM9 17H7v-7h2v7zm4 0h-2V7h2v10zm4 0h-2v-4h2v4z\"/>\n",
              "    </g>\n",
              "</svg>\n",
              "  </button>\n",
              "\n",
              "<style>\n",
              "  .colab-df-quickchart {\n",
              "      --bg-color: #E8F0FE;\n",
              "      --fill-color: #1967D2;\n",
              "      --hover-bg-color: #E2EBFA;\n",
              "      --hover-fill-color: #174EA6;\n",
              "      --disabled-fill-color: #AAA;\n",
              "      --disabled-bg-color: #DDD;\n",
              "  }\n",
              "\n",
              "  [theme=dark] .colab-df-quickchart {\n",
              "      --bg-color: #3B4455;\n",
              "      --fill-color: #D2E3FC;\n",
              "      --hover-bg-color: #434B5C;\n",
              "      --hover-fill-color: #FFFFFF;\n",
              "      --disabled-bg-color: #3B4455;\n",
              "      --disabled-fill-color: #666;\n",
              "  }\n",
              "\n",
              "  .colab-df-quickchart {\n",
              "    background-color: var(--bg-color);\n",
              "    border: none;\n",
              "    border-radius: 50%;\n",
              "    cursor: pointer;\n",
              "    display: none;\n",
              "    fill: var(--fill-color);\n",
              "    height: 32px;\n",
              "    padding: 0;\n",
              "    width: 32px;\n",
              "  }\n",
              "\n",
              "  .colab-df-quickchart:hover {\n",
              "    background-color: var(--hover-bg-color);\n",
              "    box-shadow: 0 1px 2px rgba(60, 64, 67, 0.3), 0 1px 3px 1px rgba(60, 64, 67, 0.15);\n",
              "    fill: var(--button-hover-fill-color);\n",
              "  }\n",
              "\n",
              "  .colab-df-quickchart-complete:disabled,\n",
              "  .colab-df-quickchart-complete:disabled:hover {\n",
              "    background-color: var(--disabled-bg-color);\n",
              "    fill: var(--disabled-fill-color);\n",
              "    box-shadow: none;\n",
              "  }\n",
              "\n",
              "  .colab-df-spinner {\n",
              "    border: 2px solid var(--fill-color);\n",
              "    border-color: transparent;\n",
              "    border-bottom-color: var(--fill-color);\n",
              "    animation:\n",
              "      spin 1s steps(1) infinite;\n",
              "  }\n",
              "\n",
              "  @keyframes spin {\n",
              "    0% {\n",
              "      border-color: transparent;\n",
              "      border-bottom-color: var(--fill-color);\n",
              "      border-left-color: var(--fill-color);\n",
              "    }\n",
              "    20% {\n",
              "      border-color: transparent;\n",
              "      border-left-color: var(--fill-color);\n",
              "      border-top-color: var(--fill-color);\n",
              "    }\n",
              "    30% {\n",
              "      border-color: transparent;\n",
              "      border-left-color: var(--fill-color);\n",
              "      border-top-color: var(--fill-color);\n",
              "      border-right-color: var(--fill-color);\n",
              "    }\n",
              "    40% {\n",
              "      border-color: transparent;\n",
              "      border-right-color: var(--fill-color);\n",
              "      border-top-color: var(--fill-color);\n",
              "    }\n",
              "    60% {\n",
              "      border-color: transparent;\n",
              "      border-right-color: var(--fill-color);\n",
              "    }\n",
              "    80% {\n",
              "      border-color: transparent;\n",
              "      border-right-color: var(--fill-color);\n",
              "      border-bottom-color: var(--fill-color);\n",
              "    }\n",
              "    90% {\n",
              "      border-color: transparent;\n",
              "      border-bottom-color: var(--fill-color);\n",
              "    }\n",
              "  }\n",
              "</style>\n",
              "\n",
              "  <script>\n",
              "    async function quickchart(key) {\n",
              "      const quickchartButtonEl =\n",
              "        document.querySelector('#' + key + ' button');\n",
              "      quickchartButtonEl.disabled = true;  // To prevent multiple clicks.\n",
              "      quickchartButtonEl.classList.add('colab-df-spinner');\n",
              "      try {\n",
              "        const charts = await google.colab.kernel.invokeFunction(\n",
              "            'suggestCharts', [key], {});\n",
              "      } catch (error) {\n",
              "        console.error('Error during call to suggestCharts:', error);\n",
              "      }\n",
              "      quickchartButtonEl.classList.remove('colab-df-spinner');\n",
              "      quickchartButtonEl.classList.add('colab-df-quickchart-complete');\n",
              "    }\n",
              "    (() => {\n",
              "      let quickchartButtonEl =\n",
              "        document.querySelector('#df-9a792a89-20c8-4e3f-a888-59068c262eec button');\n",
              "      quickchartButtonEl.style.display =\n",
              "        google.colab.kernel.accessAllowed ? 'block' : 'none';\n",
              "    })();\n",
              "  </script>\n",
              "</div>\n",
              "    </div>\n",
              "  </div>\n"
            ]
          },
          "metadata": {},
          "execution_count": 4
        }
      ]
    },
    {
      "cell_type": "markdown",
      "source": [
        "## Converting dataset to _numpy_ array"
      ],
      "metadata": {
        "id": "G1j_BTtFIQ0v"
      }
    },
    {
      "cell_type": "code",
      "source": [
        "dataset_array = np.array(df, dtype=float)\n",
        "print(\"Dataset Array Shape: \" + str(dataset_array.shape))\n",
        "\n",
        "X = []\n",
        "y = []\n",
        "\n",
        "for row in dataset_array:\n",
        "  X.append(row[:2])\n",
        "  y.append(row[2])\n",
        "\n",
        "\n",
        "X = np.array(X)\n",
        "y = np.array(y)\n",
        "\n",
        "print(\"X Shape: \" + str(X.shape))\n",
        "print(\"y Shape: \" + str(y.shape))"
      ],
      "metadata": {
        "colab": {
          "base_uri": "https://localhost:8080/"
        },
        "id": "t29n2nq2FLRC",
        "outputId": "61f1e000-3fdb-46bb-8971-b36d6421d736"
      },
      "execution_count": 5,
      "outputs": [
        {
          "output_type": "stream",
          "name": "stdout",
          "text": [
            "Dataset Array Shape: (46, 3)\n",
            "X Shape: (46, 2)\n",
            "y Shape: (46,)\n"
          ]
        }
      ]
    },
    {
      "cell_type": "markdown",
      "source": [
        "## Normalizing the data"
      ],
      "metadata": {
        "id": "1rgdMynwq0WI"
      }
    },
    {
      "cell_type": "code",
      "source": [
        "def normalize(x):\n",
        "  for i in range(0,x.shape[1]-1):\n",
        "    x[:,i] = ((x[:,i] - np.mean(x[:,i]))/np.std(x[:, i]))\n",
        "\n",
        "  return x"
      ],
      "metadata": {
        "id": "dzS3fdXcq-94"
      },
      "execution_count": 6,
      "outputs": []
    },
    {
      "cell_type": "code",
      "source": [
        "X = normalize(X)"
      ],
      "metadata": {
        "id": "gOhUJaIIrO8J"
      },
      "execution_count": 7,
      "outputs": []
    },
    {
      "cell_type": "markdown",
      "source": [
        "## Performing test-train split"
      ],
      "metadata": {
        "id": "IZxP4X4EIVpc"
      }
    },
    {
      "cell_type": "code",
      "source": [
        "X_train, X_test, y_train, y_test = train_test_split(X, y, test_size=0.1)\n",
        "\n",
        "print(\"X_train Shape: \" + str(X_train.shape))\n",
        "print(\"X_test Shape: \" + str(X_test.shape))\n",
        "print(\"y_train Shape: \" + str(y_train.shape))\n",
        "print(\"y_test Shape: \" + str(y_test.shape))"
      ],
      "metadata": {
        "colab": {
          "base_uri": "https://localhost:8080/"
        },
        "id": "E-JY7hmDDuXR",
        "outputId": "4462e015-876e-45fc-898c-068fecb5f301"
      },
      "execution_count": 8,
      "outputs": [
        {
          "output_type": "stream",
          "name": "stdout",
          "text": [
            "X_train Shape: (41, 2)\n",
            "X_test Shape: (5, 2)\n",
            "y_train Shape: (41,)\n",
            "y_test Shape: (5,)\n"
          ]
        }
      ]
    },
    {
      "cell_type": "markdown",
      "source": [
        "## Initialize random weights"
      ],
      "metadata": {
        "id": "le008VmqPwFE"
      }
    },
    {
      "cell_type": "code",
      "source": [
        "weights = np.random.rand(X.shape[1] + 1)\n",
        "\n",
        "weights[0] = 1\n",
        "\n",
        "print(\"Shape of weights: \" + str(weights.shape))\n",
        "print(\"Random Weights: \" + str(weights))"
      ],
      "metadata": {
        "colab": {
          "base_uri": "https://localhost:8080/"
        },
        "id": "-17lH6H5HlPj",
        "outputId": "f3b129b5-a926-4bfd-e464-63bc82e00383"
      },
      "execution_count": 9,
      "outputs": [
        {
          "output_type": "stream",
          "name": "stdout",
          "text": [
            "Shape of weights: (3,)\n",
            "Random Weights: [1.         0.95039757 0.34831999]\n"
          ]
        }
      ]
    },
    {
      "cell_type": "markdown",
      "source": [
        "## Function for forward propoggation ( *y = wx* )\n",
        "\n",
        "Linear Regression Equation::\n",
        "`Y = θ0 + (θ1 x X0) + (θ2 x X1)`\n",
        "\n",
        "\n",
        "\n",
        "![Screenshot from 2023-10-05 21-06-11.png](data:image/png;base64,iVBORw0KGgoAAAANSUhEUgAAAr8AAACpCAYAAAAiCVVBAAAABHNCSVQICAgIfAhkiAAAABl0RVh0U29mdHdhcmUAZ25vbWUtc2NyZWVuc2hvdO8Dvz4AAAApdEVYdENyZWF0aW9uIFRpbWUAVGh1IDA1IE9jdCAyMDIzIDA5OjA2OjExIFBNW5xXrgAAIABJREFUeJzs3XdYFNf6wPHv7C4sbVl6R5oiggqIKPauaUZNN72Zntwkt/xSvOm956b3xPRe7cbee0NQiiC91122zvn9ocYCKiQYUc7neXyehJ2dOTtzZs4775xzRhFCCCRJkiRJkiSpG9Cc6gJIkiRJkiRJ0t9FBr+SJEmSJElStyGDX0mSJEmSJKnbkMGvJEmSJEmS1G3I4FeSJEmSJEnqNmTwK0mSJEmSJHUbMviVJEmSJEmSug0Z/EqSJEmSJEndhgx+JUmSJEmSpG5DBr+SJEmSJElStyGDX0mSJEmSJKnbkMGvJEmSJEmS1G3I4FeSJEmSJEnqNmTwe0ZQqV7zPnfecA13PPgBWxvVU12g4xJCoKoCIU51SSRJkiRJ6m50p7oAJ6Zia66leF8xjfjQIzocXw8XlGMs7TBVU7i3iHrVQHR8HP5ux1ryTOKkcOmXvPvRYvShJfS76lpSvE91mdpmL1/PrHe/Zn25lkGX38M1w0NPh0ooSZIkSdIZoutnfkUzOxe+wXVjBjJw9A18uDaPlmNmDFX2zX6OS88ZQXraGB5ebfs7S3qSqLQ0VFFSXEJFg4XTO1mqUrLgfR57+XXefesFHnt1NlVdO0ktSZIkSdIZpusn3YSKw2HH5hAI1Y5VdXLseElgt9pwOlWEasVy7Cj59KHWsPbzl/l0TTHeg27gkTtG4XMaJ7Pdg6JIiI1G1Kgk9AxFfxr/FkmSJEmSTj9dP/jt7pzlrPv1Wz5fkItnURK33zYKH+2pLtSfpSFo6BX897HeFDZqiB08El8Z/EqSJEmS9DeSwe9p5fTPZCve0Qw/N5rhp7ogkiRJkiR1S38q+DWVbGT2z4vYWWLCPSyRURPGMaBnEG5dtAexamkgf/tK1mU34JeQTkb/nvi2MRBO2OvJ3bqBzdmVGJNGMrpfBG4uUL19Pgt2NhPWdyhD+4WiNBazdc0K1m7LpaJJYAzvxeAxkxia4H+cHapiqStk88qVbM4qoLLRAq5eBEbEkzp8NEPj/Y/ogC2ay9ixdRs5xbvYWW5CFWCvymTet9+wRQOKiw+x/ZJJigumrTF9DnMNOZuXs3xdJiWNKt4hvRg84WxG9PQ5wd5qoXDjcpav30FhZQM2xZ3AHn0YPHI4ydGB6NvKOgsb1fnbWL1yHZkFFTSrrviFxJE6ZBQZ/cPxOOyHiZYi1ixYxe56hT5jppDRw+3IVbVUsH3NSlZtzqK8zoLOEEh0UhpDh6QRF+B+zIGOkiRJkiRJ7SI6yLL7C3Hd0J4ixN8oDF5ewugfInqPulF8uHKvMDk7urZ2cNaJdd88KDL8NELjM0I8sXCnaFKPtbBDZM/6h0gJcxdoAsUNv7UIIYSwV+8RX903SfQICha9z39ALNxVJVoXVRWNu+aJ/14yQIQGR4pJD88RZU0OIYRNLLwvQ4T16CcufuAzsWbdt+KB6aNEQmSw8DN6Cy8vg/DxDxZxKRPEfz5aK6odbZcrZ85zYvqIJBEVFiT8fLyFwctLGLyNwi8wRETFp4uL//udyDUfKkvdxq/FHef2F6HBAcKg1wkFhMbVIAKDQ0RISIgICR8grn32B5HXogohbGLjU2OFq4IwhI0Wzy5aJV6/8zyRHBMq/H28hcHgLXz8g0VU4ljx72/3CMsx9p61eLl4/rqxok9MuAjy9xHeBi9hMBiFX2CoiE2eIO5+f4WosRz5A1VzuVj16cNiyuB4ER7kJ4zeBuF1YHvR/UaJO95cIeoOO1727E/ERSlxIjAwXFz6VpY4tDZVNOxZIJ68YaJIij5Qbi8v4W30FUHhcWLEFTPF7MwGccShdzaIRS/cIKZNvkjc+dQXYkfNMSuGJEmSJEmSEEKIjmV+nTm8dssdfLamFvvBJ/DNzTSunMVjL8WT+tptJId5drnsnM7bh/CEeHzMC9i5bDHLdl9MenwAxsOzmMJM/u7NrF6znfLGRKb3D8XDTQs4aWmoorKijh0LZ/HQokxWbqnBENOfjPQeaCu2sWRNLnm1i3nvaQcePu/xwNQ4XP5YsUrJz3cz9Zr3yG6y42IIJSl9JMmxvjiqc1izYgN5ORspfu46iiptfPX6dKJ0CnqDL8GhYQQHWsDcRLPVgeJiwC/QDxcUFH0YIQG+eOiO3NvWulw++89V7M0sxTUoln5D03CpzGLDzgIKs5byxu3XE9FrIXclH5lxVSuW8tC1N/HasjxsWj9SzrqMswb2QFufy8oFC1iT+Ttv3r2PZo+feGd6wv4stWghZ/V3vPjkS8zOheih53LlWYOJcDORs34Rvy7KYsuGnVTOGI7PgZom7M1UV1VRVdVCTeOh2ThE3TY+e+U5Xv98CVXu8Zx35U2MTvDHXJLJ8vlz2bp9G3v21TIp0Zs/Dpt9LbNe/pRfylQCS5z0GXE2ScN9ulz9kyRJkiSpC+lIpGzPelmkuSKg9T9NwFni7S1FwtbZybfDMr+KIVnc9OLHYu7iJWLJkrb+LRafzbxI9ArQH5H5FcIpytZ/I2Zk+AqN4iEy7v5K5NfYj9xMY4745uHzRIhGIwyDbxdzMysOZIet4pdb44QWBIpGuPr3ERc//KXIrmo5kIW0iewvrhPx7hqB1kekX/akWFl1KJ9pL/hSXBDhJlB0Ijhpqnh1WZGwHrbd5rzfxF3Dw4QWhJtfb3HHl3vFESWzbRdPn9VTuGoQvqOeFnvazCwfyvyCInSeoWL4tc+LFYVN+8voqBbLn54mgj11QtG6ibS7fhUNh3/dUSF+uf8sEeKpFVqP3uKO7/KOKGNL0RLxyIWpwsdFI3Qx14slTfv/rjbkiR8fO08EabUi8pwHxe+76w9l1FWHqC/eJlauyRGmw+qEbccbYnS4twAXMf7ZbQcyv05Ruuw9cVman9DoYsWNn20VJvuhL9kby0XWlnUiu7TlyMyvZZ64OtxVaDU6ETJgmnhzRZ2QuV9JkiSpK1JVp3CqspXqCjqU+RUmMyah0NbAK2G1YHY4T+qQLNG0jXf/eS3vtmdhzZH/ExSbwOCMAfy0cTHbliwm65axRPkFHlhMpbGkkM1rNlOp8WH0qGHEhvgfNQmygt4/gYvveZJH75xCrOFgftGFXhc/x8wFy7nxk3zysjeydXslQ8aGohFm1s/6gPkVVlwMMUx94HluHRlxWFYYPGPP5emX/8GqMfexqbGUlT/8yO6p95B0ZGK23TR6PwZfNpPXnr+FFN8Dv0Drz/Bb7+CCz5by1q4mqrdtJMd2Hmmu+z+25izi20W7qDXr6HnrSzx5YSyuh63TLWIkN159LnM35rK+8Dc+XtTA6KlGhNVKc3UNTaorESEheHse1idX0WIM78+w8PaUWtDU2EBDkwncE4iO9ESrOZS/1RmCSUgJbv01lyFcc+/VNC9vICLjAkYkGmXWV5IkSeoiBNbGKsora2k2m2iorcHk2YeR6ZHoT3XRurkOBb+66FSG9nBnd575qCBXi09CEgk+XmhPZvShNRAR14NAg9sx385hrS0mv7gKs/PIv2t8o0hJzyAhZCUrs5cxe3s5Y3oG4K5VwGmmZO8G1m6rQBswnJGDEwg+ej4xRU9kv1FccMk5hwW+B9at8WHIeWMJ/TSPkspy9hUXYyEUD1s2i5bmYnUIPCMmcfG5cUcEvgd5pF7K5QMfY/NSC9X5m9he7CCp55+biMPDJ4GLbr/hUOB7sPjeKQxO8uCtzEZs1WVU22F/hOugcOtWdldUY9eEMeH8AWiam2k+ar2e0TFEenuxSa1i87rdMHUQirsHPqHh+LuuI3fNfOYtScJnYjoxgR2tBwpG/wAC/XzQ5O7i1y/mMMxnCqm9IzHqjzOKUuPN2HvfY+y9HdmWJEmSJP0dnJRvnc+bH33JvEWryCxpwu+8d9j60wzCuugEAd1FhyIsxW8kd/7fdHY8/jWbi5pxAig6jJEDuOS6C0gNMXIyp6BVPOK54F8zuXxQLO5tBlcq+2a/yL9f+Zbs6qM+0hiITxlIalIkGxbms+DXDdSc04cITx0OUz25a39nR5WO8InpDOwdjXeriqnBxdUNN30bu0yj4NmzNz30CkWmJmrramlSwa02n92lZlQBHn0G0t/7GBGhNoyBKWFolubS0lxGeZkN/mTwq2jdcHdv47uKJ34+bigIVKcVq1WApwKiheLiMhqbLQic5M9/nedXtz6KwrSH/BozApWaysoDqwwiacS5TErbwFfr5/HCzHK2rpnMWaMHkZycQlJcCB7tqhAaAhLSmTRhJGtzfmPDhw9za846pp03kaFp/enfN4EIP/fT4HWEkiRJknSQjohBU/lXbC98667jsfJCEkcMI0g2ZqdcxyIsxZOUqx/jOfd4fly0nrzKFtwCYhk4djIXnZdBkNfJnTZY0XoQFNOLpP5JeLUZRzrRb/PHTddWzVLwiklmyIC+/LIqn4Ilv7Ki/BKmx3liqstn9eLN1OlDGJmeRnxURwdNKWj1RgzuCsJix2q14RCgNjRQb3cACu7+gRwr9gUNgYF+KIDTYcPSYgU8OlSC9pRRp9Oyv9OKQD34mjzRQnOzBZtdgFrOylnvsP6Y5XTFL7gHSfGhB1bpTlTqudzxgAWvT77g1yWb+emtLcz/Po6UwcMYd840Lpo2kaQg/Qn3p9a3N+dcdw92Vz8+/24Oq5Z/xbMrfiMqKY2hoycy5cILmDC4Fz4usmODJEmSdHrQuhkI8LRQXWtF1UQzckycfMFCF9DxY6APY9T0f9B/TDGVDTZcvAMICfLD07Xrv3ZMcQ9nyNCB9Px+KfvyVvLVwn1cGtOL2j2/s3h7PR4RA0kfkEKkZ0cDLIGq2vYHkBotOp0OrQKKRkGj7F+Xw2bFeZw1WK37Zz7QaHW46tvqHHGyKGi0CooCaOO54sVHOcv3WNVCQdHoCU3u88dfNB6BJE+8ivviB3HulnUsX7KQub8tZNWvn7B1w2Zyy8z895+X0NtwwvAXn5gMLrsjktQxU9i8dhkL581h4cplfJ29lU2ZhTTP/A/TR8S0Oa+xJEmSJHU9AvOerWwta0ANH8PYPq4n/op00v2pGxBFq8cvPA6/dg1m6kpciRg0jIz4r1mXl8nyr2eTd83N7F4wm13N7sSOTiU1JbrjwZUQWEsLKLMIFF9PfLyNeCqg8fPH39UFBUHLvgJKHcfqzdBCbm4RqqLF3SuY4OA/Odrtz9B44mM0oHfVQItCUPLZnJ/i3qFVKC6ehPQaQHBsIumjzuayqzcy679389LiTBb89CWDR48mfnRwO7LpCnqfCPoPCycxdTDjJ1/GJfPf44nH32Hzit/4ce4wMpKj6WOU0a8kSZJ0OnCQu20nJQ1m/MeMIsVDtl9dQbfreaINTGPCiEQCDBoa1n3F15u3MHdOJhavUPqkDSUl4liBp426qiIKC6twHPWJcNrJWbKMfLuCISCEHpEReCigGHvTN9oTjQZasn9n5b62c79q/Qp+XlaHqnHDLzKZpKjDImRFg0aj7A8c7Q7snbAPjuRGdHQkvkYPFEc+K5YWoZ74S21StG74BEeTlDGVu5+6gX46Jw3VpewtKDtu1ruNNaHz8CMiPpmzLrmdWyYnoLFWUVhYRFX9ny2dJEmSJJ1sAoelkcryShpanAhnKdu276XO5MqAUUOQuZuuodsFvygGMiaOIj7QiNKynY8ffJjf9tjwCY8hfehQgo6VCxcOKrbO5ZWnnuXXnTVHBHO2ou959cNNtOBBVM++JCWF7x/459KLcyf1w02nwVy9mo9e+4Xyo6NAtZalzz7NN6VOXA2+pJ4zhX6HJ14VD7w8daCAvSiXQnNn7gwADWHpg0mLCMENM8tffow5Fe0LMJ3WFuoqK2g4OiJXdHi4aBFifzcOF1fXE2R9HTTV11Db0HxUkKyg6NzQKQKBFldXF1x0R34v66dnuOf2e3nh8xWUWNtVbEmSJEnqdNaCuTx85VjSBo7jyhuv5aKLr+f5D75mWVYZzc4ERo4MkNNxdhHdst+1a9/xnJ/yJsvza8lbtgy0Bvr3GsawgUfP7Xs4BY3Gxt7F73HXtflsuXUGUwZHYMqex6szH2dOhcAjPJHRk6eREX6w/7OW3lfdzYzP1/DGxkrWfnAnVzTncfcN59A/3IPmoq3M/ugVXvpiDXatBwkjb+Wu6X2OPCjaUJL6hOKm3U1z5W+8+uSX+Ezvg6VgL5bA3mRkJOL7F29hNKGjufaKsSzeXULmvi+5/myV+2beyeRB0Rh0Cqq1gX2Za5n/y3d8szKYFza9z9l6QU3uKp6440bWGKdx881XMKZfBF46MBWt4NV7XmeH0BMVk0RaSuzxZwFxlLL4vf/yxMd7Sb3yZq6fNpwoXzdw1LPp2+d56fvdaIx9SE7pS4+gw9ZkXcFzd83k4yJB8NoCvGJSuHmoQV5cJEmSpL+Namsg84fHuOqOD3Gf+gyfrpxBfx+Vqs3f88wjT/HDmnwc8TMYGfo3dmmUjuu0CH4VFDQKoChoUI4b3CgaDYoCCho0x4q4dHGcO20Yz8/fTUGjHRdDAIkjJ5B8vOcRip7whMEM7OdF9pKlPHvzLzzuFAe26YpPRF8mXHU3t14ykMPHdml8R/LIu89Qc8czzN+5j+Uf/IclH96HRgGhOhEaPQb/CFIGX8qTr9xLWquBYW6kXzidMT9mM29XGfOfvZz5z4LiGs0FDz5H/IA++LopaA78btCgOcbPUDT7o2RFOXoZd1Kvvp+nypp5+JNF5O76hn9d/A0zPbzx8tBgbW7CZBXovXwI7HX5H9PM6T28CQv2pGD2W9w6+y08jL4YXOzUVddh1XkR3nckl1x/C5P6HDrhD9+2cvA/NO74B4diMP/GZw9fw0ePGwjw80KYqqlpcuLuF83I8y9n+nnDCDtiLKADoWrgYEcN0bHOFZIkSZL0lzgayfrpKa675yOq0+7j15dvor9BATQE9s9gcP+e/Ph7FgEDB9PT/e8czC4dT9cPfhU9AT36Mea8KQTTn6QQ43EKrcEnbgDjzppMjzofMiKPFf1qiBx7HiODv6Cg0Yl3cCKjx6Vy/EkeNHiGp3LFv2bgNvprvpu/nvzKJhyKHp+QOIaeexlXXDiGqFZzsCkYkq/ltU978u3n37Fk425Ka5uwOARaV0/8QmNJHXku0y8/l/jWkwsD4NH/Cl580UrkxwvILq3HKnQYQvszKSORANcDJ1nSGM6f7I4uIIN437Z+iIbI9LOZen5vvGMz6HH0Dag+iskPvk7MwG/4+rdlbM8vp67ZglNocHH3xCcgnLjEVEacM4Vhrvt/l3dEItP/9QxusXNZm5lPZb0Jq1Mhvr+RsF4DmXTBZUwZ1fuIKd40fvGMPetcPKvsDEk68AhIE0DaWddzH77MXryRnOJqmlpsoIsnPSiK5JHncMHUs0iJ9DryxselL+dfdxG1W1sISz2btDgvmfWVJEmS/iYqjXvm8sr/vmaXpSczn7iD1MMTWA4bVpsNh+LPoIw+uLt0/VmxugtFCHEy30jcOYQTm8WCQ3HBTe96zMzmfio2sxkrerw8XI4ZDDkKv+PK8dfxzV4HfS96me9n3UKvNmcgsfHrbYlMe7uM+Ik38+J7L3B2hEpzTQVllXVYtV6EREYS0J63OQgnLY3VlJdX02QVuHr6EhIWjNFd166gzWmpp6ykEpPqgk9gMAFGj0NvUhNOWppNqC6eeLodoyyqHbOpBfReeLgeu6+EUG00VJRSUduEVWjxMPgRFOSPwf0Y+1O10VRXTVV1PWaHBg+fYCJCfWl7EwKnxYTJrsXT4N6qO4TT0kBVRRW1jS2gNxAQGkag4dh9hoXDTEODBZ2nEa9j/W5JkiRJ6mxqFb8/fy+3Pfct1SmPsnH+f4jRHWqt7PsW8dg99/Lq8gAe/flDbh8SjavM0HQJXT/zC6BocXX3pH2z42lw9fA6wbIWds3+nuWlFrSuoWRMOYuYjky9p+jwCginV0AH53pTtLgbg4kxBnfsewdo3XyIiPM59roN3sdfgcYFD8OJH7soGld8QqPxCW1nwTSuGPzDMPiHtWNhBa2bF97H6PqkdTMSEmUkpJ2bVnQe+Ph39gtBJEmSJOn41Loc1m7ZTWWjjv5jRhKpPTyyVakuKCC3sAxtr/GkBHujk4Fvl9H9ZnsAROM2fvhlM7UWB/rwMUwZF3ma3AVIkiRJktQVqDXllFTXYSaCtEERHBH7iiYKC3IoKGkhun8y4d5eaBzV5OXX/OnpRKXO0w2DX0HF6nnMzyrHpmqJOftKRgTKx+WSJEmSJHXE/gH4ij6U6Ej9EZ8IUwV7c7IoagiiX0oURoMLLWvf4p4319FyagorHaYbBr8WCvJLcLgaiOx3PnfMGHnEgKzWtPhF9iQyNJSwsFB85BN2SZIkSer2dGFRxIUFYdDBgemW9hNWinesZf68NVR6RpIQ5Y+Hq5V1vy3CtU8ycsKzU68bPu13J+O2d9lwW3uX1zLs/nnsvf9klkmSJEmSpNOKV3+mTBvHT2tmMeeXHG6M9UEnrJRt/ZW3Xv+Y3UowPu5uuCoCW+EvvL+uHzMeCD/+vPfS3+L0mO1BkiRJkiSpq1Hr2PT1Kzz+zho8UtIId1ZQaQ/n/JtuIUOzgTefe5dtagBGu4PYa5/g0cmx3fGRe5cjg19JkiRJkqS/QNjq2bdnL436YGJiw/A6kN51mqopKCzDYYyiZ6g3Whn5dgky+JUkSZIkSZK6DXkPIkmSJEmSJHUbMviVJEmSJEmSug0Z/EqSJEmSJEndhgx+JUmSJEmSpG5DBr+SJEmSJElStyGDX0mSJEmSJKnbkMGvJEmSJEmS1G3I4FeSJEmSJEnqNnSnugCSJEmSJEl/F2GrYufqlazbWUyLKui6b/pS0HiEMGD4CAb2DsFVOdXlOXPI4FeSJEmSpO7DUsLKb1/nkXcXU+k4/AMFrYsed3fXTnssLoSK6nTicNhx2J04O/hSXcUzlovve45n/jGNGIN8WN9ZZPArSZIkSVK3obhHkjZoAD1nb6C6sAn1jw80eIenMv3Ou5jUy5POSLQKIf4IgJ12C02NDTTU11FTXU1VRTklxYUU7t3L3uJqTDZHqyy0MBezaskKdpw/kh79A9F2QpkkGfxKkiRJktSduPiRMvlaZmzeRuGHiylpdu7/u1Bpri1jX5mVnjdcQqKxkzOtQsXhsGO327BZbVgtFlpaTJhMzdSW5LBl/UoWz5vH4g15NDoOhMHCRvmmpfy+5RKGJgQQIPs+dArtI4888sipLoQkSZIkSdLfQ0HrHkDvPgGUbVjDtn11HIw1VVsjJcVVuIT2ZWC/CNw7M/5VFDRaHS4uetzcPfA0eOPj609gcCiRsQmkDB7NuRdfzRWTB2IwFZGTX4rZAaqtjmp9b84ankywt2unZKS7Oxn8SpIkSZLUzSi4+PRkUJyZJXPWUdxsO/B3gb2hlPxKB9H9BpEYYfhbpsVSFA06F1fcPDzxj0xi7JTLmDIsgvq8neQU11FdYiV20jjSIv3Qyej3L5PBryRJkiRJ3ZCCe9QAUnQ7+GnZbkwH07+oNJfspVQNoH9qP8K8XVH+5oBT0briH5vGuNFpGM172bVjCwX6dKaO7I3BVQ58+6tk8CtJkiRJUjflSlhqKr45v7M8qwrrwdFvwkJZbhGOkATS+0fjfUoCTgW9bw/SBvbBvX4Pi5cW0vOcCfT1dz8FZTmzyOC3swgVq6mKwt1Z7MreQ0F5I4q7AS93FzTyEUUbHNQV55Cdlc3u3EJqLQoeXl646eQd7enA3lBKzu4ssrL3UFRtRuPmhae7i3xrjtQNOWmu3EdO9i4ys3Ior7fi4mXESy/H5Z82dP70S4+ifO1SthU3cWD4G8JWzZ68OgKS0kmL8Ud3ShpzBZ0hnKQ+oZi2zGGhOZlpQyI7oevD0W2wplu1wYoQHZx0TmpNOKnevZxfflnAziotvkZXmivLMPumMv36y8jo4S0D4MOIljI2LviBHxbthoAgPJzNVNfZiRpxIdPPTifU4HKqiygdi7BQunUJ33/7G7lqIIFe0FhTiwgayMWXn8+AKB85hYzUbQhrHXvWL+C7X9bS4OGH0UWlsbIMJWY8V0w/j74hbnJw0ulCOMlb8Dx33vEk83ObD5v+zJWIUbfz9nuPcW5Pr1NYQAflK15lxlOl3PPZC4z1//M1q602uKrOQfSIC7pNGywzv3+ZSuX6T3j00ddYXhnChEsuY/L4YfT1LePH92axuDqMSaMS8NTKSyCAaNzN968+zuNvLcFjxHSuuOBsRg2Ko2XXQj7/dg263gNI6uGP7NLUBYkmsn57h0efeIPVIp3pV17IWWMyiFb2MefLz9hk7cHAfnH4uMmDJ535REspq759m2df/Z7y8FFcdvFUJo4eSKBjD9++9Rl73eNJ6R+NQY5OOj0oGrzD4gjSlLJ53U6qLAfzgk4ai/ewuymUURNSCXA5VcdTg1dYDBEuKm6xiUR4/LlyiMbdfP/K4zz+9hI8D7bB6XFYshbw+bdrcUlIIzHS78xvg4X0F6iiYdsscV1GD9Ejebr4YF2JMDsPfGLaIp67OE0EhE8Qb2aaTm0xuwjVlC9+fvJK0TckQox9aI4oaHQc+MQmcma/KCb3DRdD7vpE5FRbTmk5pTaoZpE7/2VxaXqUCB/1HzE/v0EcPHrWwmXiycvTRPjAG8TXW0qE7ZQWVJJOPtVaJTZ8/Zg4r38vkXHdi2J1QaNQ938i6vJXivvHhov4s+4WP+2oP/B36bSgOkRT0Vrx6k3DRIAOAYf+abyixcUvrRb1p/iAOu1WYXP+ue+qpnzx8xNXiqRWbbBV5Py2vw0eetcskVtt7bTydlVnemx/UqkVi3j0H4/wzTYHY+6aySVpYX/MCai4RRAT4Y2mfg1fzck/9AiluxINrP/ifzzz7q+U976O5+8eT5ThYJ84HYGBwQQYBduXrCC7pvGPPldSVyCo3/oTLzz/FnP2hnPzw7dYTwh4AAAgAElEQVQzNsb7jzcNufj6ERzij3PXKpZnlmKyn9LCStLJJSzsXfsLr7/0DuuUdGZcP40BkV4HujcouHv4Eh3pTVHmVrbsysckOxaePhQtXmEpXHj9bVwwLILDk7xqcyFzXvoPr/1ecUrbc43OFZc/E7mJBtZ9/ipPv/srFa3aYBcCA4MIMAq2LVlBdk3DGd8Gy+D3z1Irmf3is3yythDXwf/gviv64HX4+AaNB16eLmgUM1tXrKfplBW0LU6qsn/n0dtv5NU52VhP+vYEdZt/5e1PfmBzZQ+uu/8GUnwP71OkoHdzw03vgiVvJ9uqmv+YcFxqg7OB7bOf4/ZbH2dRruWkb040ZPLdJ5/w66oiYi/9BzMGhR3Rr1fRu+Lu7oaLtZBtO8sxt3T7W73jctTk8cOTt3PXcz+x9+SffGc+oZL1ye1ceP0rbDad/M21lGYxe9ab/LhNy8hLLmFMShT6wwZ16LQueHp6YK8oJndfMbWOk18mqRNp9IQNPIcZM65mSKT7YX22BabS9bz/0KPMKTrdDqqgbtMvvPPJj2yp6sH1D9x4nDZ4B9uqm3Ge4W2wDH7/FAcl897i2W82UqdGctX9t5CgP7r/jYrTKUAIWvKy2dulzhUnzXWFbN+wndyiClpOciV31u3k+88+ZcGGUgImXcsN6UGtKp5QVVRVIKxl5BeacJ7pt51/gbC3UFu4gw3bcyitam71LvhOpTaxdd63fP7TMiqNo5lxVQZ+HkcNaVMFqqqiYqOksAi7zdb2uiQAbOYGCnZsYHvuPmpkWrATOCnesYHtWbvYV39yb7yErZbtv3/Au19vRddvDFPHDCTS68irmRCgOp3gqKeivIbGZnmMTzeK1oe0qdcw47LxRHlpDwXAqo2ird/zwlOfstt0+tzkO+t28t1nnzF/YykBZ13HDQNP1Aabz/g2WAa/f4KzbgtffD6bXaVNGDJu4s5x3q0XUptobLLiVEGtraLmDK9Ix6S2kLtmEb/OW025NoGLLx9HmPfRcxQKWlpaMFusCNFEXZ0NISch6QIE5n1bmf/zz2woUkicfAHjYoI5+tXywmrBbDJjE4LGhgacZ/pVU+qmBI2lmfzwwVfssoUwZMwY0pLCWs1u4nBYaWwyIYSF5iYzVqu8lp2OFM9eXHjzLVwyOhGvw/oZqC1VbPj1DV7/fC3V1tMgAD7YBs9fTcWBNjjU2+2ohQTmw9rg2job6hneBsvgt6NEC3lL5zJvwx4aVH/GXjGF2Lamc7RXUVppwmYXJzcz16UJbLV5rPp9NuvyzBiTxzCxbxhHJw7BSV1dLfUNzYd9UzrVhL2R7E2LmbtsFxZDHyaM7U+Qr77Vcs7GRmpr6jCJ/U86JOlMJJwW8pZ9yPfr6nCL7MOg9DSiDUc/8RNYrc2UldegcvDaL8+J05OCe+wE7vjHNYyO9+PQhE0Cc+lOfvroDb5bU4ipS9/rH2qD1+eaMSaPZVJSaJttcH193aE2uBtU2Q5Pyam21FJSWo3NxYeg4AAM+u4VPztrs1m4cBmZ+xpRgqdw0fiINu8g1NoiCisasTlB4+WNoXvtpv2EldLsdSyYt55Kp5HRIzKIC/al1b2CMFNVVU51rQWhGPH00qE5Ce+SdNrM1FdXUtNkw9UYRFigEdc/rmgqNnMDlWVVmIQev6Bg/AxudN8Z6gSWmkLWzPmRzWVOfIYMZmjvKIytpn8UmGprKS+vxCoU/Dw90WhORmXff3yqKqppdujwCQ4l0OB2aP5s1YGprpLy6iaEuw8hwf546nVyjlWp0zibd/Hj+7+y16YnPr4fqck9cW9VwZyYm0soKGpEKAbc3F1xOUlTY6kOG0015VQ1WNB4+hMS5IvHYRlKp62RypJyGu0uGAOD8Dd6/rmBUt2aC5FjruW+27LIfXAWWfUHRvMKKyWbF/DRe4n0iriNUXG+nfDSiZPg8DZYNTJmZAZxIcdogyvLDrTBPngZdCid3AarDiuNNRVUN1jQHqiv7n9USIHD2kRlaTlNdheMgcEE+Hic1H3ageDXQeW2+Xz122aaNRrMNdVoY0Zy0QVn0TfUvVUjo9qa2btxPgu2NJM6chwZ/SI6teCnhoOyzE2s3rCDaptCaMZ4hgQc/fgAQNBcsJe9tQ3YBOiCwwjthi/7Uc217F4zl1U5zSi+gxicGkegd+sqJ6y1lBUXUlGvgsaX4CA3OjV+Uu3UFm5m4fwV5Nc60GChuqYFvz5juPTS8cR6QtWe5fw6Zw2lFi1aYcfidKPn8MlMGx6P1xk/4WEbhJ3KgrUs+D0Lk+JNcmp/YsL9Wl80sVNVVcq+khpUNPgFBKLVde5rLlRbE/kbF7JgdTYNDi1qSy01FgN9x1/EZeMS0DsayVr2E/PX78Oq1SJsVpweUYyaMoVhPf26ZqMknWYEdes/57uNtQj3CGITU0mMbOParzporswkt9QJigc+PgbcW0fIf1lL5U4W/rqAneVWtBo79XUm3HsMYuqFk+gb4oW1eC3ff7+IvSYtLoqK1aElPHUck8ekEOx15r/AoFNp/Rly5T+5PyuLO99cTcOBng7CVs3muZ/ybkICMXecR4yvvsvdbLdqg1PiCDC01QbXUHpYGxwUpO/ENlhgLtvBgtmL2FWxv77W1ZrwjMlg2oWTSAr2wFS4hh9/XEyBSYuL4sTqcCFi4ATOH9WPQM+TU1/b+fMEDTt/5Pk35tEcnsaIkcPp5ZLNp88/z4e/rqOy1dRGAnNtDt+++AAPPfEay1Zld3a5Tw17NVnbN7IjpwanEkD6qFT83do6MHb25eRTXteIEw0BvXrj3+3iJ4GproT1i1dTZgdjbCL9YyJp47zDWVdF0d69VNkEGu9wYgI7MeMqBHV7FvLuq5+wvSWQfkNHM37CBIaGVPHDqw/xz+fmsnffMj547WuKPBMZMTqDWPdKln7+Px6Z+TpLyppPvI0zkGozsW/tXNaV2FAMPeif1ItQ3zbqurOJirJc9pVZERoDEVGBuLp23p2ecLSQOe8d3vhiHfbgJIaOHsfEicMILFnACw/+m+cXFJO/5B3e/nE3xqRhjBncG13pGma98hgPvjGfGkuXGmkqna5EI6u+/pk8C7j5BdO7fwrhrXsAIRw2ajO3ktciUNx9CQ70w9BqMPRf46xcydtPvMyySi8SBo9k7ISJDI9xsOrz57nvme/JK1rJm4+/znalF0NHDycpxMamn97liYdf4bfMUizd4JF2Z1O8E7jo349z26iQI9omR10Ocz98g0+W7MFk72o7VmCqLT7UBscl0T8moh1tcBixge6d1gbby5bz9tP/Y2W1gcSMUYybMJHhUVaWffIM//fsDxSUrOTtp94mUxvPsNHD6RNoYf0Pb/PEf19hTnYFJ6vLfLtSNKI5k6/e+gVz2s3cN30YfjSg32HEUraWdes2UzB1JMFBh0d3Kk1VG1m+PI96XTqqe8dfCeio3MaCpTup6ewO5RpXfGMHMDI1Fm+3jjXS9upisrdtpaBJRXELxF8UsG6VvfWbUEQ9a5dto7zOBoobfVL6cfQQrzOecNBQvp6VmypxKi74eGupKshkpSXnqLtjgalgA2u378UkwLVHHL2NHp124qmmHXz6/HuUDbidu6cPo4fv/pM6ObqeeV/MZ9Zbj6Ls8cW97708c/l4AqpW8fLW9WQWlVNbuJ7tVS1MjmpjQOMZztZSw4Yla6h2KOgMnmgay9ixahnZRw92aylj1YqNFDYLcAmjV08/3DqxK1Td1o959dM9pN/6Hy4ZEoOvuxZw0KNqOZ/MeJfXHvoHWf4OUu55lcvGhlC2+H22bNxKSUU1xet2UG2bRrC7fOGy9Bc1r+On+fuwo+CldwVzMWuX17bK9Dlb6lm5eAv1Kuj8g+kREoyxM5/6Wffw0b8fYnPvfzDzxvHEBXiiU8ARZ2fDvN/532cv8M99PrRE3cU7104l3LKbL39YxcacEips29lZUofNGYXb33lKqDZq8jexclMejbZOjmS0bgQljWRicvBJzroquPcYyR1P/Zedl93Db4W2A91iVZoKV/Puc2+Q0vdppsX7ntRSdIhwUH94G2zQHLcNXrejoPPbYEs2H/7fE+xIvIv7bxhL7MH6GmtlzexFvPHJc9xTYMQaezdvXn0+YeZdzPpmNZtzS6i0b2NHaT0XpkSgPwlPzttxCqgULf2BOZa+zDwvBX+9gqPJQsHOLGocKj0cDpxHD3JxOmnYsYYddSrG5EgComM6WCyVijlPc+u/FtDU6YMpFQwZd/LdO/cwMNLYgRNGpa68lOysHEwqYCvk5+fuY6GrtvU6VDtN9bXUm1UUXS+GjzjZJ2YX5HRQu3Ul22r3jwYo3/Ajz+YsxFVz9J4QOKwm6mtqURUtUUn9CPP26qSRmHZ2vnc/v7ldybvXjCbK61AfUJ3RFx83HY7arSzddBFvvziWCIOOxvxaSkvLqLeoGNOHMTTUo1NKcrqxNm1hzcaa/ROdV+/km1cf4Dd967ounDaaG2qoc4I2KoGUCD/cO+tCZc/mo8c/xfvKT7lyZCyef/Rf0OHrZ0SvVandPJudV7zDi6Oj8NKaaKgup7S8FqvqxeCRgwjWy0e80l9n27KYZeUOQKG5ZAefP3krP7bRn0aoNhqrKnCgISSiB9GREbSRID4uYTdTV9eAU+9HgPHwR+kOcj5/gtdaLuXbO86hl7fLoeuZlzfeHnpo3MT8FeN4/aXJxBhdaKlrprK4iGqTHc+kFNJ6BNDBnA8IFVtLI/UmJx4GI14djJydLfVs+uIxbn91HeZOz+Jp8D37RTZ/fg3Gzl51KzpC065g5kNb2H3nB+w5+GOElfKNn/HAI6kMnHUTkV2ln5XTTt3hbfDGn3imPW1w3/6EGTw7oQ12kP3JI7zjuJSvbz+LnobD6qvBG6OHHhq2MW/FBN586VyijTrMNU1UlBRRbXbg1W8A6ZF+nKxhZSeuxY4Clv6+m4j024jz9wTA3LiDBYt24XCPIaZXPD38jzybVNXKntXrKVfd6RPZk6jYgA4WS0PY1R+xcVwJtWY7aqcFwAoanRs+QcEEeLfup3xcwkJVZQ65BQ2oio5+177CV49fQe/AoxtXQd3aj7nz3pl8s74FbdwwJvVq6/InsNbsY2dmNqXNLoTEJdG/d3CHL5RdldNhYc+mrdQ4QRs+lHufeZH7LhvQaoCIsJby+/v3c+u9X9CsCSUlPR5f72PvBWEuYWtWE5GJcQS4nyCwaVzIi280cv6ci4n2OrKqi/oKyhutCKHiPfQCJkXsb2SMfcdz92NvMGC6jf4Tx5ESZjj+NtQmslZtQ5c6nF4df8DRZZl3r2V7pQO0QYy+4RFeeGoG/TyPPmPsFK7/hvuvuYFvGjVEJiUTH+RPq/E9wklz9T52Z+6mzKTBNyqRlIQwPHXHv6o1zHuZD03T+HlaHJ5HHD5BXXkVTTYnQnUn4/zzCXdVAC9Szp3Bkx7x7BE9OXtcGv5ttfTCRl1RLpnZe6lzuBHcK4XUXv7IMFlqm5M9a9dR4gDFI5hRt7/FV09NxqeNBqR6w2OcNfJx6jTeRMX2JibGp51BhIWVz13Fja8tYV9lA3Z9MGNvfoVZz15E8MEVNK/mzffKuei964n3PrK2iqYaqhtM2J0q7hnTuDDGDQXw6JHMFTPfInxiOeFDxjA4IbTVVIXHojrq+fy20dz3Qz41jWbUkDE8+toL3HV+Mq0uBceh9Qxk7H++YsPVlTRYHJ04IYwGjYsHgRFhf0Pgu5/iYiR5yv/xwOat3PnmRpoO/haniexv7ueGjBHMviuxS1xLnHYruzdt+6MN/uezL/F/l6a2boMtpfz+wf3c0s42+NAGGshel4kuMYOePm3U8qZlvPZ2FRd9dg29DEfV18YaqhrM2FUVtyEXMi16f331jBrANf99i6izq4geNob0+JDW7UnbhaE6ez379ImkxrQvqXnC4FfUl1LhnsyEwT3w0iuAoGbNNyzKUzEm9GbQ4HTCjlqL07qPVWtzcOqDiIxNIDak46kgReNOYGRPAjv8zZPEaaKuIp/iKidoe9CvfzS+Rj3ao58NCDOFBXspLq1FRU/ixIn0Ozxnrzpo2LeJb9/7H58sqSAyNZ2+IQq/vfsg20y9uOiOf3HdpET83P7ESHVhx9TYjPWEr2axUd9owu5wYjU1UVdbi3qCjSlaVzy8PNBr23cpdzrqycoqxImGwIgo4mKj8dS1zhzampoo2plJqSpwjUxhWL8IfNwOLeW0NtNktuGwm6ncvYKPX3qejzf34IWF73FlfOBxGxZb1lZKh9/ERT1bV3Nzdja7m1pQFU8GjRvFHx0btN70HDqZnkPbWqPAYbNgNluwO2w0FG3i21ce4+lvSrluTg4vj/lrty7Cbqax2dr6ScrRrPU0mm04HArNjfXU1mpOUFcUtK7ueHno0ba6629b3Y4dFDlB4xtMTM94Ir10tDr0jibqS7aQVeQEl1DSBvcjNNDrj7II1UZV7hq+fusNflhfiqt/EHpLOXuy86lziWbidf/m/lvOJt6/rVG9djI3FzPshoeJa3X4WsjctQeTzYbiOZoxIw41fTpjFCOmXs2INn6Tam9k76YFzHr7Ixbnt+AT4Iuo28uOXYU4gwZy2W3/4rbpI4gy/pk+5wKbqRGT1XnCWYJa6hsx2xw4rGYa62pp/fD8KIoGVw8vPF11nIRJULoogaOlmWaLHfVEO1TYabI4cDqsNNfXUut+gmuUosFF746Hm751nW5TEzu25+EA9J5GElJT8NVp27j2CCpXrmSPQ6D1CadPciq92j3Yw430GS/z08QdvHbNFD4oMxDdJ/GIsSL2vCxKky/ln4mtQyvL3gLyqupowZ3R40fjc/ADjTvh/cZyRb92FuMwGq2RKY9+ReiYn3jh/ofYGBpFTEhIGzNcnIiCzs1IaLSR0I4Xo8vR+0dz1s0zuS7zdt5ZXsIfPTOddSx68CqeSZnHfSMC2xm0nTxOZx1Z2Ye1wTFRx2iDG9m3I5OyA23w8H4RGN1OVPhGFs6czJTnVxN1zVdkfXBRqyXse3ZRMvByHujTRn3Nzye3ph4r7gybOPbQzYvWg8jk8VyV3LHfWjvnHgZOexs15TY+XvAyY40n3vknDH6VgGH884mhKIpm/4VXreH3r+dSjDcpfQYxKDW01UXAUb6ENbsduPgGEJ2QSPgZ0OVOWC00lpVS6wCNXzSJsYF4tVFBREsxu7Mz2VflQGNIYep5yej/yHA5aS7eyEdPP8QXe2O46+VnuCg9EjcNIMysee9u7n3wJoqqXmLmVUMI7OhACfNm3rznGZaUmHEcN4ASWBrKydlbjP6Dx8ib59PGKP5DFEWLW/BgZsy8jUm9gtp1Uqu2vRQU2xGKOyHh0URG+LXRxDuprylg46YcbLgRnzGU1Khw/titqoPylbN44Yft1NXVY64tZNO2XGqd4e2ahtB18H3MT9e0MWrVyp4dWVQ2W8A9jZHDAtp3oyFMFG6fy9ezFpNXW0uDrZasxZk02b07JZvRuOE97n5uPqUtJ8iOCBt1pbnsLRO89fBN/NTGDBqHKChaPSFDr+LR288j2q89vc/tFObvwyYUPPyDiI6Joa0be4epifw1a8mzgntMCiMGxBPsdWhPNub/zmuPvEF16o289cvZ9PbXo+Cgdtc8Xnrwfl595HI2rL+fN177N2Oijn7M5sLQ//5KhqaNwN6Sz9bMclqsAveMsWS0I8AQDjP5q7/ltfeX4jvhPr56LYMwgwsKdio2fslD9zzIu/93LVszH+LZ/17DgGC3Dt58trD6nXt5ZVExLY7jz+2tWpsoyd1LpfYTHixa3OYAlD8oClq3IEZcdx93nJ2IdycPnuq6rGR+9wxPfrOJBqt6gvNdUJe3l8raal66/XJmuR5nUUVB4+JNv7Ov5ebLz6anbzuCU0cJeQUtCBTcvXqQ2De87ZtutYxFCzfRgo7A6N4MHJRKQAce2ep9I+ity6SpBryMkfRPiTuigXZJnsGXb7Z1PbNRmJtLSXU9qr43o4YFd063MUXBO7gH4YHQ0uxGVM+eRIT7y5cDoCO4z0iuueMmsotfYnFeA46DPSCat/DGvx8l/buXOSvy1OZ/ndYCCg9rgyMi226D62oK2Lj58DY4jBPGvmoLzaqRXkmDGDGm7Tsrl7Tb+eGdtutrQU4OpTUNqG6JjB7+V+uriqnRSWBCP6JGDyOunY8l2hGWKmgOyxap5fP4YVkZGmMv+gweSVKrhkdQtWoJmWYFY3Q4CYlxJ96RpwFhs2GuraNZKOjDehDj79PGHbDAVLSXzO1ZVNh0hIw+n3OT/P/IIqmWOrYt/oJPf69hyD/vY+KAA4EvgOJB6oX3cvnv03j1k/cZmBrP5WkBxw1KW23dCW4+QYQI2/EbC+GkybWFffnleBj9CQkLOcGjMAUXb090HUg7qfZyqmqdKDoDwaGRhAS2FT1ZqMxZzvo9LWh9khg1chCxYZ6HTlBFg1dkMuMnJxIaG09M41Luvfd+Pmv35CFtnXiAvZSt2/fSZLbjGj+C4dHt3csuGIPjGXq2H+Oje5EQvoeHxt5AztbOmFFAoKLHJygETjBqWDhb0DYXU1ANvv7BhAWdIFBTXDB6uqAo++cuP/FRdFBeXo2KFqN/MOGRbV2cBM31eaxauYsWjYGUjGEM7BN96JwQTax5/0nmNo3nhcsmEO9/sO+iDr/E8/jvCyayN13Fz4vf5qV3B5L46HmEHn010mjavCjaSzLZurcWi9OVPqNGE3XCwyew1BWw8MuvKPC9hOvPTj8Q+AK4EDzwah5/oZ68qf9i9Y/vMys5mdjrM/Dt4Mmn6H0IClFPdPhwmGpoLMql3sVIQEgYAScIaBUXbzx0J8run2GECq5eBIaE4ek4wfkgVJRSHVoXd3yDwwj3OMH+1Lrj7e6Cpr13rM4qyqvtoGjw8OtNfFTbzaZj31zmbGhCcfWjd+pYhvdv5031oV+CZcdS1lYqeA8ZQHKvo6P4Y1zPHDXs3pNHZa0Flx4DGR7b1vSbf46wmqjctYkcSwDDe8YRHtgN5+xsi86X/uMuY8ZVWez734/srrH+8UITc+V2tuc3MynS95Ses6q97Ig2OLStOzFHC5W5y9lwWBscE+p54nJrgpny4Nsk3KgjplfwsRY6Rn2tJis7n+p6Cy490hkZ91dvEjREXvIU36VU4RXTE/92Jls7mJNVKZ73LetrFIy9Yxg4JJlW2WXRxIbFG2hAT6+wPvSJ78igsi5MVXFYLNhQCAwJJ9Db2DowVU0U7NnGpu37sBviOf/iicT7HaxIgpbaEtbPnUuhRz+u7xmH/1HHXO8ZSOrQPpif2MCy5ZuZ0H8iIR2oF4r3YO58aXA7lrSxd81n/OsfbxN2zX08ftOoNvuv/RVCNWG2AO4GAkLD2sxi21vq2bFoAbvNrkSOGcmEYckEH36npGgwxg/j3PgDy2/rnEI6K7PYmlOJya4hcvgYerf3LFD0BEQmMzrywP9b8zqlPAdWju/QW3h56C0nXFJYyln24b/5z+cKN858iauGdLSRPeEWMJtaQHHF6BtGaEgb/eNVJzWZc1mc2YxbyCDGjhtDUoTHoeUcOSyYvYmCFg3f/TCchDvHE3LYhVAfew7XjA/hp4+r2LNyAduqzyE0pD33/yrlOzPJranHoQlj1LjEdlzEBM312axeup7NHj7MXzmQqKmpR9R5Y8JkJg9+miWzC9i6cQP5Fw0mzbcDe1UxMOr2FxnVjkXNRZt5+9+38Iv35Tz8zJ0M9DsjrpCdS/Eg+dL7eePSdiwr7Cz89zBuW5XCnS+9zdTwTs5NihaazQIUDe4RvYhuM7NkY/ePX7O+AQyRCYyZei592vHo9UgO9ixZwT7FldTkwfRpZwZLrStgd84+qk0QkjaYPicaC9EBtpYm9mzcSqNfGD3j4ghqb4fhbkDn05OJl99IdnYer/y4iRqLiuIZyzk3/odL0n1OedwjVPMRbXBbN9n2lnp2Llx4oA0e1boNPg6Ndzh9/sRESGptPlk5RdSYNYSmD6VPZ0zloDESldCxnt8dC37VGpbNXk2d4kqvyDTSEtsIbC07WLyqDKH3JSQ+lYQ/OcGtKWs2n8zJpNHe2VOd6fCOHcoFkwYSYjje87HWFI2CghYff388PVsHBPb6UravWcy2UkHk6PM4f1hvvN0OdXlorMti/cZi3MJH4efr2yqrpbi4YOjRA9+mJWTv2sW+uvGEBJ2uD5k0aBTQuHtg9PPHu42fYSpdxS/zsvh/9u47PKoye+D4906fyZT03hMSQi8CoRcFUbBi13V1de2u69rL/ixrXbuuDbHt2nvDBlKl9xqSAOm9l8m0W35/hGCAgBDpvJ/nySOQmbnXmbn3Pfe95z0n4Epm5MmnMizjwGa6u0elNmcTuZW1+KRwssf1o8s2JRonUH7lnnQ6CSQTQY5wQrvIeVDlGhZ99g15viDSTxrHKWP7Etr5bCIZcTgsNBcUUFBat2etRslGYlIEklaJp7WG2kYV9if4VevZuCGX6oY2dBEncfKArtI4NDSkXY5Pvd6I1aRRW1pIWU1z+23KTg/QG+zERIcgKcU0N9bT4lY5sKlf4fgltc9gSTpsMfF0dRNLa1zFfz9YTqvOSr/sczl3dBK/O7poKn6PG4+ix2qzYqKUeQvyUI0Oeg09if3JyACNpqLt5BWU0EIIY7L7YDfu+b3d7/OZJtPW3ILPYCc4yEBb63ZWrq3AETOUtLRkfmdSveuXDHgoWjmTbxdtw/07s/gHStKZCO4zmStP7/X77/dBp8OZOohxw/rwwez11KshjL/hEf7vxtNI7s4bdZBJtKeq7msMbi1bxDc/tY/Bo06Z9PtjsKbib3PjxYTdZmY/l5B0fgEaC7aRV1SKmxAmDO9NUBeJ9/v3fdVQfG5afDocDiv6AxywDyz4DeSweGUDmtFJRM8B9JT2SaoAACAASURBVOziylbOnc+CUhmj3Un6gEFEdXP88FWsYda3P1BxUFeHtuc/Ro0M55SxA4hymPb/6sxgxOJ0YpMM7Seq3U8wmp/qwlXM+n4ZTWEDuO7CKQxODvntDVZl3FU5bK0IYEq1YrF2catap8PosGPVWqksL6Om1guRx2apLZ0hjGCXDr3ehNVm62L1a4CNX77B7BI9KWMmcc6Zo4g9HCcMrYXcTVsoq2kG53jGDd3z1pTWsJ4PPt1MyiknMzQ14sB7gB/z9ISGBaPT+TDbguhqIsmz5TPembkdU+xgJk+7gOFJ9l3fR306f376LdK3Q4+hI4npIu+6pLgaTdJjsYURtn8jPVrzdjbkFFHv1nCNGEm2c8+yPfWrv+ajXCdnTB5FQogJ0OGMGc6Nz73N+EYn/Yb13yOHWVHaqKysR9NZcDiDcdiP/OAlHCV0IYQF65HKJKxOZxdpfDKFP7zNx5tasEaN5eLrL6JXV0nyO2iKj8rN8/jii9nkNajYLHpUZy/OmSQzZ0MrBms2Q4ftuZam6xdro2h7PtuKa1CDBjNsQGSnlu07HtK6nZ9mLoeUYYwdktLlgjW1rYr1C3/gq5/X0GwMwqZ6kWPGMbXvOtYU6Ik5NZ201O7dxdUUP3X5S/nxm8XU+ZWDO54brSTK/bj89F4H60UPgEzNhnl8O3cVlW4rAy67j2dun0ZW8NFx0SwZQgn5vTH4qxnMLjGQOmYSZ585eh9jsEpr+UZmff0NywqbaWuoR0sYx7U3X0yfA/n/1dwUbsujoLQO1T6U4YMiMOwWQWst+cz8dhWmnsMZMzCpy7RZuamIRT98zaw1ZQTaaqkgjQtu/BtTetr3+zt6QOO61lpKYY2K3mAmMil1z5QHFAoW/so2v4TNmUy/gUndLvnhGnI1z7xxAYHfXep7gCQJY1AYcSEHtqBFslhwxsUSqtdQVW2PA1h217F25nv8uNXI4Isu5PxTTyLc0un0pap4qsqp9UsYDPo9q0S0bwVJZ8RoUGlpasTd6gaO0eDXlE5KvAHKNDR1zwUrasW3vPLGYnyRvTjjz1czMbOLfuN/kL9yPbMWFRA2aBzDdpQ/0dyFrN+0neomBdOgoYyM3P0QUKlYu5C5m1pJGN/Viu4TgYHUtCQM5KKqKnvce1Gr+Pa5l1je4mTg2Vdy5Zl9ce3+NkpWUoefScIQDYNxz8olWvUvfDirEqyhpI2YxKA97hAFqFj7C0tLghg4dhTJzvZKM63btrCxsIwWxcjQ7GGE7z71oNSwcu58cqQJTNH99o0yWMPpN/5sequg72LFs6d0Fj8srcMY0Y/+g4eQ5jgePnmNgMdNq1fB6nBiOeD6oyp+TwstHglniLMbq9cVmqurUZxRhFiO4ffTkEiPZAts9KAqXZzL6pcwY8YvlPmDmHDdg1w1PGbv454WYNOXj3D/i3OxDL2Eqy+fQJJDpnD2Ozz7z3ksrPVhGTSK7MQ9h+ZAbS4LluShyxzFuIz2i3bNW8W2vByKqgIYM/syOMbBrhUEVeq3rmPhinX0iR/ZxWeo4a3ewtevP8Hrc1sZftGVXDY6E6e+lTXvPsy99+aQQzDj03uRFta9M7TObCdr6q28mP1XDvLEb3slFGf0ESgRquEuWsb//vMc/529jZAJ/+Cpey6hf+QBTKgdYnpzOilxBijf+xj86huL8UX25ow//5WJGXtb+K7SUrqaT996j+2uUZx1WR+k+f/mz888wCYpnR/vz+5y1j1Qk8O8xfmYssYwJqM9DUTzVJKfu4Xi6gDGrH4MibbvVllHpS5vDQtXbWRI2uguW9PLjduY+d47/NoQz6nnXU6C/CM3Tnua2wvMJH95G332M+g8oOBXMhgwIKHTGXC6nHsGBkohM2euwYue8OjBDOrZ/b5mekc0qY7obj//YJNMTiITepMaoVLW5iEQUKDjq6Kp1BX8yIwZCzD0OYs/X3EhJ8Vad3l/NE1FbmnGo0m4JN1ebhdI6PRG9Hrw+3zI/j36Rh8zDOZYThqUDEV+PG0eFPhtQFCb+Pmx+/m60sKQv9zKDdN673vFezcopd9w07S/8XFOI9EDrmXG908y2q7RtGUDqzbnUx/QEdsjg6jdbrlorVuZNz+f8J6nkRq3vzU6jzd64oYPI1HKab8tK9Ppw9NomvccD35ciCPrEv5222X03CPy3UHSY+zqRKS1sOjV5/mqXCVi8Hn87cZT2fUaRKH4y7s586Z3KPBayL7xv3zx8MkEaa1sXLuG3IIqZF0kmT2jdjuONFpylzKnQM/A83oS6dj1VC7p9HRZWlhtZM5LzzG/yUm/cy7g0nOGHNyuXEdEgOqcn3n6tjt4b53KkD/fz5O3nk/PiP0NEzRqVs7gxqv/xcLmWM648f+497rT95Lv2gW1jM9uuYB/fLwVe+8p3P300/xpcFerzY8BugiGZ2dgmLkET0szfvgt2NLaWPX+dD5aW07ouAf5999HErbX++8qFT/cxZ9ufh/9qFt5+a6/cFK4Bb2kkRo1jfmffMFXikTm8HFk7vYxqVXzePja25k+Lw9/6DQ+WPs2pzk12koLWLdqDaV+ifDEFKJsll3HHW8la5evoS0ogz69YvcY8OWmYn6cfh/3Ti9kwq0Pc80lk0m0G5DQiL/pUj5952JkZ19SevYmurvnaEmPLTSOtNBuPv8oFGjI49s3n+Klj5Yh97qcRx+4hlGpR3aB2+4MplgGD0qG4n2PwUOvupXrp/Xa6xisuKtZ/t2HrJKHccsVZ5HuNFCXH4zWWsGS+StpvDeb3bMz1co5/N9V/+DNRdvRIi/k/VVvMMmh4S7eytrV6yj3S0QkpRJlNe/ynmneclYuXUcgJItemdF7BqhyI+vmfcOCIidn3HAJo5PsSNXrsMnNFC1byKamW+mznyVWDmxst/dnWD8TqhKgrqaGzuVkVaWVdW8+xLO/1oLOQPig4fQ7NictuyZZSUwbxLCTEmmoLKO+qXnHjJhGwJ3Pe/c8wCJrNtfc9yCXjYrtcpZEUzVU2lfc/95Roqoq6sHr7nHY6U1BDDjjDDKVVmoqyqjeURBBUwOUfH0f107fRtLk/+Olxy8h9aDPCils/+ETvt1cTnOrmzaPjKYHzVvGovnLKa6XsQUZkAP+XWqIav46Vn73CXNqwzl5fDZxthMz9AVw9p/GaX2hpb6MyoqdHx6Bsh+4/e8zKAkbxz9nvMT5GdYDO4moMuU/P8Wtr6xAl3wOT/33WaYk7noCRCniu/e/Z0tVPa3uNryyhg4NT/Eq5q7IoUW1YzMo+P1qpzswGr6aTXz+0Q94koYzdlAav1futf1/yU/hJ7dw67tFJI65kn898Q+yo4xH1SDWHZq3idzZ7/C/n3OoKM9l5vufsCCvdM/c672+gI+F05/ki3WlVBas5JuvvmbZ5vr9KjEIEFjzLg+8sZSSmmq2rJjFRx//QsUxezoz0Ou8CxlmAXdBHgX+Hf+sKdQseZvH3pyLu8d1fPLR7fS37/2qSS79lBuuepHtxp5ccsfNDIvoqCctobfasZt1SDoX2eOH7rYOQaXk15/4ac0WappacbsD7eezQAObVi1mdW4rrmAzihxAUX8rs6fJbrYu+Y6vltYz8LQp9N49h13xsHXxWzzx3Gzs2Wdw0bmTOnXBlDDYQ7CZdLjC48jqk35UNG44GqieGpZ+9gKPvjiT2uhTuOvBW5k6MB7zgSfAHlLtY/DUrsfgr+7l2unbSD7tAV587OJ9jMEqDZWrmbuohdGXnEOGy4hO8rEldxtun0xoUjKuPZ6qUjx/Jj+szae2uRV3WwBN1z6+rl+xhPXb2nC6fvu+dtDkFnIXfsO3a9oYcupkenaRTtFavo3lK7YQPeZcRqY40OskvJs2kuOVMYQmEtdVYvNeHNjors/g6rv/QpZDYevsz/hxSznVNdVUluQw779P8NAbC6j2KuiMdgaOGErQAb340U7CkdKPyedOI6NpAwtWraWgoorywhW8fcdVvFXai2sfeoa/T03vcgGVhITeYsYktd+C6Dqu1dA0GVUBg9GI3nAMZ5vqTMSe9CeuOi2csg2LWLS6mKqKEtZ+/RQ3/GsOEWc9wlvTb6bvIemKpiMkLpkYlxVrxADOv+VSejRuZ+l3n/B9vpUrHn6C60/rj7JyJl9uKKa6tpbKkjwWfP4m78ypY8T5lzIq8zipUtJNQcH9uOzG83DW57Bo7jKKKysp3vA9j9/2GAvMY3jkgw+4fuDvdL/bjepvpXDBa9z6wGe4+13FB7Pe57Ldp7gAdMEkpMbgsliJHXwB15/fm4atq/nqo68pCT+TRx+/lZOzDCz96js2lldRW1NN0ZZlfPzGGyz1ZXHRhaeRuh8nQdXXSO43D3PxnbOJOuNepr/9OKcmHh9DvKQzYAuLIdJhwWAw44qIJNh6IAtU9ITFJhBsM2Iw2QgND8MZtP9LinTB0SSF2zHp9ZjtwYRHhB7TJS/16ZfxwE1DMRTP5tu5W6msKmfLgg957OmPKIuZxstv/pPR+0oL0BqZ8+zTfFcNUSddyNmDdx0d5eI1rChoQrUNZVz27rNGEq6oWKJDXVjDenHxw39jYGsJGxZ8w+e/lDDujqe469Ix2PIX8tPaXMqra6mpKGbNz+/x6n8XE3vG9Zw7LHKPwd7XUsz3r81gDUkMGTGa/om7fr6+nF9YUW4kLLofvbvsUnri0eRWNs9+nQceeodCx0n85fY7uHRCFvu45jly9GbiOo3BizuPwY/MJeKsR3jz9Zt+ZwyWCIrI4rxb7mRq5o7IxreN1evKcPscjJwwtIuUEwlXdDwxoU6sob256IEb6NdazLp5X/PFwmom3vVv7rhoJOYt8/hhXT4VNbVUlxey6of3eP3DVaScdQ1nnhTeZXBqDE7ilItu4NKTU3dcjHlZv3Q1tX6VsBHj6HcAqx4PMLqSiD77SWY0B/Pcxyt454l/szI9FLm+Bl9kPyYOjWfOhhK89v6MGLrnwXbMM4Yz7KyruaNZ5oPZH/Jy7iyUqm0UcTKP/PdvnNkvbO95qzod5vAIXHoNj6qg7KULmyrLBBSJILsDa9CxPHUuERTZkwvveoCWl99j5vSnWOOSKS1uJeual5hx1clEHbI4QyL8lOt47NZGZizzoMubySvrqqn2uhh58V85Z1QqU7PCsT03nY8ee5St/ZPQN5dToyZw+rW3M3lQ3DE9UB8MkslO37Pv5r765/l49hs8syUcX2UJ7rjzmf7EVYxNPrCrFsXbQP7Cj3n25W/wDbmOt++9mmExO06bmoYmdarOIIUy6ab7ubVpOmtUO5u/fY2V1VX4wwdw2V8uJjsZ0oMtPP3G9zzwUDn94800VZShT5nIdX8/i/4xv9+6XHZXsva713j4PwtJuPwZHrn7QjKOp0VuJieZ4//K3XfIfLtRof9ZVzA2cx+5qLuTjAy++l/8s3E6SxojmXDhJWT3cOz3BaE+9QKe+HcBz3y+GUuvU7ny4lEc2xXdHIy/dzr3aI/wzVtP0JDkpLGiBvOAq3nlL+cwMM65zwsLrXEpn/64HUWy0XvChN1qUytUrVlHblMblgHjGLFH/rtE8LALuOOmGoJ/KSWsbBbTX6ilolYha+pNXD6lL/oxCZgtr/HDWy9RtyINu6+SonoH4654gPPHpHRZpcFdPpuZC6oJihtArz69CN1lszKFc+ZTYLAxvPcgMh3H9Id3cGg+Sld8xKN3P80yXzJn3vR3rr9wNDFH7WAhERT12xj83fSnWL1zDP4PM66asB9jsITVmcKAk377l0DpJtYW1OKz9OfkEcFdPidkxMXcfXMNYXMrCS6ZxevP11BZL9HnzBu4bHIfdCPjMFte56fXn6e6Xxo2TzklTcFMuPKfnDtq71VFzM5wevQN/+0f/EUsXVWIVw1i4rjhHMio1I2pRTtD//Qwb04pZeu2UpplC5HJqSTatvHUxU/hkyFk8JmMTT6GZy33wRCczpQbHmLQ5K1sq3DjiE+nZ0okv9t4SWcgKDaDxGCJDV4PXq8Xjd2S41WFQGszbaqFiOgYQsOO5eAXkExE95nM7U8MpCC/gAbNRWKPNGJdlm6USDlApngm3/Yio8py2LitCq8xlJSMTBLCdtym7z2Vf748gq0bN1HUIOOKTiatRzKhJ0wHrd8jYQlN5YybH+OkojwKa2VC4tNIiw3FfIALpxRPPTnzP+WtT5ZgH3M9t/15Mj3C2tcD+N1V5KzMxTFoNKmdBlhz4gTufnUYpZs3sr2mDVNYIpkZKTsXTvU953amj5nG+o3badLsxKakk5YY/vvHISA3l7L023eY8W0RA65+jL9fOoJQgwQoNFcUsq2slZje/Yg+8D6uRxEd9pi+XHzvK1zczVewx4/mludHc0t3nizZ6XfJv3j3km5u/Cikd2Rx+cOvMSF3M6UteiKS00mKCmZ/ypTK2zeyrtaLZEhmSHbqrpMkWhNr126hwa2RMXosCXoN2e/G7TXgdO5YmG2MYvRVDzF46lY25hXTojlIzOxDWpSt/XyWNoabHu3Pmblb2FbpxhIWT4+sdCL2kfvjyVlFTouB8KgU0tN3m6xSq5g7dyOaNYqMgQMJkwK0uX1IegtWy/E5tu+bTN3Gb3jy9vv5usTOyD/dwN+vPovMo6Syw15J5l3HYFwkpacR0+0xWKFq82a21jViyBrO6Oi9/P8boxl7zaMMOSufjXmltOIgMbM3qZE7vq/p47nlyYGcvWUL26rc2MITSe+Zts/va1fkinWsyG9CMfdl7KiIA5pw3c9vsUx93hJ+nr+OWlMWU8+fQHJYEv3Cknb8XqFq7mzmbqkhYEji9KvOIuV4Pj70QcT06E9MjwN4jqTHEdKHQb1DWFbfRGNjEyrOXU6CWkDGXVZOgzmKUenpJIQfqgNrR1UJkwGD3nCIZ+h1WFwxZJ10JLq667DH9SY7rneXv5XMofQYPJoD+RiPBpKkQ2cwYjJo6PWH9uSrM9uJyxhEXEb3nq/6mshZ8Dnvf7+F6AlXctEZw0lwdeT4arRULuWDV+cw9oVRuwS/7RsPIr7PMOK7fGUJc1gqQ8amHtD+BJpLWPzNB3yxvI0RV/yDC8f3wtURzKttFK6ZxRe/BjgrvR/R3V+vu086nQ6D0bSj6suh2caJxmQyodMZ6aLE7UGlNzlI6juMpN9/6C40jxevpqGzZJCRvut0m9acx+pNZbTKsYwen4FBCVC8+ht+qRnIpWdkdVpJL2GL6sHQqK7PWJLJ1b5vXXeb3YPa1oZPshAXFk/0bjVJ1ZrFzF7jxupIZcDgeKSmIhb9uhlbyjCye0cdhnrsRxONlvyfef6+f/LWilZ6nn0Xt//9cobEHWgL9CPlII7BahM5m/Kprg+QesYIUoz7ih4kbFEZDI3qevCQTMEk98smufs7Q836tWxpaMWQMZqxe+m8uDf79Wi1bjXvPfMIL3y5jDpjbwJ9xnDr4N8OYK01nx++mM3mah8Jk2/i1tMST7CDY3/osIcnM3ziKD54tYRtxcU0Kwm71NEPeJvJXb0ZLSmLIUMHEXvIZiH1hCUO5pLrrsHaN63Luo9HJa3LPx4VDl7tyv1gdJAy7AKuswYYkLz/dQ0PN032kDf3Hf7z5ny0rFMYEilRvHElJQCahhzwULLia7bQm0v3URf1YJFbyln8xRu8+cN2ooedSoKpkY0rl7bvq6YSaK1g+ZwV1NlPJXx/qxp0gzE4lpEXXUe4rhcJR0Ex/GOfnh5Tr+OWHpH0OQzfo+4wJKSSZjeR02LF0vm8rrWxfdFcFuWU4nWOIruXFSXQwvpZ35KbkX1IJyYsaT1JsszGYDRh7Hw3R21k5UcfsbgebGn96JNsoCE/h1VrNpIVN/KoPd8cKr6yxUx//DFe+Xk7IdnXc+/91zEhvYtqVycAzV3EptxiGjyRnD0yA9ORXOSntbBpbQ61rQGSzh1P+gFOuO7XwwPbVvLjorUU1jQjRTh27fiktbLp50/4YNZaAmnTePL/LqXX8ZQ7dxAZgiI5afJlnDn/IeZ/9yMTR/Tk5MywHR+CStGvb/PeIh8nnXkRZ4xM2q9buN2jwx6VwannpYDBcgys4tVQ/K0UlRRT0+BGbasgN7eMluQwXKYjcwrSZA81W7ZS2upF1bwUbMyhZngfwm171rQ96HQWYntP4LwMDYPlaP30VIrnvsjdd73IvEIfrnVb+PXz3YqZqzIej5/kc6YSf4jbMymeOpZ//gwPPPoe6xv0hKxbw8xd7z2jBny06qI44+Yr9rs/fHfobeH0m3gevTUD5qP14zuWSDqih57HFQN0WLpabXwU0MVN4Iqzsvhp+lqWrWhkyphgCDSTt+AL/vf1IspbVPTOCKJtOjxlc5mzJZZJVyUe0gY7joyzOX/8B7xbnsfW7W4G9AwCbzkL/vcyby+tw6STMAZHEirVk7tlKz5rMplpe3YmPZ6pjZv46IV/8/IXq/AlT+PpZ+9hat+IbtS8Ph5oeIu3sqWonNbQfozs7TqiXVA1z3bWbiql2RvBKeN6H3Ct5/06tnQWM2ZrAmMuvoRL/3oz05I76tt6KV78Gc+/8F82msbzwLP3M63fcbjQ7WDRmYjsM4mb72lGfvoNHr6tivXnT2FwvJ6iJV/y7ifLCZ56D//8x7n02Fvt1INE0hkwH+25W2qA4gVPceNtn1KOhOJpob5RT6itnE/uvpyfHjSC3kyfsx/iv/dOPPT7o3nIX/gxTz/yEivqNLSAm7omidBQM2v+czmT/mtE0hz0m3IVd957Gb0O2ZS6hN5gQn80f3z+5bx455P8sKEBvwZNzXVdPszgjGdocgqHdj2NSn3pL7z6xAwWbWtvbdxQV9HF4ySC0hKIjI7uVhvX/SbpMJqOhYvOY4fOYMF2NB8PhihOve8lnmq5hdf/cSm1EwdhayqnOagnZ17xEKN7T+fuZ5fwwoP3E1aUT9xlTzG224V19485tBeXPfAvah75Dy/fcQNL+0TQXFqNrf8Z/OPRizg16nru+/ITHr69ELvmYtJfLjlOmr/sH81bxs9vPcfz/5tNmW0E/3rlSS4eFH2EF0O72fTT99T2msbYhMP9WaiUbd9OYXkN1l6DGRRiO6KxnlyUy8biGryO/owdcuDVmSRN248btnIxH992PS+3TOT5p25mUJiegLuaFV++yCNPfUhx7Jk8+MhtTBkQh7XLzmVCZ5qqEGgpZ/3iBSxYmUNlq4YjugcjJ53OyMwwTF10oDpRaUoAv19G6/ISU0Pb0RjEfKiT/XZQFRk5EEBB6vIz0jTQGQwYjYc6l/pop+L3+thLUZPfSO2BvKnL7hMHj6YpBHz+/dgfHUajCYM4jwkHnYYS8NNaV0xebjlaeAo90mJxmfWgyrjLc1i+sQpXz2EMSHLs0fb1kOyRpiJ7W6gu2U5BlZ+wlHSSokKwGiXUgI/abWvZVAEJvfqRGmnjhDks1CbWfPIMt937HAtqk7nh9fd44vx+2A64S+JB3q2i97lg2o+c/9P/uDDscG+8mp9euJfbH/oI13Uf8el9pxHjOFIJrgoFX/6LK+54ljWJd7L2mztJtR/Y7cP9u7Q0JHLh4/8h6JWnuHPqKHxGPd7WNqzxg5h6zztcfFo2CS4xj7G/JJ0ekyuBk067lJNOO/iv3/l6puPPkiQhHcl7FN0k6Y2YrUfPd0unN2A6qqdcjxY6TJZDtGKsGyRJf1Ttj3AiktAbzbiiezAkerdFa3ojjoR+nJxwmPdI0mG0uojLGLjHola90UJUz2yieh7efTrSNKWN7Qs+5umnX2NxdThn3f8Ed5/R+4gHvoq3mM+ffZO8Qdcw5ZAHvir+NjdeRY81yIZRB0p9MXm5eVSqGUwelkCQ9fAFvqq/DbdPxWi1YTHoQKll46ZcKuolBv1pJOHGAx+T9/8ZthSm3v4KU28HxetGNgRhFjHAEadp2i4/qqru/LOiqsiKhqy0VwWw20zodbpjMggWBEEQhENJUwNUbviZ1556km9yTYy48m7+efl4YuxHMtjRCLirWPHhv3nyu2Ym/mfMAdWz7dYWWzbz3gMP8nFRKre88DinRfsoWL2MhSu34xpzBaf1SSDocL0lWhMrZ9zFoz+2cfItT3DThAiatyxmzuKNtERM5NIpGVi7sfanW7uvtwSJag5HAVVVURQFn1/G7fXT5pVp8wXw+BW8PoVWr0xTm0yjO4DJqGfK0HjCnNZDXh5LEARBEI41LUXL+N+z/+LthS1knn4Dd14/jT6xtiOXhqgpuOsKWfrVazz61CcUhV/OuYNdh3yz8pbv+c+7M9liGsyE/BKSti/no/c+Z7ttLDffcBGDkkIOXwwob+K9p9/ip8YkXCfnsz18Mz/890OW1kRywe03c1ZWVLcWIIq522NUxyyv1+dn6ZYa8stbaGjx09QWoNkj0+yR8fpVOlpnB1n0ZGeGEeqwoGmamP0VBEEQhB3Uxs189sIDvPjlVsKzL+WWW/7C2KzwIxYkKf5WSjcv4vtP/8fbH8xkTYmeCQ9OIstx6Eua6OOHc+G0ycyuikPb+DmflhbTFDOJO68+m4nDMgk2Hcb4QZ/EpMsvoGC5jwjPWj79rJRKpQeX3Xcb50wYSEQ3p6BF8HuM0jQNRVEIBAI0tbSxKKcOt0/d+XudBGFBEgmhRsIcZqJCgwizG1BVVcz8CoIgCEIHbxEzn7+Xx95egpZ+Otf+42+cOTTxiNTA1/wN5K9ZxqKFc/n5x5+Yv3wTlS0yhvjTOHNcBkH701LwD9LFjOLmR6IYl1NEo0/CMWoqaekpRDpMh38WXBfH6Xc8TfKGLVQ0BzA6x5OSlkZceBB/JA1bBL/HME3TQFPpE2+muNLMwnzPzuYPGuANQEDRiHHp6ZtkQy+1p0no9XoRAAuCIAiCUsPC1x/irpdmUu0cyk133cefJmRyiKuN/kZT8DRWUbg1hw2rl7No0TLW5eSzbXsBFfUeFADJJ1eoaAAAIABJREFUROqoU8hOieDwlLaXsEVmMCyym609DzJdUDR9sqPpcxBfUwS/x6jO1RvMBh3DUkyU1HkoqAdJAr2k0eqDLZUypY0trCzyc1K6l+yeEYQ4wWAwoNPp0IkFcIIgCMKJSHOz8eOnuPu5z9nSaGHYOecxJLyV3JWLyT14G0FTFWS/H4+nDXdrC02NDdTV1VBTWUFZaSmlldXUNzTS1FBPbX0TXnnXmoySNZUxEwYRH34E84+PM/tX51c46miahizLeDwempubaWhooKSyno9WB2jx6Yi2K6SGQXGTnopmUDUwGXTYLXqyM0MZ3TuChAg7RqMRvV5/zJZCEwRBEIQDJ1M250Wu//u/+XFjFQFNh9nuwm4+FFOru1ZkUlUVVVFQFAVZllFUlb1HYhLOwX/m9Zcf4bxhcWLG8iAR7+MxSpIkdDodJpMJq9WK3+8nKtTPaVktfLFBodajJ1mSOH+QiSafgdXFATaUB6hrCfDdyipmrauhb6KDiQOiyIx3YTGbMBj0OwNhQRAEQTg+aTRt/JyHH36ZWZuqCGgAKr7WBnytR3rfdqMLZsCIEWSlxYiA7SAS7+UxrCNv12q1ouy4ikxVYUybmwXbFDZXQWK4gd7xVlKigpjkVVhT7GV9iY8mj8KagibWFDSRHGljbO9w+iaHEOKwYLO21wMWKRGCIAjCccdfyJxvf2JtsZ+wmLgjvTf7pAsdyCmjB5IcdmL3DD3YRNrDMa4j/cHr9dLa2kprayvVDW4W5LWRXy1zSm8nQ1Lt6HQSqqoiyzJtPpm8Sh+by31UNMo0e1UCska408SQ9GAGpYcRFWIl1GHBbDLsDIJFICwIgiAc+xTaGuuoa2jFrx7dIZBkshMWFobTZhD5vgeRCH6PA5qm4ff78Xq9tLW14fF4qW/1U9OikBgRRLirvS6gqqr4/X5kWW4PmP0yZfV+cit9lNbLVLfItHhVbGYdfRKc9E0OJiXaTmyYDbvNLGaDBUEQBEE45ong9zjREdh2/CiKgk6nw2g0YjAYkKT2md9AILDLjyzL+AMytc0BCut8FNcFKKkPUNuiYNTrSIiwkhnnICPOQY9YJ2FOy87XE7PBgiAIgiAca0TwexzZuXJUUVBVFUmSdtb07QhSOx6zexDcEQi3eAJUNLYHwNur/ZQ2yMgqhDtMJEbY6BnvoG9yMAmRdgx6vSiXJgiCIAjCMUUEv8eRjlIqHeVUOmZmdbpdE+VVVd25QK6rIDggy3h9AepbZSqbAuRV+smv8uP2qQRZDES6zKRG2zipRyg9413YLKZdyqWJQFgQBEEQhKOVCH6PUx0f694C0c5BckcQ3DEj7Pf7dwbC/oCM2ytT75bJq/SztthLvVvBqJdw2AzEhVoZnhnGoLQQQpzWnUGwmA0WBEEQBOFoJILfE1zn2eKuZoN3DYQVfAGZrdUBlm33UFgbQJLAoNMR6jCSnRHChP7RRIXYdkm3EEGwIAiCIAhHCxH8Cjt1zAR3BMJ7C4JlWUZWVMob/Cwv8JJX6ccT0FBVDYNeYlCai1MHRJMa68RsMmI06EW5NEEQBEEQjgoi+BX20Hk2uGMBXVeBcHsQrFDXEmBjmZ+cCh+NboU2vwpAWnQQo3qF0zsxmFCnBbu1vYucCIIFQRCEo5mqBPDLGkajEb3uMI9XmoLP68Eva+iNZsymI7APxzkR/Ar71LkXeUd94K5mgxVFodWrsLWqvXlGdYtCU5tCQNGICjYzKC2EPknBxIfbCHdZMRkNOxfiiUBYEARBOFqo3gbyVy5gYa6fvhMmMCg5DONhGaZkWsry2ZCzleLKBnyqhNFiJzQynvSeGSRFOjGKIPig0D/44IMPHumdEI5eHYvXdDoder0eg8Gwx09Hfq/ZqCfKZaBnjJlolwG7WYdeJ9HgltlU0sKGwibK6tpoafOjKCpWk4RBr9tlW4IgCIJwJHmLVzDj8Tv4v9dXEz5iDEPSozEf8u7CMrWbfuS1J/7Ne4vKMEXGExNqxVOxhV9/msncdVXY4tJICg9CL4bKP8xwpHdAODZ0LpvWEewajUZkWcZsNu+SFmEKBOhhMpAcbqK2VaakLkBxnZ+iugCrtjWwtqCJpAgr6TF2eia4yIhzELajUoSoEiEIgiAcSTpHFP3Gnct1vRM5tU8C1kMe+IJctZw3H3mQF3L68dzbj3LewAiMAGobJSs+4cF7X+WxOiOxT19N3xDLod+h45xIexC6rXO5tI6UCFmWd0mH6Kgb3OKRqW5qb56xtSpAQZ0fCYkIp4mECCs9450MSA0lLsyGyWQUKRGCIAjCkaEpeN1u/JiwBVkwHOphSPOw9q1buPTuzwi7dS4/39MfS+dtBqr55uFruOXt7Zz54lc8f24qYmT8Y8TMr9BtnWeDO1opK4qCyWTaJQj2+/2YTTLBQTIJYTK9YgNUt8hsLveTV+ln9TYfW0pb+XVzLT1i7WRnhtEz3oXJZBTl0gRBEITDS9JjsTs5bPOr3jzm/LyastZwJo9K3TXwBTCG0TsrBZc2h88/XcCD56QSIobEP0QEv8JB0TFT25EWYTQad6ZFdF4gZzLJ2CwBIlwyKeEmRqYr5FT4WVfipai6jbI6D8vy6okPtTKmTwTDeoZjt5pFG2VBEAThkNLUAO7Gerx6F6EuC4ch2wEAuXADqwqqaFOTSEoxd/EIPZGREVjNeqoWzGWl/womdvUwYb+J4Fc4qCRJ2pkTbDAYUBQFs9ncZZUIk9GP3SoTE2wkO81CfmWAJds9lDcG2FzaQk5ZCx8vLGZ830jG9o0kOjRoZ17w7i2bBUEQBKG7mte9w+13vsZGtxXN00TkhJt46LZL6B9tOcQpBhrNpWWUN7lRdDYc9q63ZrKYMOp1KLX5bKlSmZgoxsA/QgS/wiEjSRIGgwFN03ZZINeRFhEIBPD5fMiyjNEYYGCykb4JZoprA6ws8pJf5afVq/Dl0nJ+XlvFgJRgxvaNIDnKid1qwmQUC+QEQRCEP0DzUz73Gf7y4GYufuF7Xu3t4ZcZ93LjP1/m3V7p3Hf5GML1Ox6r+CmeP50n315EnV+luwumdNYwhk2+ir9fNBhQaWhsxOPzo+kN7YvcumIwYtRJSGoN5RUyJJq6uXUBRPArHAYds8Gdy6UpirJLpQi/34/f70eWZdKiDaREmqlrlVlf4iWvyk+jW2FJbj1L8+rJiLUzomcYmfEuwpxWHEEm9KKDnCAIgnBANNoKZ/LIsxs546XX+XN/O1pbMXKbF19bE7VNLXgUoCP4RUJntOIMDQO5+7UCJJOLIEvHzK2G3+tHURTQ63/b1G50ej16SQLNj8fb7U0LO4jgVzhsOoLTjmC4Iwg2mUyYzeY9qkRE6gOMtxsZkiKztdrP1mo/FY0yWyta2VzSQmyIhYFpwfROCiYhPGhH8wwxGywIgiDsD5XKleuQTruRv/S3A+BvaqRkSx71jkgSosJxdI6S9EbiR1/F46MP5j5I7Myr0FTUvT1M03bMNLdXWRL+GBH8Cofd7jWDNU1DUZQ9Fsh1/BiNAQbZjGTFmClvlCmo8VPSEKCswc/3Kyv5dXMtmXEOshJcpMc6SIq0Y7MYdwbBIhAWBEEQ9qQjLPsy7nImYgVAobmhjI2bCjElTqFHfByOQ55aK2GxWjAY9KAoyHt5lKYoyKqGJtlw2EW+7x8lgl/hiNp9NthoNO7MCe4IhDtSIoxGGZtFJincRG2LTHljgKK6AIU1AVZsbWBDUTNxYRbSou30SnTROykYV5BZlEsTBEEQuiDhSkjH1fFX1U995UY2bg0QPy6dpPiIvaYhHMx9CA0LxW4xIyk+vP6uZ3UVv5+AqoIxmsQ4Ebr9UeIdFI4KnYNgnU73uykRJmOAKJeR9EiF2gSZkno/uRUBiqvbKKxuY832RmJCq+iT6GJwj1DiwoIwGAwiJUIQBEHokub3ULt5JbltoQzpkU589G6LyjSFxq2L+PHXPFr+QM6vzmgnpd8oJgxKACSCkpNJCnFi3NZEba0CUXvsGc3NLfgCMobkfgwOE2PYHyWCX+Go0nmGtiMINhgMOxtodCyK6wiGjcYATptMXIiRXrEKlU0BNpX5ya3wUdPkY2tFK/M31ZAZZ2dUrwgy4oKxmI07g2xBEARBAAh4WshduYZGVwzp6enE7tZtQlNlajbO5sP/zach8EeqPYQz2hOzI/gFQ2x/hmRG8cWaAvLzfNDbutszZCrKK3F7ZVJOn0jWXktCCPtLBL/CUWv3lAhVVXfmBXdUidjZPCMQwGIKEGo3kB5ppjHTxoZSHysKPJTWeqio97Ist57kyCAm9ItkYHoYdqtJNM8QBEEQAPC0FbJqTTH26L6kpaVj221YkPQmUk+/i3fH3drtwLf9hXQYzZ0CXFMKU84awys/5LDgx0W4z5lCUOfH+wpYtXYbDWp/brp86B77JRw4EfwKR73O6RCapu2SEtF5FnhnSkQggMUkE+HQMybTysYyPysKPJQ1yGwqaWZjcTORrmLG9YlgQv9oXHYLRqNhZ7k0QRAE4USj0VaxmFX5RqJOyaBHemgXHd4k9OYggs1BXTz/j9ATf8bfuO/nX/nr+3fzwFn9eHRiDAadhKa2sOmr9/lwfjG9rn2Wa/uHHeRtn5gkTdTMEI5BmtZe7kVVVRRFQVGUPTrIdfyoqkpAVimuD7CmyEtRXQC3T8Uva5iMOrIzQxnVK4LESDsOqwmzSeQGC4IgnFA0hQ0vncWYe9aSfc3jvPzUn0g93NODnq18+shdPP1jA32nnsOYDBeNeUuY9et2wsZdxX03nEF6mPUQd5w7MYjgVzjm7R4E795KuePvsiwjKyo1LTKby31sr/ZT71Zo9qoY9DoyY+0MyQglI85JdIgNh82EXt++1lcEwoIgCMcvTann7Uv6ctPCCK58+G2evXog5iOzJzRsW8HiVTlUNPkxBcfRs/8g+qRGYxP36g8aEfwKx43dZ4N3D4I7/twRJLd4FLbtaJ5R1SxT26qgqhATaqFfsoue8S6Sox1Eh1hFuTRBEITjRKC1mu3522mxJpCVGkOQSUeg/CsuG3ExiyLO5pE33uDPA+xihvU4Jq4jhONGVx3kulog91vzDBmnzUCvODNlDe01g4vrZcoafHy/spIlW+pIj3GQEeegZ7yLlGg7FrNRpEQIgiAcq7RWti/7kqeefIeizCt5/t5L6R1Sz0//eZ5fm+MY/dfLODkrSAS+xzkR/ArHnY7AVK/X71EzuKN5RsdMcEfzjDSTgYRQE/VumcommcLaAFur/azYWs+6wkbiw2pJjQ6ib3IIWYnBhNjNooOcIAjCsUbzUVOax/p1eSgxdWxfP49liz7k1S8aGXPj/3H7lROIN4tz+vFOpD0IJ4TOKRGqqu7SQc7n8+2SEhGQZVq9Cg1umZJ6mU1lPorrAuj1EiFBJmLDLPRNCmZoZhhRITaMBsNhC4IVn5tWr4rJGoTVJOoUn+i0gJfmFjdYHDisJnRizBaE3yHTWLSG7z/9kmWlXszWIIKCExgwYgj9e2WRFGYRs74nABH8CieczkFw5yoRnXODO4JjX0Chza9S1SSztthHXqUPv6JhMelxWo30SXYyoV8U6bGunTPNcGgWyKk133Dd6Xcyr8lA8vALuPvR+5gQf+ibbwpHIS1A3dZFvPv8s7w/JxfXqffy6r0XkhlpOdJ7JghHP1XB29ZKa5sXWdNhstpxOazoRdR7whBpD8IJpyMnuCMv2GAw7JIS0TkINvr9WM0KLquB1AgTjW02Vhf7WFfspbLRS/U6H/M21JAeY2fyoGgGp4dhtfzWPOPgUSn5fDofrM7FrUqUK78wb+nFjDmvhziITzBqwM3Gb5/mnvtfYnZeAwFFIrlfA76AeqR3TRCODTo9FrsLi911pPdEOELEuCmc0CRJwmAw7AyEO1IiOhbI7dFAw6gwqbeBkelWcir8rChoo65VIa+shdyyFqJcxYzvG8nQnuFEBNuwGA3odAehlXIgnw8/WIhP7yA51UVZaQGrly1h+9R0MixiuuJEobk38fotV/PQB+tRYxLJ6htFRU7ekd4tQRCEY4oIfgWB32aDdToder0eo9GIyWTaOSO8eyCs18sMSdEzMNFCQY2fdSU+Sur9NLr9fLSwhB9WVzIwNZjhPcOJD7cT4jBjNnU3N1jDve5LPl3tISjxXG66J4a3b36FzWuWsyH/bHr0dXaZo6apMp7WZlrbfCjoMdscXd7a02Q/7tYW3B4/qs6AJciJy27u1N1IQ/Z58Phk9JYgrCb9rttTZXxeDz7VgNVqwdixAU3B63YTkMzYbGZ0qp+2lhZaPX4w2QgOdmHuyNrQFHxtrTS3elAkI0FOF3aLYe+5d4ofd0szrR4/KnpMNjtORxDG4zwNOrD2A96c3Uifabdzw81nYVz+GvfcnUfbkd4xQRCEY4gIfgWhk86tlDsC4d+bDc6I0ZEWaaK6RWZLhZ+CGj+1rQoLNtWweEsdmXEOhvQIJTXGQUyoDVeQ+cDKpWnNLPvyJ7b4JNInX8pZo0wU9HqLGVvWsXp9LhN7D8G5S9Cn4W+tIXfFQuYtXMK6rRV4JBtRKX0ZPnYik8Zl4ZIAFNrqStm4dAFzFy0np7iWgNFFXI9BjD15ImOHpmCX2reft+h7vl+4lfDxl3PxiETMht/23V9XwLwfvmFJTQxnXHA6AxKC0QMBTzE/vvkeBc5BnHLKANS8hcyeu4gNBQ3owtIYdvJkJo09iUSrl9Ity5k/Zx5L1hfQqg+j57AJTDntFPrH715ySKG1qoANq5bw66/L2VRUgw8bUWl9yR4zlhGDsogPtXbRlnSHQBs15QVsLaykuc2PCmBwkJDVl57RZhpL8sjZVk6rYsQZkUjPrGRCrcajZgGMIe107nluKsMnZxNrqmLWiiO9R4IgCMceEfwKwl50BKgd+cG/Nxsca9AT5TS2zwbX+imsDVDeKLO5pJn1hU0khlvpkxRMZryT9DgnkcFWDDuaZ+yLWrOcL+fk49cncdp5Y0iMqGfU+P68/0Iuy1auo3DyQPqF/XYoq74WNsx8ifsfeYe1TXaS0xJw6jxsXjKT9z7J5aM1LzPBDIGmUhZ88AQPv/ANJboIUpKisCpFrJ/7OV/+VM77sx5kqAlQalj904e89MKPxPpGcPbQhE7Br0Zb+WZmvvssr27qQ+iQk+gVH4xVAl/zej5++nF+DRvNlk0ZbP/lR7a16rHp2ygt+Ij33vucS+95gj9nFfC/l95i7pYmLEEGGivK+OjDT/l5zSO8/u8r6Wnv2JZCU9EKPpv+PC/9dw5VlngykiMw+gtYs+AbPvrwC6bddCd/v2wSPcK67s2kyR7qy7ey9NsPeO/zeWytbUOXeh4vvfkIPSKgYt3PPP/Y6+Q7sjn/ksuJTokn5I8Ev1oL21auJKe8CXmfS4v1hPUaw+iMfecg6qJHMu2cHX9RurtTgiAIJzYR/ArCPuxeM7gjN7ijg1xXs8FGo0JwkIHMaIXKZpmSuvYGGkV1Xn5cXcHyvDpOHxLDqYPj0O0IrvdOoeTXn/m1sBFj5kVMG+LEZJboOXwCvd5ZxvplK8ktmEqvsOidB7OnMZ9vZ7zBkuYELrjhLq6cnIVL56GqaDPLV8uESAABarat4Iv/fUq+ZRjX3XITZw9Pxqo0UbZ1A+u3OXDunh7R8d89gjht5y+13f9Zk6nduoxv3FX0H3UR903JJsHqZv1nz/Dguyv49Jl7yElS8AUN4ep/nsHAeDPVKz/l6Re/4Nd3nmTG2Wfz1KRQJEBtKWL+R6/y3IxZ+Pqfz/1/PZ/hWbEY/fXkLfmWN1+ewcevTScpNYXrpvTZbTZ8x+dpDSNz+JkkJMVgbq7ggfcW09DixxEZgdkQwGQLIjTxJC6+5B9cc3p/wix/MI9CLmDmy4/z2oJ82tR9RL+SkV7Xvc/ou4b+se0JgiAIv0sEv4Kwn3ZPiejcPKNzBzm/348syxgMAYIsBhJDjfSKVahqlimslalqUdChoikyqqrfdwpEoIj5s1dQ2gT9rz2fvjYJpCASegwlu184K1YuZ3HOdsb3jybc2P4Uv7eY3Px6LFFjGDJmItkDXEhAr36DGD7Bg94IaAGaG0spLG3BObg/o0ePZVBPW/vj+g9ltNuL4aCcHVQCOie9T76Se+/4E9kpoZh0GqMyW5j19Qpm1W6jqselPPDwvZw7NBmnSUIeFkXBwkXkzd7O7DmbkSeNwohKbd5Kvv/+F7abBvLPm2/kitP6EGSQAI2eqZHI1RtZ99RK5i1Zz5mje+MM3tt8rYQtdjAX33ITq9fm887qH3jqyY9Jui2DRT8vJ3jclVw2qe8fD3wB9JEMPGUK58VU4Ntn8GsmdWjcH9+eIAiC8LtE8CsI3dBRvaEjCO5IiehIh+gcCBtlGaMhQLjDQFqUREDTER5sRVEUVFVF07S9Br/e/GX8sqaAFn0/pp3Xm/bCDnqCE9IYNGwA4QvmMW/hRq6eNIjwqPYarwZjNHFRJpq2reenmd8xPO0cekXZ0KHDEhS045WN2IIiiAjRs2jtXL6eNY6s2HHEO01I6LAE2Q7ae+WIyWDClLMZlhqKSQKQsCWPZFiynl/yXfSeeDHnZKfg3HE2MoT0YmBmCPo5BVQVl+ADjForxds2sjmvhpABVzG6VyK2nakXEkZnBKl9+5Ngnk3B9hIaGn0QvK+at3pCsqZw911L+PXyl1j14cPcWT+MqKiR/P2CMcTZD9KpURdF9rl/oe8UmX0XVNdhDnIenG0KgiAI+ySCX0H4A7qaDTYajV02z5BlGSvtKRRm8/4cel42LV7MxqJqzEOu5dy034I5vSOe3gOHkxUzm0Xz57OhcgoZUXEYgaDQnpxz9cX8cPu7fPfCLayd9QGnnfdnrrl8Kr2jbDu6gBmJyRjKmdNOZdGz3/P2/Zcz97MxnHPJVVz7p0kk2g7eEi+9yYQtyL4j8N1B5yDYqUOS2uttBu3ydpiwB5nRSaD4fQQA1Fbqa8upaZBpXPMBt1w2B/suHe4U3PXlbHPLOFpa8Pv8wO80fNAFkXbGPTxz1RymvbyJtWtSuOO1ixgQYdn7grkDJmG0OQg+eNcSgiAIwh8kgl9BOEg6ZoM7KkR0bp7R0TVOVVUkScJoNGIwGPZZ/1dr3cyipesoqfFjCJnF7Zet3qV9baCxlMI2Hf6yBcxcWc5pWbG4TBI6SwjD//QkH0Rl8Ohjr/Dj6h95eeUPTH9mMFc//SbPXtYPswTGkB6cd8cLRCZl8Ngz77Jo8ec8vuAznnl4NHdNf5f7Tk/eNWA9qCT2tc5v5+86EoxVmYDfS0DWUDxN1FSoNBl2fwEdYcl96D8gk/AQ6/7thSmSybddx7C3buLXkk3M+mom5w2/jJQu18tpKH4PdZUl1HgsRMVGE2o3odvngkUPhSsXsaagDv++elBIJuKHnsrIZBElC4IgHGoi+BWEQ6BzpYiOlIjOaQ4ds8R77wSnUrd+Dcs25NOgt+Gq2cziut2DLA05oMdABXO+XUT1OX1xhbbPduosofQ/8w4+PPlyNiz4mrdee4PP5qzjtWsuIChuGf+e0F5VQO9IZPxVTzL6/BtY+sMnvPHqDL5cvJD/b+9eg6OqzziOf885e8nmfieJSUjQJISQSMIlAqXBkI6CjZ3RiggFnbYDKvVFqVCxU4dWZ6zRAaw4eAErN0eo1CgXO+okIoGCRIIYYu4BExJIcw+Q3c3uOX1BxADJwohhoHk+r8/u+e95cea3//Oc51m5cAEB/9rNkkxfzgdVBQVw6wO0GLgeA9JVMxarDYtJJWbmcra+9CgZ0VcXcD1xdZex7o/rMO6dQ8bH2zm44w3WZabx1AOp+PUP10Yv9Qe28NyfXmDXN53oho4aMpa5y/7Kk7MzCbcN8tKi4ygbVyzjlT2Vnl94w0Ti4nxK8u685t8khBDCMwm/QgyR/gMtvgu7hmFcqPH1OPCit5Wjh4spq20jZOpiVi/JJSbIelnP25N7N/Piq5s5XLSTj+vnkRB88aN+zWcE42YuZPXkSUQtmM2K3dXsyC8mL3vGRceZ/EfykweXMiVnCkHZOaypLuezglKWZN4BigWr1YJJM+hsacGp6/BdYYDbSVdHK+3dzh/lmg1K9SEoJIrQIJWjJ+po7jyDO9qGpz4ZV2L0nOLz1/PYanuM11fmUrmyhcdX7Wf7hvVkjPkz96aFYu674O6OYtYse4Z9vvfx/Jb5jLV+y87XVrI+7yWSUl/lkfTIy4aHAGCO52e/+g1KRhMOj9OHLcTfPfoafo0QQoirJeFXiOugf9A1+h7le+rv62iu4sviL6nrDiF71j1k35lFuPelO8QG9rBW9nxaSGnhId7bVcXC28Nwt1VTUQ/RCfGEeJ+Ph4otjIgQG6oCiqqA7qTj9HFOdtqIiY/Cv2/UmuITRUyoCaWm7zgANYAR4aH4+SpUHSrg4Ld3kZscAi47p8oKeWfTJgqOtWIM5ftaii+xt6aQkhTOFyWFvFcwizGxOcT6fX8LczvP0trchu4dRGiwr+ebm6uT8n+v442SGJ762wKSAzVGPPwHFhTXsGbfh7y9JZ2kyAdJCbehYNBRtJ78miB+sXYpc7NvQSOdKEct+0rWkr+nnnlpEWiXlWEAajiT5yxm8o9+QYQQQvxQEn6FuM6uONnNcNBYVUrx4UrsEdOYMWEkfraBSiMUvOLSmTYugQ//U0vx+x9wbMlkwr9+lxXPHiFuehbpidEEWty01e5j494GXL5jyL17LEZvFxWFb5H3bhNJ06aQOioCH9VOc/mnbC7pwRaeSdbUhL7T+DJ6/ARS4nZQXpLPs8+GUp+TjOVcA8Wf7qboaD2m4GBMQzp0QSU0cSL3/Pwu9pdvY/vLz6M0V5CVNpIALwXn2Q6aTlRRWnmW1PvmM3dmBkGDlVMbdhoO5bN6Qympi/7CjGgLKBAUO4n7H3mIvV/l8dm2f7CS9IsAAAAFJElEQVQpJZGlszMJtRlU7fuCTu8kMiZE9u02q4QmJBAfrLH3WB26Ph6uaR/66hhdR9i2oZBGF6B3UbG/lNZend7KPWx600FkgAXNEknWQ7MZF/x/PutZCCF+IAm/QtxonO3UlhdTWuskbtYUMkZG9LU4G4D5FqZmTSRu+z4aS3eTX/ocT4TGEWzfyDsrC9jqF4yv2U1XWweEp7Jg+TIezwpD0c4QEBaO0vAub77wEV7+AdhUJ+3NHZjiclj0xNPMmRjUdxKV0LS7WbiompaX3qLwn6tY/kkQNsUgMGE6cx7Npe3AVjYeVNH6aoMBUDRMmoKiqmiX1QRomLTv66IvpqBpJhQUNJP5QucF1S+WrDm/Y7nLwhubPuCdVSvYFRaCn0Wlt+cMZ50qYWNmkm7zZqBNWADD0cY3Rfm8tuoV3j9i5cGcOk65Eok2g8PeTfPpTgzV4Oy3B9m4+nmM1jn8cvYsGuqbUKxTCemXqLXAQIK9LXS3tV7YzR9qemsRa595mgM9BmCgu924XDp8vZO/l32EooDJdxJ5Mx5gXPB1WZIQQtx0FON63bWFEFfHfY6m6q8o/voUfgkZjE+Oxc9D2wW98wRfHCyhrk0hKTuX2wO7qS8vpayymroTTXT1agRExpOQkERKajJRfiZAx3GmhePlZZRXVnP85H85q1sJjbmNpMQkklMSCL9kt7m3+xRVx45wuOQYx9tcBMeMJm1cKqNj/Gmv+Ypjp62k3ZFOXIgPKuB2NFNSsIcGNYq0iZMYFWz+/ssMJyf27+RAk5n48dOZGO/Xr57ZoL2iiIKSk3jd9lPumhDV71+6jr29iZrqKqoqKqipb+ac24RvcCSx8XHExMQyKi6aEF/LwCOJXT20NNRQXttIt1MjMOpWUsaOxF9VcDm6aaz+htqTrZxzGaBa8A+NZFRiLIW/jubJivlsKV5D9nedIOz7WXH/Y6w3/ZbyrY/h4zX0ewnGuToO7C2n3T34bVs1BTJ6ymTifIesVYcQQtzUJPwKcQMyDB1dN1BU9QqttPqO1924ddBMWl/oM9DdLpwOJy4DTGYvrGZtgPZiBu5eJ05nL25UzFYvrCZPj8t1eu12HC4Dk8ULq+X8+QxdR6evy8Ul69INBVVTLw+jhhuXu/+aLz6P26WjaKaL2rv1X7fe68TucOJGQTNZsFosaEPypN/O9vmxLD6Uy1uH1jPLr28FXZ/x9ANP8F7w7zny9sP4WIe+7EEIIcS1k7IHIW5AiqJyWTWAp+NVjYszq4KqmfHyNg/2kQvHaWYrNvOAjW0HoGL28ubSb1VUdcCKV0XVBq+EVTQPI5RVNI8hXEE1W/G+6nVfCxMxMRHoextpbHRB0vlFu0+f5lS3nREZsagDJ3QhhBA3IHkjQgghPDIxZtpU/HvK2f95JT29Lly956g4+CXlrYFkTo1DG5otZyGEEENAdn6FEOIKvKcvYkF6AZvXLmVFz2yS1Sp2bfsEd8Zc5o2PwCzZVwghbhpS8yuEEFdiGLSW7eDVlzdQVNWCU/XhlrQcHlk4j6ykEVgk/AohxE1Dwq8QQlwl3WWnq70dh+pNYIA/1sF6qgkhhLhhSfgVQgghhBDDhjysE0IIIYQQw4aEXyGEEEIIMWxI+BVCCCGEEMOGhF8hhBBCCDFsSPgVQgghhBDDhoRfIYQQQggxbEj4FUIIIYQQw4aEXyGEEEIIMWxI+BVCCCGEEMOGhF8hhBBCCDFsSPgVQgghhBDDhoRfIYQQQggxbPwPdgtdYimvMiwAAAAASUVORK5CYII=)"
      ],
      "metadata": {
        "id": "XK9LqFIdWVZt"
      }
    },
    {
      "cell_type": "code",
      "source": [
        "def forward_prop(w, x):\n",
        "  y = []\n",
        "  for row in x:\n",
        "    y.append(w[0] + row[0]*w[1] + row[1]*w[2])\n",
        "\n",
        "  y = np.array(y)\n",
        "  return y"
      ],
      "metadata": {
        "id": "AYtp9TlCOdTb"
      },
      "execution_count": 10,
      "outputs": []
    },
    {
      "cell_type": "code",
      "source": [
        "hx = forward_prop(weights, X_train)\n",
        "print(\"Prediction Shape: \" + str(hx.shape))\n",
        "print(hx)"
      ],
      "metadata": {
        "colab": {
          "base_uri": "https://localhost:8080/"
        },
        "id": "PpDYqKkzUfXJ",
        "outputId": "456a7c06-3326-426a-9017-d126cbb03362"
      },
      "execution_count": 11,
      "outputs": [
        {
          "output_type": "stream",
          "name": "stdout",
          "text": [
            "Prediction Shape: (41,)\n",
            "[1.91525669 2.5530428  1.08991944 2.21812333 2.37721008 2.28606039\n",
            " 1.13298051 1.30522481 2.0468322  1.57316038 1.3985238  1.56837582\n",
            " 2.80877398 5.70750945 4.30753859 3.07336411 2.32338373 2.67600234\n",
            " 0.3253424  1.50593351 3.59129314 2.34969883 1.44158488 1.17125703\n",
            " 5.04460439 1.48943052 2.33151374 3.12360203 2.58892702 0.99996589\n",
            " 2.44299783 1.76813136 2.52528858 0.97030535 3.62837351 1.56454442\n",
            " 2.16908155 1.36144344 0.15405127 0.88513636 1.37340485]\n"
          ]
        }
      ]
    },
    {
      "cell_type": "markdown",
      "source": [
        "## Function for back propogation (Gradient Descent)\n",
        "\n",
        "![Screenshot from 2023-10-05 21-03-17.png](data:image/png;base64,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)"
      ],
      "metadata": {
        "id": "Dui7TQVxk4Lk"
      }
    },
    {
      "cell_type": "code",
      "source": [
        "def back_prop(w, y, y_hat, X, alpha):\n",
        "  # get the total number of rows\n",
        "  n = y.shape[0]\n",
        "  # create an error against each weight value\n",
        "  dldw = np.zeros(*w.shape)\n",
        "\n",
        "  for predict, actual, x in zip(y,y_hat,X):\n",
        "    dldw[0] = dldw[0] + ((predict - actual))\n",
        "    dldw[1] = dldw[1] + ((predict - actual) * x[0])\n",
        "    dldw[2] = dldw[2] + ((predict - actual) * x[1])\n",
        "\n",
        "  w[0] = w[0] - (dldw[0] * alpha)/n\n",
        "  w[1] = w[1] - (dldw[1] * alpha)/n\n",
        "  w[2] = w[2] - (dldw[2] * alpha)/n\n",
        "\n",
        "  return w"
      ],
      "metadata": {
        "id": "ZbMQRcKVU5__"
      },
      "execution_count": 12,
      "outputs": []
    },
    {
      "cell_type": "code",
      "source": [
        "back_prop(weights, hx, y_train, X_train, 0.05)\n"
      ],
      "metadata": {
        "colab": {
          "base_uri": "https://localhost:8080/"
        },
        "id": "Ij7EhfdxgUK9",
        "outputId": "102dba7c-a0f0-4470-aec1-d2f807d4716e"
      },
      "execution_count": 13,
      "outputs": [
        {
          "output_type": "execute_result",
          "data": {
            "text/plain": [
              "array([16746.98516196,  5517.53494847, 55820.80830624])"
            ]
          },
          "metadata": {},
          "execution_count": 13
        }
      ]
    },
    {
      "cell_type": "markdown",
      "source": [
        "## Cost Function\n",
        "\n",
        "![Screenshot from 2023-10-05 21-15-21.png](data:image/png;base64,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)"
      ],
      "metadata": {
        "id": "dj9NZF-Anp2D"
      }
    },
    {
      "cell_type": "code",
      "source": [
        "def cost(y, y_hat):\n",
        "  n = y.shape[0]\n",
        "\n",
        "  sum = 0\n",
        "\n",
        "  for predict, actual in zip(y, y_hat):\n",
        "    sum = sum + (predict - actual)**2\n",
        "\n",
        "  j = sum / (2 * n)\n",
        "\n",
        "  return j"
      ],
      "metadata": {
        "id": "A7eJJCwwhIly"
      },
      "execution_count": 14,
      "outputs": []
    },
    {
      "cell_type": "code",
      "source": [
        "cost(hx, y_train)"
      ],
      "metadata": {
        "colab": {
          "base_uri": "https://localhost:8080/"
        },
        "id": "XsHJjxOKoKx5",
        "outputId": "fe703026-ad5a-46c9-f634-933ebac3e714"
      },
      "execution_count": 15,
      "outputs": [
        {
          "output_type": "execute_result",
          "data": {
            "text/plain": [
              "63669719911.83621"
            ]
          },
          "metadata": {},
          "execution_count": 15
        }
      ]
    },
    {
      "cell_type": "code",
      "source": [
        "##"
      ],
      "metadata": {
        "id": "BPhnseGjNe8Y"
      },
      "execution_count": 16,
      "outputs": []
    },
    {
      "cell_type": "markdown",
      "source": [
        "## Carrying out the learning ( ***Schotatic Gradient Descent*** )"
      ],
      "metadata": {
        "id": "2leouJK2NyOA"
      }
    },
    {
      "cell_type": "code",
      "source": [
        "costs = []\n",
        "\n",
        "costs.append(cost(weights, y_train))\n",
        "\n",
        "for epoch in range(10000):\n",
        "  hx = forward_prop(weights, X_train)\n",
        "  c = cost(hx, y_train)\n",
        "\n",
        "  if epoch % 1000 == 0:\n",
        "    print(\"Cost: \" +str(c))\n",
        "\n",
        "  costs.append(c)\n",
        "  weights = back_prop(weights, hx, y_train, X_train, 0.1)"
      ],
      "metadata": {
        "colab": {
          "base_uri": "https://localhost:8080/"
        },
        "id": "MCDMuBPlx-Y-",
        "outputId": "8f898318-533c-4524-cd32-ccf7fbbe2afa"
      },
      "execution_count": 17,
      "outputs": [
        {
          "output_type": "stream",
          "name": "stdout",
          "text": [
            "Cost: 15265431537.426931\n",
            "Cost: 2091179688.7165892\n",
            "Cost: 2088774898.9014125\n",
            "Cost: 2088771886.0992904\n",
            "Cost: 2088771882.3247495\n",
            "Cost: 2088771882.32002\n",
            "Cost: 2088771882.3200145\n",
            "Cost: 2088771882.3200147\n",
            "Cost: 2088771882.3200145\n",
            "Cost: 2088771882.3200145\n"
          ]
        }
      ]
    },
    {
      "cell_type": "markdown",
      "source": [
        "## Final Weights"
      ],
      "metadata": {
        "id": "pUY0enGVN8IS"
      }
    },
    {
      "cell_type": "code",
      "source": [
        "weights"
      ],
      "metadata": {
        "colab": {
          "base_uri": "https://localhost:8080/"
        },
        "id": "TqjjJjbe5-By",
        "outputId": "0c10b197-557b-4e97-bf0c-f6ce57bce7f9"
      },
      "execution_count": 18,
      "outputs": [
        {
          "output_type": "execute_result",
          "data": {
            "text/plain": [
              "array([342848.37237505, 105253.071568  ,  -2935.03475094])"
            ]
          },
          "metadata": {},
          "execution_count": 18
        }
      ]
    },
    {
      "cell_type": "code",
      "source": [
        "costs = np.array(costs)\n",
        "\n",
        "print(costs.shape)\n",
        "print(costs[0:10])"
      ],
      "metadata": {
        "colab": {
          "base_uri": "https://localhost:8080/"
        },
        "id": "G8mYLWFL7FdW",
        "outputId": "99bf1835-f2c9-41f3-ac06-a2e5edfcf6e2"
      },
      "execution_count": 19,
      "outputs": [
        {
          "output_type": "stream",
          "name": "stdout",
          "text": [
            "(10001,)\n",
            "[4.54185480e+10 1.52654315e+10 5.46888741e+09 4.93296004e+09\n",
            " 4.73046583e+09 4.57191061e+09 4.44175120e+09 4.33431781e+09\n",
            " 4.24524805e+09 4.17102530e+09]\n"
          ]
        }
      ]
    },
    {
      "cell_type": "markdown",
      "source": [
        "## Prediction"
      ],
      "metadata": {
        "id": "JjG1L4e6N_uq"
      }
    },
    {
      "cell_type": "code",
      "source": [
        "predictions = forward_prop(weights, X_test)"
      ],
      "metadata": {
        "id": "0iGGmZP8OBHL"
      },
      "execution_count": 20,
      "outputs": []
    },
    {
      "cell_type": "code",
      "source": [
        "predictions"
      ],
      "metadata": {
        "colab": {
          "base_uri": "https://localhost:8080/"
        },
        "id": "WT42WFfVOaEa",
        "outputId": "eabd2f6e-575e-4b1a-e3ce-457ee2f7ce61"
      },
      "execution_count": 21,
      "outputs": [
        {
          "output_type": "execute_result",
          "data": {
            "text/plain": [
              "array([233442.26676336, 228673.40953974, 292676.31040437, 484867.01705358,\n",
              "       371056.05185326])"
            ]
          },
          "metadata": {},
          "execution_count": 21
        }
      ]
    },
    {
      "cell_type": "code",
      "source": [
        "y_test"
      ],
      "metadata": {
        "colab": {
          "base_uri": "https://localhost:8080/"
        },
        "id": "VhxnsB6WOcAF",
        "outputId": "db997187-0a54-4d6f-d552-2ee717891458"
      },
      "execution_count": 22,
      "outputs": [
        {
          "output_type": "execute_result",
          "data": {
            "text/plain": [
              "array([229900., 239500., 368500., 579900., 449900.])"
            ]
          },
          "metadata": {},
          "execution_count": 22
        }
      ]
    },
    {
      "cell_type": "markdown",
      "source": [
        "### Percentage error in predictions"
      ],
      "metadata": {
        "id": "Es6bucBpO00n"
      }
    },
    {
      "cell_type": "code",
      "source": [
        "((predictions-y_test)/y_test) * 100"
      ],
      "metadata": {
        "colab": {
          "base_uri": "https://localhost:8080/"
        },
        "id": "SA3L7tNFOep8",
        "outputId": "5fcdf619-3da1-4798-9c8b-66423188162c"
      },
      "execution_count": 25,
      "outputs": [
        {
          "output_type": "execute_result",
          "data": {
            "text/plain": [
              "array([  1.54078589,  -4.52049706, -20.57630654, -16.38782255,\n",
              "       -17.52477176])"
            ]
          },
          "metadata": {},
          "execution_count": 25
        }
      ]
    }
  ]
}