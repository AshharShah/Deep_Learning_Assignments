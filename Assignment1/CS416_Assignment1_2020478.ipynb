{
  "nbformat": 4,
  "nbformat_minor": 0,
  "metadata": {
    "colab": {
      "provenance": []
    },
    "kernelspec": {
      "name": "python3",
      "display_name": "Python 3"
    },
    "language_info": {
      "name": "python"
    }
  },
  "cells": [
    {
      "cell_type": "markdown",
      "source": [
        "# CS 416 - Intro to Deep Learning\n",
        "## Assignment - 1\n",
        "\n",
        "___\n",
        "\n",
        "**Name:** Syed Muhammad Ashhar Shah\n",
        "\n",
        "**Reg No:** 2020478"
      ],
      "metadata": {
        "id": "X9db6udOEIU4"
      }
    },
    {
      "cell_type": "markdown",
      "source": [
        "# Task 1\n",
        "\n",
        "- For following house prediction dataset, [House Data](https://raw.githubusercontent.com/Tan-Moy/medium_articles/master/art2_multivariate_linear_regression/home.txt)\n",
        "\n",
        "- Split the dataset into training/ testing. Estimate the parameters for Linear regression on the training set using the batch gradient method.\n",
        "\n",
        "- Predict the new values of Y using **Ŷ = Xŵ** (X being the test part and ŵ are the optimized weights on the training part)."
      ],
      "metadata": {
        "id": "6WiU3o-eQW14"
      }
    },
    {
      "cell_type": "markdown",
      "source": [
        "## Importing the required libraraies"
      ],
      "metadata": {
        "id": "DeZbdEe_IHrb"
      }
    },
    {
      "cell_type": "code",
      "execution_count": 1,
      "metadata": {
        "id": "rSiAZRzdDSYU"
      },
      "outputs": [],
      "source": [
        "import pandas as pd\n",
        "import numpy as np\n",
        "import tensorflow as tf\n",
        "from sklearn.model_selection import train_test_split"
      ]
    },
    {
      "cell_type": "markdown",
      "source": [
        "## Getting the dataset from the URL"
      ],
      "metadata": {
        "id": "qNcCcsgpINWx"
      }
    },
    {
      "cell_type": "code",
      "source": [
        "dataset = \"https://raw.githubusercontent.com/Tan-Moy/medium_articles/master/art2_multivariate_linear_regression/home.txt\""
      ],
      "metadata": {
        "id": "xaLp92K8DePF"
      },
      "execution_count": 2,
      "outputs": []
    },
    {
      "cell_type": "code",
      "source": [
        "df = pd.read_csv(dataset)"
      ],
      "metadata": {
        "id": "RBDOeLj6DmF9"
      },
      "execution_count": 3,
      "outputs": []
    },
    {
      "cell_type": "code",
      "source": [
        "df.describe()"
      ],
      "metadata": {
        "colab": {
          "base_uri": "https://localhost:8080/",
          "height": 300
        },
        "id": "zN8C7O_5DrId",
        "outputId": "e1ab2fb7-ad4e-4057-b1b6-7daf2994a99d"
      },
      "execution_count": 4,
      "outputs": [
        {
          "output_type": "execute_result",
          "data": {
            "text/plain": [
              "              2104          3         399900\n",
              "count    46.000000  46.000000      46.000000\n",
              "mean   1998.434783   3.173913  339119.456522\n",
              "std     803.333019   0.768963  126103.418369\n",
              "min     852.000000   1.000000  169900.000000\n",
              "25%    1429.500000   3.000000  249900.000000\n",
              "50%    1870.000000   3.000000  299900.000000\n",
              "75%    2284.500000   4.000000  368875.000000\n",
              "max    4478.000000   5.000000  699900.000000"
            ],
            "text/html": [
              "\n",
              "  <div id=\"df-4e04a522-d747-4d64-9a65-efc632ff9dd3\" class=\"colab-df-container\">\n",
              "    <div>\n",
              "<style scoped>\n",
              "    .dataframe tbody tr th:only-of-type {\n",
              "        vertical-align: middle;\n",
              "    }\n",
              "\n",
              "    .dataframe tbody tr th {\n",
              "        vertical-align: top;\n",
              "    }\n",
              "\n",
              "    .dataframe thead th {\n",
              "        text-align: right;\n",
              "    }\n",
              "</style>\n",
              "<table border=\"1\" class=\"dataframe\">\n",
              "  <thead>\n",
              "    <tr style=\"text-align: right;\">\n",
              "      <th></th>\n",
              "      <th>2104</th>\n",
              "      <th>3</th>\n",
              "      <th>399900</th>\n",
              "    </tr>\n",
              "  </thead>\n",
              "  <tbody>\n",
              "    <tr>\n",
              "      <th>count</th>\n",
              "      <td>46.000000</td>\n",
              "      <td>46.000000</td>\n",
              "      <td>46.000000</td>\n",
              "    </tr>\n",
              "    <tr>\n",
              "      <th>mean</th>\n",
              "      <td>1998.434783</td>\n",
              "      <td>3.173913</td>\n",
              "      <td>339119.456522</td>\n",
              "    </tr>\n",
              "    <tr>\n",
              "      <th>std</th>\n",
              "      <td>803.333019</td>\n",
              "      <td>0.768963</td>\n",
              "      <td>126103.418369</td>\n",
              "    </tr>\n",
              "    <tr>\n",
              "      <th>min</th>\n",
              "      <td>852.000000</td>\n",
              "      <td>1.000000</td>\n",
              "      <td>169900.000000</td>\n",
              "    </tr>\n",
              "    <tr>\n",
              "      <th>25%</th>\n",
              "      <td>1429.500000</td>\n",
              "      <td>3.000000</td>\n",
              "      <td>249900.000000</td>\n",
              "    </tr>\n",
              "    <tr>\n",
              "      <th>50%</th>\n",
              "      <td>1870.000000</td>\n",
              "      <td>3.000000</td>\n",
              "      <td>299900.000000</td>\n",
              "    </tr>\n",
              "    <tr>\n",
              "      <th>75%</th>\n",
              "      <td>2284.500000</td>\n",
              "      <td>4.000000</td>\n",
              "      <td>368875.000000</td>\n",
              "    </tr>\n",
              "    <tr>\n",
              "      <th>max</th>\n",
              "      <td>4478.000000</td>\n",
              "      <td>5.000000</td>\n",
              "      <td>699900.000000</td>\n",
              "    </tr>\n",
              "  </tbody>\n",
              "</table>\n",
              "</div>\n",
              "    <div class=\"colab-df-buttons\">\n",
              "\n",
              "  <div class=\"colab-df-container\">\n",
              "    <button class=\"colab-df-convert\" onclick=\"convertToInteractive('df-4e04a522-d747-4d64-9a65-efc632ff9dd3')\"\n",
              "            title=\"Convert this dataframe to an interactive table.\"\n",
              "            style=\"display:none;\">\n",
              "\n",
              "  <svg xmlns=\"http://www.w3.org/2000/svg\" height=\"24px\" viewBox=\"0 -960 960 960\">\n",
              "    <path d=\"M120-120v-720h720v720H120Zm60-500h600v-160H180v160Zm220 220h160v-160H400v160Zm0 220h160v-160H400v160ZM180-400h160v-160H180v160Zm440 0h160v-160H620v160ZM180-180h160v-160H180v160Zm440 0h160v-160H620v160Z\"/>\n",
              "  </svg>\n",
              "    </button>\n",
              "\n",
              "  <style>\n",
              "    .colab-df-container {\n",
              "      display:flex;\n",
              "      gap: 12px;\n",
              "    }\n",
              "\n",
              "    .colab-df-convert {\n",
              "      background-color: #E8F0FE;\n",
              "      border: none;\n",
              "      border-radius: 50%;\n",
              "      cursor: pointer;\n",
              "      display: none;\n",
              "      fill: #1967D2;\n",
              "      height: 32px;\n",
              "      padding: 0 0 0 0;\n",
              "      width: 32px;\n",
              "    }\n",
              "\n",
              "    .colab-df-convert:hover {\n",
              "      background-color: #E2EBFA;\n",
              "      box-shadow: 0px 1px 2px rgba(60, 64, 67, 0.3), 0px 1px 3px 1px rgba(60, 64, 67, 0.15);\n",
              "      fill: #174EA6;\n",
              "    }\n",
              "\n",
              "    .colab-df-buttons div {\n",
              "      margin-bottom: 4px;\n",
              "    }\n",
              "\n",
              "    [theme=dark] .colab-df-convert {\n",
              "      background-color: #3B4455;\n",
              "      fill: #D2E3FC;\n",
              "    }\n",
              "\n",
              "    [theme=dark] .colab-df-convert:hover {\n",
              "      background-color: #434B5C;\n",
              "      box-shadow: 0px 1px 3px 1px rgba(0, 0, 0, 0.15);\n",
              "      filter: drop-shadow(0px 1px 2px rgba(0, 0, 0, 0.3));\n",
              "      fill: #FFFFFF;\n",
              "    }\n",
              "  </style>\n",
              "\n",
              "    <script>\n",
              "      const buttonEl =\n",
              "        document.querySelector('#df-4e04a522-d747-4d64-9a65-efc632ff9dd3 button.colab-df-convert');\n",
              "      buttonEl.style.display =\n",
              "        google.colab.kernel.accessAllowed ? 'block' : 'none';\n",
              "\n",
              "      async function convertToInteractive(key) {\n",
              "        const element = document.querySelector('#df-4e04a522-d747-4d64-9a65-efc632ff9dd3');\n",
              "        const dataTable =\n",
              "          await google.colab.kernel.invokeFunction('convertToInteractive',\n",
              "                                                    [key], {});\n",
              "        if (!dataTable) return;\n",
              "\n",
              "        const docLinkHtml = 'Like what you see? Visit the ' +\n",
              "          '<a target=\"_blank\" href=https://colab.research.google.com/notebooks/data_table.ipynb>data table notebook</a>'\n",
              "          + ' to learn more about interactive tables.';\n",
              "        element.innerHTML = '';\n",
              "        dataTable['output_type'] = 'display_data';\n",
              "        await google.colab.output.renderOutput(dataTable, element);\n",
              "        const docLink = document.createElement('div');\n",
              "        docLink.innerHTML = docLinkHtml;\n",
              "        element.appendChild(docLink);\n",
              "      }\n",
              "    </script>\n",
              "  </div>\n",
              "\n",
              "\n",
              "<div id=\"df-938ab770-85fd-434c-a6ee-642bcd9bc593\">\n",
              "  <button class=\"colab-df-quickchart\" onclick=\"quickchart('df-938ab770-85fd-434c-a6ee-642bcd9bc593')\"\n",
              "            title=\"Suggest charts.\"\n",
              "            style=\"display:none;\">\n",
              "\n",
              "<svg xmlns=\"http://www.w3.org/2000/svg\" height=\"24px\"viewBox=\"0 0 24 24\"\n",
              "     width=\"24px\">\n",
              "    <g>\n",
              "        <path d=\"M19 3H5c-1.1 0-2 .9-2 2v14c0 1.1.9 2 2 2h14c1.1 0 2-.9 2-2V5c0-1.1-.9-2-2-2zM9 17H7v-7h2v7zm4 0h-2V7h2v10zm4 0h-2v-4h2v4z\"/>\n",
              "    </g>\n",
              "</svg>\n",
              "  </button>\n",
              "\n",
              "<style>\n",
              "  .colab-df-quickchart {\n",
              "      --bg-color: #E8F0FE;\n",
              "      --fill-color: #1967D2;\n",
              "      --hover-bg-color: #E2EBFA;\n",
              "      --hover-fill-color: #174EA6;\n",
              "      --disabled-fill-color: #AAA;\n",
              "      --disabled-bg-color: #DDD;\n",
              "  }\n",
              "\n",
              "  [theme=dark] .colab-df-quickchart {\n",
              "      --bg-color: #3B4455;\n",
              "      --fill-color: #D2E3FC;\n",
              "      --hover-bg-color: #434B5C;\n",
              "      --hover-fill-color: #FFFFFF;\n",
              "      --disabled-bg-color: #3B4455;\n",
              "      --disabled-fill-color: #666;\n",
              "  }\n",
              "\n",
              "  .colab-df-quickchart {\n",
              "    background-color: var(--bg-color);\n",
              "    border: none;\n",
              "    border-radius: 50%;\n",
              "    cursor: pointer;\n",
              "    display: none;\n",
              "    fill: var(--fill-color);\n",
              "    height: 32px;\n",
              "    padding: 0;\n",
              "    width: 32px;\n",
              "  }\n",
              "\n",
              "  .colab-df-quickchart:hover {\n",
              "    background-color: var(--hover-bg-color);\n",
              "    box-shadow: 0 1px 2px rgba(60, 64, 67, 0.3), 0 1px 3px 1px rgba(60, 64, 67, 0.15);\n",
              "    fill: var(--button-hover-fill-color);\n",
              "  }\n",
              "\n",
              "  .colab-df-quickchart-complete:disabled,\n",
              "  .colab-df-quickchart-complete:disabled:hover {\n",
              "    background-color: var(--disabled-bg-color);\n",
              "    fill: var(--disabled-fill-color);\n",
              "    box-shadow: none;\n",
              "  }\n",
              "\n",
              "  .colab-df-spinner {\n",
              "    border: 2px solid var(--fill-color);\n",
              "    border-color: transparent;\n",
              "    border-bottom-color: var(--fill-color);\n",
              "    animation:\n",
              "      spin 1s steps(1) infinite;\n",
              "  }\n",
              "\n",
              "  @keyframes spin {\n",
              "    0% {\n",
              "      border-color: transparent;\n",
              "      border-bottom-color: var(--fill-color);\n",
              "      border-left-color: var(--fill-color);\n",
              "    }\n",
              "    20% {\n",
              "      border-color: transparent;\n",
              "      border-left-color: var(--fill-color);\n",
              "      border-top-color: var(--fill-color);\n",
              "    }\n",
              "    30% {\n",
              "      border-color: transparent;\n",
              "      border-left-color: var(--fill-color);\n",
              "      border-top-color: var(--fill-color);\n",
              "      border-right-color: var(--fill-color);\n",
              "    }\n",
              "    40% {\n",
              "      border-color: transparent;\n",
              "      border-right-color: var(--fill-color);\n",
              "      border-top-color: var(--fill-color);\n",
              "    }\n",
              "    60% {\n",
              "      border-color: transparent;\n",
              "      border-right-color: var(--fill-color);\n",
              "    }\n",
              "    80% {\n",
              "      border-color: transparent;\n",
              "      border-right-color: var(--fill-color);\n",
              "      border-bottom-color: var(--fill-color);\n",
              "    }\n",
              "    90% {\n",
              "      border-color: transparent;\n",
              "      border-bottom-color: var(--fill-color);\n",
              "    }\n",
              "  }\n",
              "</style>\n",
              "\n",
              "  <script>\n",
              "    async function quickchart(key) {\n",
              "      const quickchartButtonEl =\n",
              "        document.querySelector('#' + key + ' button');\n",
              "      quickchartButtonEl.disabled = true;  // To prevent multiple clicks.\n",
              "      quickchartButtonEl.classList.add('colab-df-spinner');\n",
              "      try {\n",
              "        const charts = await google.colab.kernel.invokeFunction(\n",
              "            'suggestCharts', [key], {});\n",
              "      } catch (error) {\n",
              "        console.error('Error during call to suggestCharts:', error);\n",
              "      }\n",
              "      quickchartButtonEl.classList.remove('colab-df-spinner');\n",
              "      quickchartButtonEl.classList.add('colab-df-quickchart-complete');\n",
              "    }\n",
              "    (() => {\n",
              "      let quickchartButtonEl =\n",
              "        document.querySelector('#df-938ab770-85fd-434c-a6ee-642bcd9bc593 button');\n",
              "      quickchartButtonEl.style.display =\n",
              "        google.colab.kernel.accessAllowed ? 'block' : 'none';\n",
              "    })();\n",
              "  </script>\n",
              "</div>\n",
              "    </div>\n",
              "  </div>\n"
            ]
          },
          "metadata": {},
          "execution_count": 4
        }
      ]
    },
    {
      "cell_type": "markdown",
      "source": [
        "## Converting dataset to _numpy_ array"
      ],
      "metadata": {
        "id": "G1j_BTtFIQ0v"
      }
    },
    {
      "cell_type": "code",
      "source": [
        "dataset_array = pd.DataFrame(df).to_numpy()\n",
        "print(\"Dataset Array Shape: \" + str(dataset_array.shape))\n",
        "\n",
        "X = []\n",
        "y = []\n",
        "\n",
        "for row in dataset_array:\n",
        "  X.append(row[:2])\n",
        "  y.append(row[2])\n",
        "\n",
        "# print(dataset_array[0][:2])\n",
        "\n",
        "X = np.array(X)\n",
        "y = np.array(y)\n",
        "\n",
        "print(\"X Shape: \" + str(X.shape))\n",
        "print(\"y Shape: \" + str(y.shape))"
      ],
      "metadata": {
        "colab": {
          "base_uri": "https://localhost:8080/"
        },
        "id": "t29n2nq2FLRC",
        "outputId": "bf2065f3-affc-4b7f-fc0b-68894964fac2"
      },
      "execution_count": 5,
      "outputs": [
        {
          "output_type": "stream",
          "name": "stdout",
          "text": [
            "Dataset Array Shape: (46, 3)\n",
            "X Shape: (46, 2)\n",
            "y Shape: (46,)\n"
          ]
        }
      ]
    },
    {
      "cell_type": "markdown",
      "source": [
        "## Performing test-train split"
      ],
      "metadata": {
        "id": "IZxP4X4EIVpc"
      }
    },
    {
      "cell_type": "code",
      "source": [
        "X_train, X_test, y_train, y_test = train_test_split(X, y, test_size=0.1)\n",
        "\n",
        "print(\"X_train Shape: \" + str(X_train.shape))\n",
        "print(\"X_test Shape: \" + str(X_test.shape))\n",
        "print(\"y_train Shape: \" + str(y_train.shape))\n",
        "print(\"y_test Shape: \" + str(y_test.shape))"
      ],
      "metadata": {
        "colab": {
          "base_uri": "https://localhost:8080/"
        },
        "id": "E-JY7hmDDuXR",
        "outputId": "142dcdf2-d510-40ab-d605-af02e508f8ad"
      },
      "execution_count": 6,
      "outputs": [
        {
          "output_type": "stream",
          "name": "stdout",
          "text": [
            "X_train Shape: (41, 2)\n",
            "X_test Shape: (5, 2)\n",
            "y_train Shape: (41,)\n",
            "y_test Shape: (5,)\n"
          ]
        }
      ]
    },
    {
      "cell_type": "markdown",
      "source": [
        "## Initialize random weights"
      ],
      "metadata": {
        "id": "le008VmqPwFE"
      }
    },
    {
      "cell_type": "code",
      "source": [
        "weights = np.random.rand(X.shape[1] + 1)\n",
        "\n",
        "weights[0] = 1\n",
        "\n",
        "print(\"Shape of weights: \" + str(weights.shape))\n",
        "print(\"Random Weights: \" + str(weights))"
      ],
      "metadata": {
        "colab": {
          "base_uri": "https://localhost:8080/"
        },
        "id": "-17lH6H5HlPj",
        "outputId": "efab4c2f-f717-4728-ef84-3f5682033cc0"
      },
      "execution_count": 32,
      "outputs": [
        {
          "output_type": "stream",
          "name": "stdout",
          "text": [
            "Shape of weights: (3,)\n",
            "Random Weights: [1.         0.39061671 0.91215857]\n"
          ]
        }
      ]
    },
    {
      "cell_type": "markdown",
      "source": [
        "## Function for forward propoggation ( *y = wx* )\n",
        "\n",
        "Linear Regression Equation::\n",
        "`Y = θ0 + (θ1 x X0) + (θ2 x X1)`\n",
        "\n",
        "We assume θ0 = 1"
      ],
      "metadata": {
        "id": "XK9LqFIdWVZt"
      }
    },
    {
      "cell_type": "code",
      "source": [
        "def forward_prop(w, x):\n",
        "  y = []\n",
        "  for row in x:\n",
        "    y.append(w[0] + row[0]*w[1] + row[1]*w[2])\n",
        "\n",
        "  y = np.array(y)\n",
        "  return y"
      ],
      "metadata": {
        "id": "AYtp9TlCOdTb"
      },
      "execution_count": 33,
      "outputs": []
    },
    {
      "cell_type": "code",
      "source": [
        "hx = forward_prop(weights, X_train)\n",
        "print(\"Prediction Shape: \" + str(hx.shape))\n",
        "print(hx)"
      ],
      "metadata": {
        "colab": {
          "base_uri": "https://localhost:8080/"
        },
        "id": "PpDYqKkzUfXJ",
        "outputId": "2e4e8170-1ff0-4ba3-9276-4a98be8d224c"
      },
      "execution_count": 34,
      "outputs": [
        {
          "output_type": "stream",
          "name": "stdout",
          "text": [
            "Prediction Shape: (41,)\n",
            "[ 561.1465215   587.3178411   487.71057994  877.93667365 1651.09806874\n",
            " 1176.49876557  555.93757911  903.06706827  721.16844762  742.00205843\n",
            "  990.43428626  941.21658074  542.78753611 1033.79274111  573.25563952\n",
            "  837.44346092  486.53872981  392.528869    780.02280449  863.09323866\n",
            "  565.0526886   693.95620304  652.8105233   712.05549687  849.16196223\n",
            " 1023.76763179 1007.36172996  335.62975443 1188.60788359  771.03862015\n",
            "  740.30866643  801.50672356 1229.10109633  473.64837836 1754.74242215\n",
            "  762.44505252 1523.23547928  518.43837491  602.94250951  472.47652823\n",
            "  784.96989657]\n"
          ]
        }
      ]
    },
    {
      "cell_type": "code",
      "source": [],
      "metadata": {
        "id": "ZbMQRcKVU5__"
      },
      "execution_count": null,
      "outputs": []
    }
  ]
}