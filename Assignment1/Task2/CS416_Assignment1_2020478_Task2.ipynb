{
  "nbformat": 4,
  "nbformat_minor": 0,
  "metadata": {
    "colab": {
      "provenance": []
    },
    "kernelspec": {
      "name": "python3",
      "display_name": "Python 3"
    },
    "language_info": {
      "name": "python"
    }
  },
  "cells": [
    {
      "cell_type": "markdown",
      "source": [
        "# CS 416 - Intro to Deep Learning\n",
        "## Assignment 1\n",
        "\n",
        "---\n",
        "\n",
        "**Name** : Syed Muhammad Ashhar Shah\n",
        "\n",
        "**Reg No** : 2020478"
      ],
      "metadata": {
        "id": "k4bUK3--R15z"
      }
    },
    {
      "cell_type": "markdown",
      "source": [
        "# Task 2"
      ],
      "metadata": {
        "id": "0PgezUsSSJUW"
      }
    },
    {
      "cell_type": "code",
      "execution_count": null,
      "metadata": {
        "id": "RDNA4OFeRw3U"
      },
      "outputs": [],
      "source": []
    }
  ]
}