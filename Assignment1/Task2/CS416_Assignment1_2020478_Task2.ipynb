{
  "cells": [
    {
      "cell_type": "markdown",
      "metadata": {
        "id": "k4bUK3--R15z"
      },
      "source": [
        "# CS 416 - Intro to Deep Learning\n",
        "## Assignment 1\n",
        "\n",
        "---\n",
        "\n",
        "**Name** : Syed Muhammad Ashhar Shah\n",
        "\n",
        "**Reg No** : 2020478"
      ]
    },
    {
      "cell_type": "markdown",
      "metadata": {
        "id": "0PgezUsSSJUW"
      },
      "source": [
        "# Task 2"
      ]
    },
    {
      "cell_type": "markdown",
      "metadata": {
        "id": "uHns3z-VQt0R"
      },
      "source": [
        "## Importing the required libraries."
      ]
    },
    {
      "cell_type": "code",
      "execution_count": 1,
      "metadata": {
        "id": "RDNA4OFeRw3U"
      },
      "outputs": [
        {
          "name": "stderr",
          "output_type": "stream",
          "text": [
            "2023-10-15 12:11:01.943339: I tensorflow/tsl/cuda/cudart_stub.cc:28] Could not find cuda drivers on your machine, GPU will not be used.\n",
            "2023-10-15 12:11:01.997662: E tensorflow/compiler/xla/stream_executor/cuda/cuda_dnn.cc:9342] Unable to register cuDNN factory: Attempting to register factory for plugin cuDNN when one has already been registered\n",
            "2023-10-15 12:11:01.997717: E tensorflow/compiler/xla/stream_executor/cuda/cuda_fft.cc:609] Unable to register cuFFT factory: Attempting to register factory for plugin cuFFT when one has already been registered\n",
            "2023-10-15 12:11:01.997762: E tensorflow/compiler/xla/stream_executor/cuda/cuda_blas.cc:1518] Unable to register cuBLAS factory: Attempting to register factory for plugin cuBLAS when one has already been registered\n",
            "2023-10-15 12:11:02.008369: I tensorflow/tsl/cuda/cudart_stub.cc:28] Could not find cuda drivers on your machine, GPU will not be used.\n",
            "2023-10-15 12:11:03.237580: W tensorflow/compiler/tf2tensorrt/utils/py_utils.cc:38] TF-TRT Warning: Could not find TensorRT\n"
          ]
        }
      ],
      "source": [
        "import pandas as pd\n",
        "import numpy as np\n",
        "import tensorflow as tf\n",
        "from sklearn.model_selection import train_test_split"
      ]
    },
    {
      "cell_type": "markdown",
      "metadata": {
        "id": "cWhlqO7FQz_4"
      },
      "source": [
        "## Getting the dataset from the URL"
      ]
    },
    {
      "cell_type": "code",
      "execution_count": 2,
      "metadata": {
        "id": "Dfhc9c5PQyWc"
      },
      "outputs": [],
      "source": [
        "dataset = \"./train.csv\""
      ]
    },
    {
      "cell_type": "code",
      "execution_count": 3,
      "metadata": {
        "id": "JwBz2BToQ4Za"
      },
      "outputs": [],
      "source": [
        "df = pd.read_csv(dataset)"
      ]
    },
    {
      "cell_type": "code",
      "execution_count": 4,
      "metadata": {
        "colab": {
          "base_uri": "https://localhost:8080/",
          "height": 301
        },
        "id": "4XKLbNPcQ6LO",
        "outputId": "5935504e-c060-45ee-8f54-42894538b5ce"
      },
      "outputs": [
        {
          "data": {
            "text/html": [
              "<div>\n",
              "<style scoped>\n",
              "    .dataframe tbody tr th:only-of-type {\n",
              "        vertical-align: middle;\n",
              "    }\n",
              "\n",
              "    .dataframe tbody tr th {\n",
              "        vertical-align: top;\n",
              "    }\n",
              "\n",
              "    .dataframe thead th {\n",
              "        text-align: right;\n",
              "    }\n",
              "</style>\n",
              "<table border=\"1\" class=\"dataframe\">\n",
              "  <thead>\n",
              "    <tr style=\"text-align: right;\">\n",
              "      <th></th>\n",
              "      <th>Id</th>\n",
              "      <th>MSSubClass</th>\n",
              "      <th>MSZoning</th>\n",
              "      <th>LotFrontage</th>\n",
              "      <th>LotArea</th>\n",
              "      <th>Street</th>\n",
              "      <th>Alley</th>\n",
              "      <th>LotShape</th>\n",
              "      <th>LandContour</th>\n",
              "      <th>Utilities</th>\n",
              "      <th>...</th>\n",
              "      <th>PoolArea</th>\n",
              "      <th>PoolQC</th>\n",
              "      <th>Fence</th>\n",
              "      <th>MiscFeature</th>\n",
              "      <th>MiscVal</th>\n",
              "      <th>MoSold</th>\n",
              "      <th>YrSold</th>\n",
              "      <th>SaleType</th>\n",
              "      <th>SaleCondition</th>\n",
              "      <th>SalePrice</th>\n",
              "    </tr>\n",
              "  </thead>\n",
              "  <tbody>\n",
              "    <tr>\n",
              "      <th>0</th>\n",
              "      <td>1</td>\n",
              "      <td>60</td>\n",
              "      <td>RL</td>\n",
              "      <td>65.0</td>\n",
              "      <td>8450</td>\n",
              "      <td>Pave</td>\n",
              "      <td>NaN</td>\n",
              "      <td>Reg</td>\n",
              "      <td>Lvl</td>\n",
              "      <td>AllPub</td>\n",
              "      <td>...</td>\n",
              "      <td>0</td>\n",
              "      <td>NaN</td>\n",
              "      <td>NaN</td>\n",
              "      <td>NaN</td>\n",
              "      <td>0</td>\n",
              "      <td>2</td>\n",
              "      <td>2008</td>\n",
              "      <td>WD</td>\n",
              "      <td>Normal</td>\n",
              "      <td>208500</td>\n",
              "    </tr>\n",
              "    <tr>\n",
              "      <th>1</th>\n",
              "      <td>2</td>\n",
              "      <td>20</td>\n",
              "      <td>RL</td>\n",
              "      <td>80.0</td>\n",
              "      <td>9600</td>\n",
              "      <td>Pave</td>\n",
              "      <td>NaN</td>\n",
              "      <td>Reg</td>\n",
              "      <td>Lvl</td>\n",
              "      <td>AllPub</td>\n",
              "      <td>...</td>\n",
              "      <td>0</td>\n",
              "      <td>NaN</td>\n",
              "      <td>NaN</td>\n",
              "      <td>NaN</td>\n",
              "      <td>0</td>\n",
              "      <td>5</td>\n",
              "      <td>2007</td>\n",
              "      <td>WD</td>\n",
              "      <td>Normal</td>\n",
              "      <td>181500</td>\n",
              "    </tr>\n",
              "    <tr>\n",
              "      <th>2</th>\n",
              "      <td>3</td>\n",
              "      <td>60</td>\n",
              "      <td>RL</td>\n",
              "      <td>68.0</td>\n",
              "      <td>11250</td>\n",
              "      <td>Pave</td>\n",
              "      <td>NaN</td>\n",
              "      <td>IR1</td>\n",
              "      <td>Lvl</td>\n",
              "      <td>AllPub</td>\n",
              "      <td>...</td>\n",
              "      <td>0</td>\n",
              "      <td>NaN</td>\n",
              "      <td>NaN</td>\n",
              "      <td>NaN</td>\n",
              "      <td>0</td>\n",
              "      <td>9</td>\n",
              "      <td>2008</td>\n",
              "      <td>WD</td>\n",
              "      <td>Normal</td>\n",
              "      <td>223500</td>\n",
              "    </tr>\n",
              "    <tr>\n",
              "      <th>3</th>\n",
              "      <td>4</td>\n",
              "      <td>70</td>\n",
              "      <td>RL</td>\n",
              "      <td>60.0</td>\n",
              "      <td>9550</td>\n",
              "      <td>Pave</td>\n",
              "      <td>NaN</td>\n",
              "      <td>IR1</td>\n",
              "      <td>Lvl</td>\n",
              "      <td>AllPub</td>\n",
              "      <td>...</td>\n",
              "      <td>0</td>\n",
              "      <td>NaN</td>\n",
              "      <td>NaN</td>\n",
              "      <td>NaN</td>\n",
              "      <td>0</td>\n",
              "      <td>2</td>\n",
              "      <td>2006</td>\n",
              "      <td>WD</td>\n",
              "      <td>Abnorml</td>\n",
              "      <td>140000</td>\n",
              "    </tr>\n",
              "    <tr>\n",
              "      <th>4</th>\n",
              "      <td>5</td>\n",
              "      <td>60</td>\n",
              "      <td>RL</td>\n",
              "      <td>84.0</td>\n",
              "      <td>14260</td>\n",
              "      <td>Pave</td>\n",
              "      <td>NaN</td>\n",
              "      <td>IR1</td>\n",
              "      <td>Lvl</td>\n",
              "      <td>AllPub</td>\n",
              "      <td>...</td>\n",
              "      <td>0</td>\n",
              "      <td>NaN</td>\n",
              "      <td>NaN</td>\n",
              "      <td>NaN</td>\n",
              "      <td>0</td>\n",
              "      <td>12</td>\n",
              "      <td>2008</td>\n",
              "      <td>WD</td>\n",
              "      <td>Normal</td>\n",
              "      <td>250000</td>\n",
              "    </tr>\n",
              "  </tbody>\n",
              "</table>\n",
              "<p>5 rows × 81 columns</p>\n",
              "</div>"
            ],
            "text/plain": [
              "   Id  MSSubClass MSZoning  LotFrontage  LotArea Street Alley LotShape  \\\n",
              "0   1          60       RL         65.0     8450   Pave   NaN      Reg   \n",
              "1   2          20       RL         80.0     9600   Pave   NaN      Reg   \n",
              "2   3          60       RL         68.0    11250   Pave   NaN      IR1   \n",
              "3   4          70       RL         60.0     9550   Pave   NaN      IR1   \n",
              "4   5          60       RL         84.0    14260   Pave   NaN      IR1   \n",
              "\n",
              "  LandContour Utilities  ... PoolArea PoolQC Fence MiscFeature MiscVal MoSold  \\\n",
              "0         Lvl    AllPub  ...        0    NaN   NaN         NaN       0      2   \n",
              "1         Lvl    AllPub  ...        0    NaN   NaN         NaN       0      5   \n",
              "2         Lvl    AllPub  ...        0    NaN   NaN         NaN       0      9   \n",
              "3         Lvl    AllPub  ...        0    NaN   NaN         NaN       0      2   \n",
              "4         Lvl    AllPub  ...        0    NaN   NaN         NaN       0     12   \n",
              "\n",
              "  YrSold  SaleType  SaleCondition  SalePrice  \n",
              "0   2008        WD         Normal     208500  \n",
              "1   2007        WD         Normal     181500  \n",
              "2   2008        WD         Normal     223500  \n",
              "3   2006        WD        Abnorml     140000  \n",
              "4   2008        WD         Normal     250000  \n",
              "\n",
              "[5 rows x 81 columns]"
            ]
          },
          "execution_count": 4,
          "metadata": {},
          "output_type": "execute_result"
        }
      ],
      "source": [
        "df.head(5)"
      ]
    },
    {
      "cell_type": "markdown",
      "metadata": {},
      "source": [
        "### Selecting Specific Columns\n",
        "Only using those columns that contain numerical values to make predictions using the linear regression algorithm."
      ]
    },
    {
      "cell_type": "code",
      "execution_count": 5,
      "metadata": {},
      "outputs": [],
      "source": [
        "data = df[[\"MSSubClass\", \"LotFrontage\", \"LotArea\", \"YrSold\", \"SalePrice\"]]"
      ]
    },
    {
      "cell_type": "code",
      "execution_count": 6,
      "metadata": {},
      "outputs": [
        {
          "data": {
            "text/html": [
              "<div>\n",
              "<style scoped>\n",
              "    .dataframe tbody tr th:only-of-type {\n",
              "        vertical-align: middle;\n",
              "    }\n",
              "\n",
              "    .dataframe tbody tr th {\n",
              "        vertical-align: top;\n",
              "    }\n",
              "\n",
              "    .dataframe thead th {\n",
              "        text-align: right;\n",
              "    }\n",
              "</style>\n",
              "<table border=\"1\" class=\"dataframe\">\n",
              "  <thead>\n",
              "    <tr style=\"text-align: right;\">\n",
              "      <th></th>\n",
              "      <th>MSSubClass</th>\n",
              "      <th>LotFrontage</th>\n",
              "      <th>LotArea</th>\n",
              "      <th>YrSold</th>\n",
              "      <th>SalePrice</th>\n",
              "    </tr>\n",
              "  </thead>\n",
              "  <tbody>\n",
              "    <tr>\n",
              "      <th>0</th>\n",
              "      <td>60</td>\n",
              "      <td>65.0</td>\n",
              "      <td>8450</td>\n",
              "      <td>2008</td>\n",
              "      <td>208500</td>\n",
              "    </tr>\n",
              "    <tr>\n",
              "      <th>1</th>\n",
              "      <td>20</td>\n",
              "      <td>80.0</td>\n",
              "      <td>9600</td>\n",
              "      <td>2007</td>\n",
              "      <td>181500</td>\n",
              "    </tr>\n",
              "    <tr>\n",
              "      <th>2</th>\n",
              "      <td>60</td>\n",
              "      <td>68.0</td>\n",
              "      <td>11250</td>\n",
              "      <td>2008</td>\n",
              "      <td>223500</td>\n",
              "    </tr>\n",
              "    <tr>\n",
              "      <th>3</th>\n",
              "      <td>70</td>\n",
              "      <td>60.0</td>\n",
              "      <td>9550</td>\n",
              "      <td>2006</td>\n",
              "      <td>140000</td>\n",
              "    </tr>\n",
              "    <tr>\n",
              "      <th>4</th>\n",
              "      <td>60</td>\n",
              "      <td>84.0</td>\n",
              "      <td>14260</td>\n",
              "      <td>2008</td>\n",
              "      <td>250000</td>\n",
              "    </tr>\n",
              "  </tbody>\n",
              "</table>\n",
              "</div>"
            ],
            "text/plain": [
              "   MSSubClass  LotFrontage  LotArea  YrSold  SalePrice\n",
              "0          60         65.0     8450    2008     208500\n",
              "1          20         80.0     9600    2007     181500\n",
              "2          60         68.0    11250    2008     223500\n",
              "3          70         60.0     9550    2006     140000\n",
              "4          60         84.0    14260    2008     250000"
            ]
          },
          "execution_count": 6,
          "metadata": {},
          "output_type": "execute_result"
        }
      ],
      "source": [
        "data.head(5)"
      ]
    },
    {
      "cell_type": "code",
      "execution_count": 7,
      "metadata": {},
      "outputs": [],
      "source": [
        "data = data.dropna()"
      ]
    },
    {
      "cell_type": "code",
      "execution_count": 8,
      "metadata": {},
      "outputs": [
        {
          "data": {
            "text/html": [
              "<div>\n",
              "<style scoped>\n",
              "    .dataframe tbody tr th:only-of-type {\n",
              "        vertical-align: middle;\n",
              "    }\n",
              "\n",
              "    .dataframe tbody tr th {\n",
              "        vertical-align: top;\n",
              "    }\n",
              "\n",
              "    .dataframe thead th {\n",
              "        text-align: right;\n",
              "    }\n",
              "</style>\n",
              "<table border=\"1\" class=\"dataframe\">\n",
              "  <thead>\n",
              "    <tr style=\"text-align: right;\">\n",
              "      <th></th>\n",
              "      <th>MSSubClass</th>\n",
              "      <th>LotFrontage</th>\n",
              "      <th>LotArea</th>\n",
              "      <th>YrSold</th>\n",
              "      <th>SalePrice</th>\n",
              "    </tr>\n",
              "  </thead>\n",
              "  <tbody>\n",
              "    <tr>\n",
              "      <th>0</th>\n",
              "      <td>60</td>\n",
              "      <td>65.0</td>\n",
              "      <td>8450</td>\n",
              "      <td>2008</td>\n",
              "      <td>208500</td>\n",
              "    </tr>\n",
              "    <tr>\n",
              "      <th>1</th>\n",
              "      <td>20</td>\n",
              "      <td>80.0</td>\n",
              "      <td>9600</td>\n",
              "      <td>2007</td>\n",
              "      <td>181500</td>\n",
              "    </tr>\n",
              "    <tr>\n",
              "      <th>2</th>\n",
              "      <td>60</td>\n",
              "      <td>68.0</td>\n",
              "      <td>11250</td>\n",
              "      <td>2008</td>\n",
              "      <td>223500</td>\n",
              "    </tr>\n",
              "    <tr>\n",
              "      <th>3</th>\n",
              "      <td>70</td>\n",
              "      <td>60.0</td>\n",
              "      <td>9550</td>\n",
              "      <td>2006</td>\n",
              "      <td>140000</td>\n",
              "    </tr>\n",
              "    <tr>\n",
              "      <th>4</th>\n",
              "      <td>60</td>\n",
              "      <td>84.0</td>\n",
              "      <td>14260</td>\n",
              "      <td>2008</td>\n",
              "      <td>250000</td>\n",
              "    </tr>\n",
              "    <tr>\n",
              "      <th>...</th>\n",
              "      <td>...</td>\n",
              "      <td>...</td>\n",
              "      <td>...</td>\n",
              "      <td>...</td>\n",
              "      <td>...</td>\n",
              "    </tr>\n",
              "    <tr>\n",
              "      <th>1254</th>\n",
              "      <td>60</td>\n",
              "      <td>60.0</td>\n",
              "      <td>6931</td>\n",
              "      <td>2008</td>\n",
              "      <td>165400</td>\n",
              "    </tr>\n",
              "    <tr>\n",
              "      <th>1255</th>\n",
              "      <td>50</td>\n",
              "      <td>52.0</td>\n",
              "      <td>6240</td>\n",
              "      <td>2007</td>\n",
              "      <td>127500</td>\n",
              "    </tr>\n",
              "    <tr>\n",
              "      <th>1256</th>\n",
              "      <td>20</td>\n",
              "      <td>91.0</td>\n",
              "      <td>14303</td>\n",
              "      <td>2008</td>\n",
              "      <td>301500</td>\n",
              "    </tr>\n",
              "    <tr>\n",
              "      <th>1257</th>\n",
              "      <td>30</td>\n",
              "      <td>56.0</td>\n",
              "      <td>4060</td>\n",
              "      <td>2009</td>\n",
              "      <td>99900</td>\n",
              "    </tr>\n",
              "    <tr>\n",
              "      <th>1258</th>\n",
              "      <td>80</td>\n",
              "      <td>59.0</td>\n",
              "      <td>9587</td>\n",
              "      <td>2008</td>\n",
              "      <td>190000</td>\n",
              "    </tr>\n",
              "  </tbody>\n",
              "</table>\n",
              "<p>1041 rows × 5 columns</p>\n",
              "</div>"
            ],
            "text/plain": [
              "      MSSubClass  LotFrontage  LotArea  YrSold  SalePrice\n",
              "0             60         65.0     8450    2008     208500\n",
              "1             20         80.0     9600    2007     181500\n",
              "2             60         68.0    11250    2008     223500\n",
              "3             70         60.0     9550    2006     140000\n",
              "4             60         84.0    14260    2008     250000\n",
              "...          ...          ...      ...     ...        ...\n",
              "1254          60         60.0     6931    2008     165400\n",
              "1255          50         52.0     6240    2007     127500\n",
              "1256          20         91.0    14303    2008     301500\n",
              "1257          30         56.0     4060    2009      99900\n",
              "1258          80         59.0     9587    2008     190000\n",
              "\n",
              "[1041 rows x 5 columns]"
            ]
          },
          "execution_count": 8,
          "metadata": {},
          "output_type": "execute_result"
        }
      ],
      "source": [
        "data.dropna()"
      ]
    },
    {
      "cell_type": "markdown",
      "metadata": {
        "id": "tUYxkHmhQ9y0"
      },
      "source": [
        "## Converting the dataset to numpy array"
      ]
    },
    {
      "cell_type": "code",
      "execution_count": 9,
      "metadata": {
        "colab": {
          "base_uri": "https://localhost:8080/"
        },
        "id": "rdXWSUJjQ8l7",
        "outputId": "6fd8b082-4127-4154-936a-877204d8f10b"
      },
      "outputs": [
        {
          "name": "stdout",
          "output_type": "stream",
          "text": [
            "Dataset Array Shape: (1041, 5)\n",
            "X Shape: (1041, 4)\n",
            "y Shape: (1041,)\n"
          ]
        }
      ],
      "source": [
        "dataset_array = np.array(data, dtype=float)\n",
        "print(\"Dataset Array Shape: \" + str(dataset_array.shape))\n",
        "\n",
        "\n",
        "X = []\n",
        "y = []\n",
        "\n",
        "for row in dataset_array:\n",
        "  X.append(row[:4])\n",
        "  y.append(row[4])\n",
        "\n",
        "\n",
        "X = np.array(X)\n",
        "y = np.array(y)\n",
        "\n",
        "from sklearn.preprocessing import StandardScaler\n",
        "\n",
        "scaler = StandardScaler()\n",
        "X = scaler.fit_transform(X)\n",
        "\n",
        "print(\"X Shape: \" + str(X.shape))\n",
        "print(\"y Shape: \" + str(y.shape))"
      ]
    },
    {
      "cell_type": "markdown",
      "metadata": {},
      "source": [
        "## Function For Forward Propogation"
      ]
    },
    {
      "cell_type": "code",
      "execution_count": 10,
      "metadata": {},
      "outputs": [],
      "source": [
        "def forward_prop(w, x):\n",
        "  y = []\n",
        "  for row in x:\n",
        "    y.append(w[0] + row[0]*w[1] + row[1]*w[2] + row[2]*w[3] + row[3]*w[4])\n",
        "\n",
        "  y = np.array(y)\n",
        "  return y"
      ]
    },
    {
      "cell_type": "markdown",
      "metadata": {},
      "source": [
        "## Function For Backward Propogation"
      ]
    },
    {
      "cell_type": "code",
      "execution_count": 11,
      "metadata": {},
      "outputs": [],
      "source": [
        "def back_prop(w, y, y_hat, X, alpha):\n",
        "  # get the total number of rows\n",
        "  n = y.shape[0]\n",
        "  # create an error against each weight value\n",
        "  dldw = np.zeros(*w.shape)\n",
        "\n",
        "  for predict, actual, x in zip(y,y_hat,X):\n",
        "    error = actual - predict\n",
        "    dldw[0] = dldw[0] + ((error))\n",
        "    dldw[1] = dldw[1] + ((error) * x[0])\n",
        "    dldw[2] = dldw[2] + ((error) * x[1])\n",
        "    dldw[3] = dldw[3] + ((error) * x[2])\n",
        "    dldw[4] = dldw[4] + ((error) * x[3])\n",
        "\n",
        "  w[0] = w[0] + (dldw[0] * alpha)/n\n",
        "  w[1] = w[1] + (dldw[1] * alpha)/n\n",
        "  w[2] = w[2] + (dldw[2] * alpha)/n\n",
        "  w[3] = w[3] + (dldw[3] * alpha)/n\n",
        "  w[4] = w[4] + (dldw[4] * alpha)/n\n",
        "\n",
        "  return w"
      ]
    },
    {
      "cell_type": "markdown",
      "metadata": {},
      "source": [
        "## Getting the testing dataset"
      ]
    },
    {
      "cell_type": "code",
      "execution_count": 12,
      "metadata": {},
      "outputs": [],
      "source": [
        "test_dataset = './test.csv'\n",
        "test_df = pd.read_csv(test_dataset)"
      ]
    },
    {
      "cell_type": "code",
      "execution_count": 13,
      "metadata": {},
      "outputs": [
        {
          "data": {
            "text/html": [
              "<div>\n",
              "<style scoped>\n",
              "    .dataframe tbody tr th:only-of-type {\n",
              "        vertical-align: middle;\n",
              "    }\n",
              "\n",
              "    .dataframe tbody tr th {\n",
              "        vertical-align: top;\n",
              "    }\n",
              "\n",
              "    .dataframe thead th {\n",
              "        text-align: right;\n",
              "    }\n",
              "</style>\n",
              "<table border=\"1\" class=\"dataframe\">\n",
              "  <thead>\n",
              "    <tr style=\"text-align: right;\">\n",
              "      <th></th>\n",
              "      <th>Id</th>\n",
              "      <th>MSSubClass</th>\n",
              "      <th>MSZoning</th>\n",
              "      <th>LotFrontage</th>\n",
              "      <th>LotArea</th>\n",
              "      <th>Street</th>\n",
              "      <th>Alley</th>\n",
              "      <th>LotShape</th>\n",
              "      <th>LandContour</th>\n",
              "      <th>Utilities</th>\n",
              "      <th>...</th>\n",
              "      <th>ScreenPorch</th>\n",
              "      <th>PoolArea</th>\n",
              "      <th>PoolQC</th>\n",
              "      <th>Fence</th>\n",
              "      <th>MiscFeature</th>\n",
              "      <th>MiscVal</th>\n",
              "      <th>MoSold</th>\n",
              "      <th>YrSold</th>\n",
              "      <th>SaleType</th>\n",
              "      <th>SaleCondition</th>\n",
              "    </tr>\n",
              "  </thead>\n",
              "  <tbody>\n",
              "    <tr>\n",
              "      <th>0</th>\n",
              "      <td>1260</td>\n",
              "      <td>20</td>\n",
              "      <td>RL</td>\n",
              "      <td>65.0</td>\n",
              "      <td>9750</td>\n",
              "      <td>Pave</td>\n",
              "      <td>NaN</td>\n",
              "      <td>Reg</td>\n",
              "      <td>Lvl</td>\n",
              "      <td>AllPub</td>\n",
              "      <td>...</td>\n",
              "      <td>80</td>\n",
              "      <td>0</td>\n",
              "      <td>NaN</td>\n",
              "      <td>NaN</td>\n",
              "      <td>NaN</td>\n",
              "      <td>0</td>\n",
              "      <td>7</td>\n",
              "      <td>2008</td>\n",
              "      <td>WD</td>\n",
              "      <td>Normal</td>\n",
              "    </tr>\n",
              "    <tr>\n",
              "      <th>1</th>\n",
              "      <td>1261</td>\n",
              "      <td>60</td>\n",
              "      <td>RL</td>\n",
              "      <td>NaN</td>\n",
              "      <td>24682</td>\n",
              "      <td>Pave</td>\n",
              "      <td>NaN</td>\n",
              "      <td>IR3</td>\n",
              "      <td>Lvl</td>\n",
              "      <td>AllPub</td>\n",
              "      <td>...</td>\n",
              "      <td>0</td>\n",
              "      <td>0</td>\n",
              "      <td>NaN</td>\n",
              "      <td>NaN</td>\n",
              "      <td>NaN</td>\n",
              "      <td>0</td>\n",
              "      <td>6</td>\n",
              "      <td>2009</td>\n",
              "      <td>WD</td>\n",
              "      <td>Normal</td>\n",
              "    </tr>\n",
              "    <tr>\n",
              "      <th>2</th>\n",
              "      <td>1262</td>\n",
              "      <td>20</td>\n",
              "      <td>RL</td>\n",
              "      <td>80.0</td>\n",
              "      <td>9600</td>\n",
              "      <td>Pave</td>\n",
              "      <td>NaN</td>\n",
              "      <td>Reg</td>\n",
              "      <td>Lvl</td>\n",
              "      <td>AllPub</td>\n",
              "      <td>...</td>\n",
              "      <td>0</td>\n",
              "      <td>0</td>\n",
              "      <td>NaN</td>\n",
              "      <td>NaN</td>\n",
              "      <td>NaN</td>\n",
              "      <td>0</td>\n",
              "      <td>6</td>\n",
              "      <td>2009</td>\n",
              "      <td>WD</td>\n",
              "      <td>Normal</td>\n",
              "    </tr>\n",
              "    <tr>\n",
              "      <th>3</th>\n",
              "      <td>1263</td>\n",
              "      <td>50</td>\n",
              "      <td>RL</td>\n",
              "      <td>NaN</td>\n",
              "      <td>11250</td>\n",
              "      <td>Pave</td>\n",
              "      <td>NaN</td>\n",
              "      <td>Reg</td>\n",
              "      <td>Lvl</td>\n",
              "      <td>AllPub</td>\n",
              "      <td>...</td>\n",
              "      <td>0</td>\n",
              "      <td>0</td>\n",
              "      <td>NaN</td>\n",
              "      <td>NaN</td>\n",
              "      <td>NaN</td>\n",
              "      <td>0</td>\n",
              "      <td>11</td>\n",
              "      <td>2009</td>\n",
              "      <td>WD</td>\n",
              "      <td>Normal</td>\n",
              "    </tr>\n",
              "    <tr>\n",
              "      <th>4</th>\n",
              "      <td>1264</td>\n",
              "      <td>70</td>\n",
              "      <td>RL</td>\n",
              "      <td>60.0</td>\n",
              "      <td>13515</td>\n",
              "      <td>Pave</td>\n",
              "      <td>Pave</td>\n",
              "      <td>Reg</td>\n",
              "      <td>Lvl</td>\n",
              "      <td>AllPub</td>\n",
              "      <td>...</td>\n",
              "      <td>0</td>\n",
              "      <td>0</td>\n",
              "      <td>NaN</td>\n",
              "      <td>GdPrv</td>\n",
              "      <td>NaN</td>\n",
              "      <td>0</td>\n",
              "      <td>7</td>\n",
              "      <td>2007</td>\n",
              "      <td>WD</td>\n",
              "      <td>Normal</td>\n",
              "    </tr>\n",
              "  </tbody>\n",
              "</table>\n",
              "<p>5 rows × 80 columns</p>\n",
              "</div>"
            ],
            "text/plain": [
              "     Id  MSSubClass MSZoning  LotFrontage  LotArea Street Alley LotShape  \\\n",
              "0  1260          20       RL         65.0     9750   Pave   NaN      Reg   \n",
              "1  1261          60       RL          NaN    24682   Pave   NaN      IR3   \n",
              "2  1262          20       RL         80.0     9600   Pave   NaN      Reg   \n",
              "3  1263          50       RL          NaN    11250   Pave   NaN      Reg   \n",
              "4  1264          70       RL         60.0    13515   Pave  Pave      Reg   \n",
              "\n",
              "  LandContour Utilities  ... ScreenPorch PoolArea PoolQC  Fence MiscFeature  \\\n",
              "0         Lvl    AllPub  ...          80        0    NaN    NaN         NaN   \n",
              "1         Lvl    AllPub  ...           0        0    NaN    NaN         NaN   \n",
              "2         Lvl    AllPub  ...           0        0    NaN    NaN         NaN   \n",
              "3         Lvl    AllPub  ...           0        0    NaN    NaN         NaN   \n",
              "4         Lvl    AllPub  ...           0        0    NaN  GdPrv         NaN   \n",
              "\n",
              "  MiscVal MoSold  YrSold  SaleType  SaleCondition  \n",
              "0       0      7    2008        WD         Normal  \n",
              "1       0      6    2009        WD         Normal  \n",
              "2       0      6    2009        WD         Normal  \n",
              "3       0     11    2009        WD         Normal  \n",
              "4       0      7    2007        WD         Normal  \n",
              "\n",
              "[5 rows x 80 columns]"
            ]
          },
          "execution_count": 13,
          "metadata": {},
          "output_type": "execute_result"
        }
      ],
      "source": [
        "test_df.head(5)"
      ]
    },
    {
      "cell_type": "code",
      "execution_count": 14,
      "metadata": {},
      "outputs": [],
      "source": [
        "test_data = test_df[[\"MSSubClass\", \"LotFrontage\", \"LotArea\", \"YrSold\"]]"
      ]
    },
    {
      "cell_type": "code",
      "execution_count": 15,
      "metadata": {},
      "outputs": [
        {
          "data": {
            "text/html": [
              "<div>\n",
              "<style scoped>\n",
              "    .dataframe tbody tr th:only-of-type {\n",
              "        vertical-align: middle;\n",
              "    }\n",
              "\n",
              "    .dataframe tbody tr th {\n",
              "        vertical-align: top;\n",
              "    }\n",
              "\n",
              "    .dataframe thead th {\n",
              "        text-align: right;\n",
              "    }\n",
              "</style>\n",
              "<table border=\"1\" class=\"dataframe\">\n",
              "  <thead>\n",
              "    <tr style=\"text-align: right;\">\n",
              "      <th></th>\n",
              "      <th>MSSubClass</th>\n",
              "      <th>LotFrontage</th>\n",
              "      <th>LotArea</th>\n",
              "      <th>YrSold</th>\n",
              "    </tr>\n",
              "  </thead>\n",
              "  <tbody>\n",
              "    <tr>\n",
              "      <th>0</th>\n",
              "      <td>20</td>\n",
              "      <td>65.0</td>\n",
              "      <td>9750</td>\n",
              "      <td>2008</td>\n",
              "    </tr>\n",
              "    <tr>\n",
              "      <th>1</th>\n",
              "      <td>60</td>\n",
              "      <td>NaN</td>\n",
              "      <td>24682</td>\n",
              "      <td>2009</td>\n",
              "    </tr>\n",
              "    <tr>\n",
              "      <th>2</th>\n",
              "      <td>20</td>\n",
              "      <td>80.0</td>\n",
              "      <td>9600</td>\n",
              "      <td>2009</td>\n",
              "    </tr>\n",
              "    <tr>\n",
              "      <th>3</th>\n",
              "      <td>50</td>\n",
              "      <td>NaN</td>\n",
              "      <td>11250</td>\n",
              "      <td>2009</td>\n",
              "    </tr>\n",
              "    <tr>\n",
              "      <th>4</th>\n",
              "      <td>70</td>\n",
              "      <td>60.0</td>\n",
              "      <td>13515</td>\n",
              "      <td>2007</td>\n",
              "    </tr>\n",
              "  </tbody>\n",
              "</table>\n",
              "</div>"
            ],
            "text/plain": [
              "   MSSubClass  LotFrontage  LotArea  YrSold\n",
              "0          20         65.0     9750    2008\n",
              "1          60          NaN    24682    2009\n",
              "2          20         80.0     9600    2009\n",
              "3          50          NaN    11250    2009\n",
              "4          70         60.0    13515    2007"
            ]
          },
          "execution_count": 15,
          "metadata": {},
          "output_type": "execute_result"
        }
      ],
      "source": [
        "test_data.head(5)"
      ]
    },
    {
      "cell_type": "code",
      "execution_count": 16,
      "metadata": {},
      "outputs": [],
      "source": [
        "test_data = test_data.dropna()"
      ]
    },
    {
      "cell_type": "markdown",
      "metadata": {},
      "source": [
        "### Converting to Numpy Arrays"
      ]
    },
    {
      "cell_type": "code",
      "execution_count": 17,
      "metadata": {},
      "outputs": [
        {
          "name": "stdout",
          "output_type": "stream",
          "text": [
            "Dataset Array Shape: (160, 4)\n",
            "Test X Shape: (160, 4)\n"
          ]
        }
      ],
      "source": [
        "test_dataset_array = np.array(test_data, dtype=float)\n",
        "print(\"Dataset Array Shape: \" + str(test_dataset_array.shape))\n",
        "\n",
        "\n",
        "test_X = []\n",
        "\n",
        "for row in test_dataset_array:\n",
        "  test_X.append(row[:4])\n",
        "\n",
        "\n",
        "test_X = np.array(test_X)\n",
        "\n",
        "from sklearn.preprocessing import StandardScaler\n",
        "scaler = StandardScaler()\n",
        "test_X = scaler.fit_transform(test_X)\n",
        "\n",
        "print(\"Test X Shape: \" + str(test_X.shape))"
      ]
    },
    {
      "cell_type": "markdown",
      "metadata": {},
      "source": [
        "## Cost Function"
      ]
    },
    {
      "cell_type": "code",
      "execution_count": 18,
      "metadata": {},
      "outputs": [],
      "source": [
        "def cost(y, y_hat):\n",
        "  n = y.shape[0]\n",
        "\n",
        "  sum = 0\n",
        "\n",
        "  for predict, actual in zip(y, y_hat):\n",
        "    sum = sum + (predict - actual)**2\n",
        "\n",
        "  j = sum / (2 * n)\n",
        "\n",
        "  return j"
      ]
    },
    {
      "cell_type": "markdown",
      "metadata": {},
      "source": [
        "## Carrying out the learning ( **Batch Gradient Descent** )"
      ]
    },
    {
      "cell_type": "markdown",
      "metadata": {},
      "source": [
        "### Initialize random weights"
      ]
    },
    {
      "cell_type": "code",
      "execution_count": 19,
      "metadata": {},
      "outputs": [
        {
          "name": "stdout",
          "output_type": "stream",
          "text": [
            "Shape of weights: (5,)\n",
            "Random Weights: [0.99002241 0.35828378 0.93888335 0.48168903 0.41896512]\n"
          ]
        }
      ],
      "source": [
        "weights = np.random.rand(X.shape[1] + 1)\n",
        "\n",
        "print(\"Shape of weights: \" + str(weights.shape))\n",
        "print(\"Random Weights: \" + str(weights))"
      ]
    },
    {
      "cell_type": "markdown",
      "metadata": {},
      "source": [
        "### Perfoming Forward and Backward Propgations"
      ]
    },
    {
      "cell_type": "code",
      "execution_count": 20,
      "metadata": {},
      "outputs": [],
      "source": [
        "costs = []\n",
        "\n",
        "costs.append(cost(weights, y))\n",
        "\n",
        "for epoch in range(1000):\n",
        "  hx = forward_prop(weights, X)\n",
        "  c = cost(hx, y)\n",
        "  costs.append(c)\n",
        "  weights = back_prop(weights, hx, y, X, 0.01)"
      ]
    },
    {
      "cell_type": "code",
      "execution_count": 21,
      "metadata": {},
      "outputs": [
        {
          "name": "stdout",
          "output_type": "stream",
          "text": [
            "Cost : 20846544306.968895\n",
            "Cost : 20129825872.30577\n",
            "Cost : 19783446662.08977\n",
            "Cost : 19444147047.026764\n",
            "Cost : 19111779694.103622\n",
            "Cost : 18786200418.672062\n",
            "Cost : 18467268114.608067\n",
            "Cost : 18154844686.098732\n",
            "Cost : 17848794981.01659\n",
            "Cost : 17548986725.84216\n",
            "Final Cost: 2971735130.008926\n"
          ]
        }
      ],
      "source": [
        "for x in costs[0:10]:\n",
        "    print(\"Cost : \" + str(x))\n",
        "\n",
        "print(\"Final Cost: \" + str(costs[-1]))"
      ]
    },
    {
      "cell_type": "markdown",
      "metadata": {},
      "source": [
        "### Final Weights For Our Params"
      ]
    },
    {
      "cell_type": "code",
      "execution_count": 22,
      "metadata": {},
      "outputs": [
        {
          "data": {
            "text/plain": [
              "array([181645.07812855,   6679.93370607,  28268.760245  ,  16899.11700867,\n",
              "        -3056.93210683])"
            ]
          },
          "execution_count": 22,
          "metadata": {},
          "output_type": "execute_result"
        }
      ],
      "source": [
        "weights"
      ]
    },
    {
      "cell_type": "markdown",
      "metadata": {},
      "source": [
        "### Making Predictions"
      ]
    },
    {
      "cell_type": "code",
      "execution_count": 23,
      "metadata": {},
      "outputs": [],
      "source": [
        "batch_predict = forward_prop(weights, test_X)"
      ]
    },
    {
      "cell_type": "code",
      "execution_count": 24,
      "metadata": {},
      "outputs": [
        {
          "data": {
            "text/plain": [
              "array([171384.44856439, 183395.39525102, 187839.2980255 , 139097.03555364,\n",
              "       149827.48061253, 196054.32285798, 200889.4108815 , 195892.72636961,\n",
              "       243967.5938515 , 153220.39217377, 218772.19609704, 186540.23210318,\n",
              "       159714.88034587, 171241.72975008, 156060.54925302, 162293.72295314,\n",
              "       205052.95815137, 156347.60592287, 147630.56018228, 147562.73092362,\n",
              "       206740.10552097, 122992.90866517, 162358.17663206, 196076.53388548,\n",
              "       166265.34719865, 176787.67719642, 182958.37578417, 152726.34947862,\n",
              "       585115.81135591, 169843.65445746, 209782.01614822, 180608.47180192,\n",
              "       145752.66036532, 221732.48648469, 166187.1800809 , 159108.88420894,\n",
              "       212603.61822036, 224666.8818483 , 173788.41051361, 230450.04191992,\n",
              "       164035.09742757, 201217.69581172, 166606.1106326 , 154678.50027942,\n",
              "       184908.17760271, 169933.62568492, 215592.12011631, 142524.08752516,\n",
              "       184215.65531758, 129853.08909381, 163553.55718516, 156942.07108666,\n",
              "       173175.14547996, 178133.82093432, 194090.82475194, 178476.76989607,\n",
              "       168426.27888782, 167946.38125986, 128023.34918357, 183546.60099013,\n",
              "       202273.62987005, 246991.07974297, 222802.16792127, 229459.80948088,\n",
              "       174182.43719234, 184297.86456303, 159225.11329218, 203587.05486279,\n",
              "       149119.61210358, 218003.04324839, 150727.47368579, 211170.88189685,\n",
              "       180940.36624869, 147630.56018228, 177615.85634261, 222912.89999298,\n",
              "       260013.42991762, 165597.49194854, 246492.00003351, 183912.86177697,\n",
              "       143232.68099469, 178768.16007801, 152491.37689199, 152775.60836573,\n",
              "       185147.4186226 , 194921.02634725, 191947.27957218, 199856.84415972,\n",
              "       201020.8552321 , 149684.53614831, 172577.91769128, 130672.54351222,\n",
              "       188446.29956366, 144038.48657667, 171026.69701289, 166717.18324332,\n",
              "       133807.44378052, 217857.10030413, 169653.52893524, 162034.2497344 ,\n",
              "       162032.75968402, 178904.55754398, 177443.43334833, 183132.58452065,\n",
              "       195826.03707273, 162303.42197832, 211260.57170086, 156626.42056624,\n",
              "       161092.32974837, 149130.96699278, 149915.24401944, 167533.92250571,\n",
              "       165934.47808668, 174587.37746865, 177653.78971082, 148270.61035853,\n",
              "       180080.73704745, 163520.98364663, 191504.99455774, 197100.74726021,\n",
              "       188015.86888055, 167252.96125442, 195477.27671938, 185010.29013689,\n",
              "       152242.91704063, 192889.6913808 , 175632.98098974, 212593.55113866,\n",
              "       153158.6384001 , 143180.9281452 , 189070.11175906, 196888.40404429,\n",
              "       174656.96172325, 155727.33015818, 214031.74987862, 173468.1948857 ,\n",
              "       206622.33184092, 213837.5420639 , 182051.1413495 , 166484.63040118,\n",
              "       210013.19245271, 184311.65952384, 200125.23815934, 198222.03035857,\n",
              "       198715.27571024, 167922.42255829, 184514.01955658, 195335.04034428,\n",
              "       189305.66146056, 132482.7310567 , 172696.36786243, 180406.67808914,\n",
              "       152726.34947862, 223116.96088617, 159345.65691898, 171336.71196355,\n",
              "       196838.33767403, 173358.08018955, 169665.13465047, 181782.78985608])"
            ]
          },
          "execution_count": 24,
          "metadata": {},
          "output_type": "execute_result"
        }
      ],
      "source": [
        "batch_predict"
      ]
    },
    {
      "cell_type": "markdown",
      "metadata": {},
      "source": [
        "## Carrying out the learning ( **Mini-Batch Gradient Descent** )"
      ]
    },
    {
      "cell_type": "markdown",
      "metadata": {},
      "source": [
        "### Initialize Random Weights"
      ]
    },
    {
      "cell_type": "code",
      "execution_count": 25,
      "metadata": {},
      "outputs": [
        {
          "name": "stdout",
          "output_type": "stream",
          "text": [
            "Shape of weights: (5,)\n",
            "Random Weights: [0.77877123 0.24461613 0.47640725 0.75648348 0.10223755]\n"
          ]
        }
      ],
      "source": [
        "weights = np.random.rand(X.shape[1] + 1)\n",
        "\n",
        "print(\"Shape of weights: \" + str(weights.shape))\n",
        "print(\"Random Weights: \" + str(weights))"
      ]
    },
    {
      "cell_type": "markdown",
      "metadata": {},
      "source": [
        "### Initialize Batches"
      ]
    },
    {
      "cell_type": "code",
      "execution_count": 26,
      "metadata": {},
      "outputs": [
        {
          "name": "stdout",
          "output_type": "stream",
          "text": [
            "Shape Of Batches X: (3, 300, 4)\n",
            "Shape Of Batches y: (3, 300)\n"
          ]
        }
      ],
      "source": [
        "batchSize = 300\n",
        "\n",
        "batches_X = []\n",
        "batches_y = []\n",
        "\n",
        "for i in range(X.shape[0] // batchSize):\n",
        "    batches_X.append(X[300*i : 300*(i+1)])\n",
        "    batches_y.append(y[300*i : 300*(i+1)])\n",
        "\n",
        "batches_X = np.array(batches_X)\n",
        "batches_y = np.array(batches_y)\n",
        "\n",
        "\n",
        "print(\"Shape Of Batches X: \" + str(batches_X.shape))\n",
        "print(\"Shape Of Batches y: \" + str(batches_y.shape))"
      ]
    },
    {
      "cell_type": "markdown",
      "metadata": {},
      "source": [
        "### Perform Forward and Backward Propogations"
      ]
    },
    {
      "cell_type": "code",
      "execution_count": 27,
      "metadata": {},
      "outputs": [],
      "source": [
        "costs = []\n",
        "\n",
        "# interate over the whole dataset\n",
        "for epoch in range(1000):\n",
        "  # for every batch perform forward and backward propogation\n",
        "  for batchx,batchy in zip(batches_X,batches_y):\n",
        "    # forward propogation\n",
        "    hx = forward_prop(weights, batchx)\n",
        "    # backward propogation\n",
        "    weights = back_prop(weights, hx, batchy, batchx, 0.01)\n",
        "  \n",
        "\n",
        "  # get cost against each epoch after a batch completes\n",
        "  c = cost(hx, y)\n",
        "  costs.append(c)"
      ]
    },
    {
      "cell_type": "code",
      "execution_count": 28,
      "metadata": {},
      "outputs": [
        {
          "name": "stdout",
          "output_type": "stream",
          "text": [
            "Cost : 20070002912.804523\n",
            "Cost : 19129708451.90954\n",
            "Cost : 18244522686.228794\n",
            "Cost : 17411164097.615616\n",
            "Cost : 16626550375.86808\n",
            "Cost : 15887785997.641592\n",
            "Cost : 15192150610.179417\n",
            "Cost : 14537088164.893816\n",
            "Cost : 13920196749.839249\n",
            "Cost : 13339219073.813112\n",
            "Final Cost: 3792752338.9103174\n"
          ]
        }
      ],
      "source": [
        "for x in costs[0:10]:\n",
        "    print(\"Cost : \" + str(x))\n",
        "\n",
        "print(\"Final Cost: \" + str(costs[-1]))"
      ]
    },
    {
      "cell_type": "code",
      "execution_count": 29,
      "metadata": {},
      "outputs": [
        {
          "data": {
            "text/plain": [
              "array([182370.57703046,   5399.94873517,  27026.57774312,  15831.13296188,\n",
              "        -3411.21361518])"
            ]
          },
          "execution_count": 29,
          "metadata": {},
          "output_type": "execute_result"
        }
      ],
      "source": [
        "weights"
      ]
    },
    {
      "cell_type": "markdown",
      "metadata": {},
      "source": [
        "### Making Predictions"
      ]
    },
    {
      "cell_type": "code",
      "execution_count": 30,
      "metadata": {},
      "outputs": [],
      "source": [
        "mini_batch_predict = forward_prop(weights, test_X)"
      ]
    },
    {
      "cell_type": "code",
      "execution_count": 31,
      "metadata": {},
      "outputs": [
        {
          "data": {
            "text/plain": [
              "array([173376.87580972, 184503.59812708, 188117.39134986, 140565.14912331,\n",
              "       150663.58612675, 193439.82352489, 200653.26936712, 196398.24186083,\n",
              "       241303.3245072 , 155949.35159733, 217362.51801188, 186973.04745091,\n",
              "       160938.43408611, 172871.87538256, 159555.74040238, 164375.75826656,\n",
              "       203263.86306353, 157594.62492288, 149837.64456318, 148200.26694905,\n",
              "       206922.94679025, 124032.31509768, 163428.27869232, 196781.81676094,\n",
              "       169304.95784588, 179351.64007019, 184503.36605193, 152983.68293335,\n",
              "       564865.85293034, 171304.45711446, 209886.21898305, 182987.77107908,\n",
              "       146789.4832932 , 220948.02402933, 167026.67235277, 161373.2599162 ,\n",
              "       212653.77656385, 223136.33299057, 176094.8834198 , 227914.34100389,\n",
              "       166806.48576216, 200912.26880707, 168415.61328985, 155817.21112492,\n",
              "       186644.44458545, 171703.24193177, 213976.47071109, 145449.45928041,\n",
              "       185995.68806348, 133799.06816245, 166346.93098591, 159752.55303507,\n",
              "       174366.38004128, 179689.03291491, 195436.10873451, 179463.26709574,\n",
              "       170234.35432598, 170286.39889691, 128801.64527159, 184645.24802271,\n",
              "       201345.9823871 , 246492.07856147, 222140.32964191, 229641.71115003,\n",
              "       176501.87624532, 185493.12844474, 160831.9864011 , 203541.05879476,\n",
              "       152446.4999741 , 217988.60261869, 152752.43885626, 209347.51581744,\n",
              "       181632.41057255, 149837.64456318, 177632.3755346 , 221981.03021436,\n",
              "       258434.81999861, 166701.6411407 , 244445.73671869, 184883.02179018,\n",
              "       144390.89293516, 179559.61497444, 153272.73358048, 154803.85707961,\n",
              "       185740.88061667, 194523.29421729, 192856.71996497, 199637.41974642,\n",
              "       202003.91314595, 152604.42105848, 173397.72683034, 132454.12166623,\n",
              "       188325.2178453 , 146364.31386811, 172776.47557827, 167907.37687583,\n",
              "       136289.6089941 , 217223.770824  , 171476.49009533, 163772.94001931,\n",
              "       164337.33535571, 181334.73860898, 177259.28183081, 183972.09271769,\n",
              "       192816.79605928, 163483.02777739, 210786.42914424, 158706.68895635,\n",
              "       162638.00075849, 151262.16307625, 152387.11060932, 168921.75143656,\n",
              "       169070.73426929, 176483.61444194, 179380.32219619, 149348.31427863,\n",
              "       179923.47605224, 164108.43026648, 191074.96710998, 196532.72973315,\n",
              "       188238.71314911, 167618.1541212 , 195973.40417738, 185529.30706687,\n",
              "       152792.94875477, 189247.68283978, 177470.51416962, 212482.20394482,\n",
              "       153279.497597  , 144447.75095059, 190228.85483319, 196780.84260042,\n",
              "       175754.54901843, 157598.45803099, 213261.49648941, 175445.64865459,\n",
              "       206126.81546646, 214249.37998337, 183653.46667817, 169101.21407132,\n",
              "       210151.32415692, 185142.12635898, 200203.35144057, 197794.53398615,\n",
              "       198158.82691122, 170504.94272513, 184894.92323845, 195715.88274709,\n",
              "       190075.99301763, 133754.33922432, 172717.55036378, 181665.89309259,\n",
              "       152983.68293335, 223131.70006563, 161632.93685027, 172893.3824348 ,\n",
              "       196782.47896842, 173437.44876877, 171004.6823964 , 183307.40511962])"
            ]
          },
          "execution_count": 31,
          "metadata": {},
          "output_type": "execute_result"
        }
      ],
      "source": [
        "mini_batch_predict"
      ]
    },
    {
      "cell_type": "markdown",
      "metadata": {},
      "source": [
        "## Carrying out the learning ( **Schotatic Gradient Descent** )"
      ]
    },
    {
      "cell_type": "markdown",
      "metadata": {},
      "source": [
        "### Initialize Random Weights"
      ]
    },
    {
      "cell_type": "code",
      "execution_count": 32,
      "metadata": {},
      "outputs": [
        {
          "name": "stdout",
          "output_type": "stream",
          "text": [
            "Shape of weights: (5,)\n",
            "Random Weights: [0.58035093 0.96795428 0.51883266 0.77690887 0.70493833]\n"
          ]
        }
      ],
      "source": [
        "weights = np.random.rand(X.shape[1] + 1)\n",
        "\n",
        "print(\"Shape of weights: \" + str(weights.shape))\n",
        "print(\"Random Weights: \" + str(weights))"
      ]
    },
    {
      "cell_type": "markdown",
      "metadata": {},
      "source": [
        "### Perform Forward and Backward Propogations"
      ]
    },
    {
      "cell_type": "code",
      "execution_count": 33,
      "metadata": {},
      "outputs": [],
      "source": [
        "costs = []\n",
        "\n",
        "# interate over the whole dataset\n",
        "for epoch in range(100):\n",
        "  # for every row in data perform forward and backward propogation\n",
        "  for rowx,rowy in zip(X,y):\n",
        "    \n",
        "    # convert to seperate array objects so it can be used by above coded functions\n",
        "    tempx = []\n",
        "    tempy = []\n",
        "    tempx.append(rowx)\n",
        "    tempy.append(rowy)\n",
        "    tempx = np.array(tempx)\n",
        "    tempy = np.array(tempy)\n",
        "\n",
        "    # perform forward propogation\n",
        "    hx = forward_prop(weights, tempx)\n",
        "\n",
        "    # get the cost\n",
        "    c = cost(hx, y)\n",
        "    costs.append(c)\n",
        "\n",
        "    # perform backward propogation\n",
        "    weights = back_prop(weights, hx, tempy, tempx, 0.01)\n"
      ]
    },
    {
      "cell_type": "code",
      "execution_count": 34,
      "metadata": {},
      "outputs": [
        {
          "name": "stdout",
          "output_type": "stream",
          "text": [
            "Cost : 21736021551.515656\n",
            "Cost : 21404880236.967426\n",
            "Cost : 20998645534.88751\n",
            "Cost : 20451769733.35812\n",
            "Cost : 20377243000.01748\n",
            "Cost : 19822761978.18093\n",
            "Cost : 19165296167.799423\n",
            "Cost : 19399822652.84359\n",
            "Cost : 21257519772.57701\n",
            "Cost : 18477143314.18593\n",
            "Final Cost: 957710499.8922733\n"
          ]
        }
      ],
      "source": [
        "for x in costs[0:10]:\n",
        "    print(\"Cost : \" + str(x))\n",
        "\n",
        "print(\"Final Cost: \" + str(costs[-1]))"
      ]
    },
    {
      "cell_type": "code",
      "execution_count": 35,
      "metadata": {},
      "outputs": [
        {
          "data": {
            "text/plain": [
              "array([179787.35505937,   5115.95408968,  32434.24401099,  32882.72344207,\n",
              "        -2306.61355325])"
            ]
          },
          "execution_count": 35,
          "metadata": {},
          "output_type": "execute_result"
        }
      ],
      "source": [
        "weights"
      ]
    },
    {
      "cell_type": "markdown",
      "metadata": {},
      "source": [
        "### Making Predictions"
      ]
    },
    {
      "cell_type": "code",
      "execution_count": 36,
      "metadata": {},
      "outputs": [],
      "source": [
        "schotatic_predict = forward_prop(weights, test_X)"
      ]
    },
    {
      "cell_type": "code",
      "execution_count": 37,
      "metadata": {},
      "outputs": [
        {
          "data": {
            "text/plain": [
              "array([171064.28010656, 185380.30031005, 195199.88250877, 114404.29006675,\n",
              "       121786.09466806, 189377.06126898, 215076.1576617 , 200372.84674888,\n",
              "       255072.14009928, 136968.05776417, 224275.90555449, 185434.26660285,\n",
              "       152274.3735746 , 171938.00856046, 147580.15148557, 159237.49853352,\n",
              "       206530.84192009, 153573.48836231, 133889.9607491 , 128887.98904247,\n",
              "       210659.95360015,  88727.50072547, 151061.44595775, 196191.5029858 ,\n",
              "       159585.66053753, 172209.03137771, 181808.25437442, 123792.14910785,\n",
              "       774133.02723348, 165658.2882465 , 211868.2343662 , 177288.25642684,\n",
              "       116212.58018835, 237994.0929836 , 150681.86606598, 153825.48399186,\n",
              "       223790.22391857, 252706.58832709, 170664.91427356, 250409.33854289,\n",
              "       157967.6674521 , 206142.80027174, 167628.65005735, 131794.79650305,\n",
              "       186806.16551784, 167037.29463034, 222283.54778666, 127588.29578168,\n",
              "       185458.63837972, 108062.30974748, 147362.11461799, 146887.56240993,\n",
              "       173022.328143  , 173054.98656563, 196822.74805153, 176368.66138362,\n",
              "       166459.63403824, 157404.70317617,  96160.48496782, 185674.5202092 ,\n",
              "       201175.25945891, 241829.94160405, 234847.79807976, 235443.57353827,\n",
              "       169861.37294238, 195406.40295969, 150955.06247672, 208031.47566438,\n",
              "       134978.66692857, 237070.74622962, 133559.69282971, 218068.94041518,\n",
              "       178463.52860866, 133889.9607491 , 190247.03577219, 225932.7574398 ,\n",
              "       287829.45315264, 161709.02117787, 273609.78592307, 179170.42959647,\n",
              "       112879.38973745, 175807.0439258 , 122258.82568623, 153645.21005324,\n",
              "       175486.23435945, 194181.56751549, 190512.0693424 , 203494.82117936,\n",
              "       207166.87769275, 137229.34451051, 174581.90996842,  95505.67812221,\n",
              "       187078.75157317, 137182.35446969, 159763.82149494, 163177.94667727,\n",
              "       117565.5199375 , 237002.42419074, 163448.19626467, 173649.96765617,\n",
              "       148619.51334739, 176328.10996584, 172854.45719881, 174312.78862725,\n",
              "       191654.53964833, 139199.13198534, 220607.42374392, 141531.20413409,\n",
              "       152232.9664288 , 136024.36561421, 135613.87299822, 158657.92902368,\n",
              "       155801.35062145, 187136.92269027, 176293.62070175, 124403.21940649,\n",
              "       174969.2270756 , 156045.7474093 , 217863.42518305, 205564.36644979,\n",
              "       188918.97778821, 156951.20306636, 202608.53357845, 192910.95131272,\n",
              "       129358.44644491, 191384.29006093, 174620.43566784, 218909.23755941,\n",
              "       132291.71419288, 119995.45774041, 193700.62269816, 200859.25289594,\n",
              "       175905.6831547 , 148149.93586091, 245261.44462586, 174505.50534725,\n",
              "       210378.28279357, 236450.34132519, 180042.93497951, 162734.02981837,\n",
              "       221890.20538303, 182033.63138414, 205221.00704421, 203207.18606145,\n",
              "       203995.21136784, 163176.34925686, 178152.25366461, 195900.12063906,\n",
              "       193836.56461567,  95393.3492881 , 167543.11943584, 181135.02817177,\n",
              "       123792.14910785, 246655.22459433, 152715.95396556, 163335.80906029,\n",
              "       210333.97490034, 170476.27044326, 170806.78890489, 183446.39062943])"
            ]
          },
          "execution_count": 37,
          "metadata": {},
          "output_type": "execute_result"
        }
      ],
      "source": [
        "schotatic_predict"
      ]
    }
  ],
  "metadata": {
    "colab": {
      "provenance": []
    },
    "kernelspec": {
      "display_name": "Python 3",
      "name": "python3"
    },
    "language_info": {
      "codemirror_mode": {
        "name": "ipython",
        "version": 3
      },
      "file_extension": ".py",
      "mimetype": "text/x-python",
      "name": "python",
      "nbconvert_exporter": "python",
      "pygments_lexer": "ipython3",
      "version": "3.11.4"
    }
  },
  "nbformat": 4,
  "nbformat_minor": 0
}
