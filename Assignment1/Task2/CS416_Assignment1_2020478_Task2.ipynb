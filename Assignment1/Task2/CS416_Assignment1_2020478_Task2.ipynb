{
  "cells": [
    {
      "cell_type": "markdown",
      "metadata": {
        "id": "k4bUK3--R15z"
      },
      "source": [
        "# CS 416 - Intro to Deep Learning\n",
        "## Assignment 1\n",
        "\n",
        "---\n",
        "\n",
        "**Name** : Syed Muhammad Ashhar Shah\n",
        "\n",
        "**Reg No** : 2020478"
      ]
    },
    {
      "cell_type": "markdown",
      "metadata": {
        "id": "0PgezUsSSJUW"
      },
      "source": [
        "# Task 2"
      ]
    },
    {
      "cell_type": "markdown",
      "metadata": {
        "id": "uHns3z-VQt0R"
      },
      "source": [
        "## Importing the required libraries."
      ]
    },
    {
      "cell_type": "code",
      "execution_count": 1,
      "metadata": {
        "id": "RDNA4OFeRw3U"
      },
      "outputs": [
        {
          "name": "stderr",
          "output_type": "stream",
          "text": [
            "2023-10-15 11:47:42.972878: I tensorflow/tsl/cuda/cudart_stub.cc:28] Could not find cuda drivers on your machine, GPU will not be used.\n",
            "2023-10-15 11:47:43.061486: E tensorflow/compiler/xla/stream_executor/cuda/cuda_dnn.cc:9342] Unable to register cuDNN factory: Attempting to register factory for plugin cuDNN when one has already been registered\n",
            "2023-10-15 11:47:43.061558: E tensorflow/compiler/xla/stream_executor/cuda/cuda_fft.cc:609] Unable to register cuFFT factory: Attempting to register factory for plugin cuFFT when one has already been registered\n",
            "2023-10-15 11:47:43.061632: E tensorflow/compiler/xla/stream_executor/cuda/cuda_blas.cc:1518] Unable to register cuBLAS factory: Attempting to register factory for plugin cuBLAS when one has already been registered\n",
            "2023-10-15 11:47:43.075853: I tensorflow/tsl/cuda/cudart_stub.cc:28] Could not find cuda drivers on your machine, GPU will not be used.\n",
            "2023-10-15 11:47:44.710847: W tensorflow/compiler/tf2tensorrt/utils/py_utils.cc:38] TF-TRT Warning: Could not find TensorRT\n"
          ]
        }
      ],
      "source": [
        "import pandas as pd\n",
        "import numpy as np\n",
        "import tensorflow as tf\n",
        "from sklearn.model_selection import train_test_split"
      ]
    },
    {
      "cell_type": "markdown",
      "metadata": {
        "id": "cWhlqO7FQz_4"
      },
      "source": [
        "## Getting the dataset from the URL"
      ]
    },
    {
      "cell_type": "code",
      "execution_count": 2,
      "metadata": {
        "id": "Dfhc9c5PQyWc"
      },
      "outputs": [],
      "source": [
        "dataset = \"./train.csv\""
      ]
    },
    {
      "cell_type": "code",
      "execution_count": 3,
      "metadata": {
        "id": "JwBz2BToQ4Za"
      },
      "outputs": [],
      "source": [
        "df = pd.read_csv(dataset)"
      ]
    },
    {
      "cell_type": "code",
      "execution_count": 4,
      "metadata": {
        "colab": {
          "base_uri": "https://localhost:8080/",
          "height": 301
        },
        "id": "4XKLbNPcQ6LO",
        "outputId": "5935504e-c060-45ee-8f54-42894538b5ce"
      },
      "outputs": [
        {
          "data": {
            "text/html": [
              "<div>\n",
              "<style scoped>\n",
              "    .dataframe tbody tr th:only-of-type {\n",
              "        vertical-align: middle;\n",
              "    }\n",
              "\n",
              "    .dataframe tbody tr th {\n",
              "        vertical-align: top;\n",
              "    }\n",
              "\n",
              "    .dataframe thead th {\n",
              "        text-align: right;\n",
              "    }\n",
              "</style>\n",
              "<table border=\"1\" class=\"dataframe\">\n",
              "  <thead>\n",
              "    <tr style=\"text-align: right;\">\n",
              "      <th></th>\n",
              "      <th>Id</th>\n",
              "      <th>MSSubClass</th>\n",
              "      <th>MSZoning</th>\n",
              "      <th>LotFrontage</th>\n",
              "      <th>LotArea</th>\n",
              "      <th>Street</th>\n",
              "      <th>Alley</th>\n",
              "      <th>LotShape</th>\n",
              "      <th>LandContour</th>\n",
              "      <th>Utilities</th>\n",
              "      <th>...</th>\n",
              "      <th>PoolArea</th>\n",
              "      <th>PoolQC</th>\n",
              "      <th>Fence</th>\n",
              "      <th>MiscFeature</th>\n",
              "      <th>MiscVal</th>\n",
              "      <th>MoSold</th>\n",
              "      <th>YrSold</th>\n",
              "      <th>SaleType</th>\n",
              "      <th>SaleCondition</th>\n",
              "      <th>SalePrice</th>\n",
              "    </tr>\n",
              "  </thead>\n",
              "  <tbody>\n",
              "    <tr>\n",
              "      <th>0</th>\n",
              "      <td>1</td>\n",
              "      <td>60</td>\n",
              "      <td>RL</td>\n",
              "      <td>65.0</td>\n",
              "      <td>8450</td>\n",
              "      <td>Pave</td>\n",
              "      <td>NaN</td>\n",
              "      <td>Reg</td>\n",
              "      <td>Lvl</td>\n",
              "      <td>AllPub</td>\n",
              "      <td>...</td>\n",
              "      <td>0</td>\n",
              "      <td>NaN</td>\n",
              "      <td>NaN</td>\n",
              "      <td>NaN</td>\n",
              "      <td>0</td>\n",
              "      <td>2</td>\n",
              "      <td>2008</td>\n",
              "      <td>WD</td>\n",
              "      <td>Normal</td>\n",
              "      <td>208500</td>\n",
              "    </tr>\n",
              "    <tr>\n",
              "      <th>1</th>\n",
              "      <td>2</td>\n",
              "      <td>20</td>\n",
              "      <td>RL</td>\n",
              "      <td>80.0</td>\n",
              "      <td>9600</td>\n",
              "      <td>Pave</td>\n",
              "      <td>NaN</td>\n",
              "      <td>Reg</td>\n",
              "      <td>Lvl</td>\n",
              "      <td>AllPub</td>\n",
              "      <td>...</td>\n",
              "      <td>0</td>\n",
              "      <td>NaN</td>\n",
              "      <td>NaN</td>\n",
              "      <td>NaN</td>\n",
              "      <td>0</td>\n",
              "      <td>5</td>\n",
              "      <td>2007</td>\n",
              "      <td>WD</td>\n",
              "      <td>Normal</td>\n",
              "      <td>181500</td>\n",
              "    </tr>\n",
              "    <tr>\n",
              "      <th>2</th>\n",
              "      <td>3</td>\n",
              "      <td>60</td>\n",
              "      <td>RL</td>\n",
              "      <td>68.0</td>\n",
              "      <td>11250</td>\n",
              "      <td>Pave</td>\n",
              "      <td>NaN</td>\n",
              "      <td>IR1</td>\n",
              "      <td>Lvl</td>\n",
              "      <td>AllPub</td>\n",
              "      <td>...</td>\n",
              "      <td>0</td>\n",
              "      <td>NaN</td>\n",
              "      <td>NaN</td>\n",
              "      <td>NaN</td>\n",
              "      <td>0</td>\n",
              "      <td>9</td>\n",
              "      <td>2008</td>\n",
              "      <td>WD</td>\n",
              "      <td>Normal</td>\n",
              "      <td>223500</td>\n",
              "    </tr>\n",
              "    <tr>\n",
              "      <th>3</th>\n",
              "      <td>4</td>\n",
              "      <td>70</td>\n",
              "      <td>RL</td>\n",
              "      <td>60.0</td>\n",
              "      <td>9550</td>\n",
              "      <td>Pave</td>\n",
              "      <td>NaN</td>\n",
              "      <td>IR1</td>\n",
              "      <td>Lvl</td>\n",
              "      <td>AllPub</td>\n",
              "      <td>...</td>\n",
              "      <td>0</td>\n",
              "      <td>NaN</td>\n",
              "      <td>NaN</td>\n",
              "      <td>NaN</td>\n",
              "      <td>0</td>\n",
              "      <td>2</td>\n",
              "      <td>2006</td>\n",
              "      <td>WD</td>\n",
              "      <td>Abnorml</td>\n",
              "      <td>140000</td>\n",
              "    </tr>\n",
              "    <tr>\n",
              "      <th>4</th>\n",
              "      <td>5</td>\n",
              "      <td>60</td>\n",
              "      <td>RL</td>\n",
              "      <td>84.0</td>\n",
              "      <td>14260</td>\n",
              "      <td>Pave</td>\n",
              "      <td>NaN</td>\n",
              "      <td>IR1</td>\n",
              "      <td>Lvl</td>\n",
              "      <td>AllPub</td>\n",
              "      <td>...</td>\n",
              "      <td>0</td>\n",
              "      <td>NaN</td>\n",
              "      <td>NaN</td>\n",
              "      <td>NaN</td>\n",
              "      <td>0</td>\n",
              "      <td>12</td>\n",
              "      <td>2008</td>\n",
              "      <td>WD</td>\n",
              "      <td>Normal</td>\n",
              "      <td>250000</td>\n",
              "    </tr>\n",
              "  </tbody>\n",
              "</table>\n",
              "<p>5 rows × 81 columns</p>\n",
              "</div>"
            ],
            "text/plain": [
              "   Id  MSSubClass MSZoning  LotFrontage  LotArea Street Alley LotShape  \\\n",
              "0   1          60       RL         65.0     8450   Pave   NaN      Reg   \n",
              "1   2          20       RL         80.0     9600   Pave   NaN      Reg   \n",
              "2   3          60       RL         68.0    11250   Pave   NaN      IR1   \n",
              "3   4          70       RL         60.0     9550   Pave   NaN      IR1   \n",
              "4   5          60       RL         84.0    14260   Pave   NaN      IR1   \n",
              "\n",
              "  LandContour Utilities  ... PoolArea PoolQC Fence MiscFeature MiscVal MoSold  \\\n",
              "0         Lvl    AllPub  ...        0    NaN   NaN         NaN       0      2   \n",
              "1         Lvl    AllPub  ...        0    NaN   NaN         NaN       0      5   \n",
              "2         Lvl    AllPub  ...        0    NaN   NaN         NaN       0      9   \n",
              "3         Lvl    AllPub  ...        0    NaN   NaN         NaN       0      2   \n",
              "4         Lvl    AllPub  ...        0    NaN   NaN         NaN       0     12   \n",
              "\n",
              "  YrSold  SaleType  SaleCondition  SalePrice  \n",
              "0   2008        WD         Normal     208500  \n",
              "1   2007        WD         Normal     181500  \n",
              "2   2008        WD         Normal     223500  \n",
              "3   2006        WD        Abnorml     140000  \n",
              "4   2008        WD         Normal     250000  \n",
              "\n",
              "[5 rows x 81 columns]"
            ]
          },
          "execution_count": 4,
          "metadata": {},
          "output_type": "execute_result"
        }
      ],
      "source": [
        "df.head(5)"
      ]
    },
    {
      "cell_type": "markdown",
      "metadata": {},
      "source": [
        "### Selecting Specific Columns\n",
        "Only using those columns that contain numerical values to make predictions using the linear regression algorithm."
      ]
    },
    {
      "cell_type": "code",
      "execution_count": 5,
      "metadata": {},
      "outputs": [],
      "source": [
        "data = df[[\"MSSubClass\", \"LotFrontage\", \"LotArea\", \"YrSold\", \"SalePrice\"]]"
      ]
    },
    {
      "cell_type": "code",
      "execution_count": 6,
      "metadata": {},
      "outputs": [
        {
          "data": {
            "text/html": [
              "<div>\n",
              "<style scoped>\n",
              "    .dataframe tbody tr th:only-of-type {\n",
              "        vertical-align: middle;\n",
              "    }\n",
              "\n",
              "    .dataframe tbody tr th {\n",
              "        vertical-align: top;\n",
              "    }\n",
              "\n",
              "    .dataframe thead th {\n",
              "        text-align: right;\n",
              "    }\n",
              "</style>\n",
              "<table border=\"1\" class=\"dataframe\">\n",
              "  <thead>\n",
              "    <tr style=\"text-align: right;\">\n",
              "      <th></th>\n",
              "      <th>MSSubClass</th>\n",
              "      <th>LotFrontage</th>\n",
              "      <th>LotArea</th>\n",
              "      <th>YrSold</th>\n",
              "      <th>SalePrice</th>\n",
              "    </tr>\n",
              "  </thead>\n",
              "  <tbody>\n",
              "    <tr>\n",
              "      <th>0</th>\n",
              "      <td>60</td>\n",
              "      <td>65.0</td>\n",
              "      <td>8450</td>\n",
              "      <td>2008</td>\n",
              "      <td>208500</td>\n",
              "    </tr>\n",
              "    <tr>\n",
              "      <th>1</th>\n",
              "      <td>20</td>\n",
              "      <td>80.0</td>\n",
              "      <td>9600</td>\n",
              "      <td>2007</td>\n",
              "      <td>181500</td>\n",
              "    </tr>\n",
              "    <tr>\n",
              "      <th>2</th>\n",
              "      <td>60</td>\n",
              "      <td>68.0</td>\n",
              "      <td>11250</td>\n",
              "      <td>2008</td>\n",
              "      <td>223500</td>\n",
              "    </tr>\n",
              "    <tr>\n",
              "      <th>3</th>\n",
              "      <td>70</td>\n",
              "      <td>60.0</td>\n",
              "      <td>9550</td>\n",
              "      <td>2006</td>\n",
              "      <td>140000</td>\n",
              "    </tr>\n",
              "    <tr>\n",
              "      <th>4</th>\n",
              "      <td>60</td>\n",
              "      <td>84.0</td>\n",
              "      <td>14260</td>\n",
              "      <td>2008</td>\n",
              "      <td>250000</td>\n",
              "    </tr>\n",
              "  </tbody>\n",
              "</table>\n",
              "</div>"
            ],
            "text/plain": [
              "   MSSubClass  LotFrontage  LotArea  YrSold  SalePrice\n",
              "0          60         65.0     8450    2008     208500\n",
              "1          20         80.0     9600    2007     181500\n",
              "2          60         68.0    11250    2008     223500\n",
              "3          70         60.0     9550    2006     140000\n",
              "4          60         84.0    14260    2008     250000"
            ]
          },
          "execution_count": 6,
          "metadata": {},
          "output_type": "execute_result"
        }
      ],
      "source": [
        "data.head(5)"
      ]
    },
    {
      "cell_type": "code",
      "execution_count": 7,
      "metadata": {},
      "outputs": [],
      "source": [
        "data = data.dropna()"
      ]
    },
    {
      "cell_type": "code",
      "execution_count": 8,
      "metadata": {},
      "outputs": [
        {
          "data": {
            "text/html": [
              "<div>\n",
              "<style scoped>\n",
              "    .dataframe tbody tr th:only-of-type {\n",
              "        vertical-align: middle;\n",
              "    }\n",
              "\n",
              "    .dataframe tbody tr th {\n",
              "        vertical-align: top;\n",
              "    }\n",
              "\n",
              "    .dataframe thead th {\n",
              "        text-align: right;\n",
              "    }\n",
              "</style>\n",
              "<table border=\"1\" class=\"dataframe\">\n",
              "  <thead>\n",
              "    <tr style=\"text-align: right;\">\n",
              "      <th></th>\n",
              "      <th>MSSubClass</th>\n",
              "      <th>LotFrontage</th>\n",
              "      <th>LotArea</th>\n",
              "      <th>YrSold</th>\n",
              "      <th>SalePrice</th>\n",
              "    </tr>\n",
              "  </thead>\n",
              "  <tbody>\n",
              "    <tr>\n",
              "      <th>0</th>\n",
              "      <td>60</td>\n",
              "      <td>65.0</td>\n",
              "      <td>8450</td>\n",
              "      <td>2008</td>\n",
              "      <td>208500</td>\n",
              "    </tr>\n",
              "    <tr>\n",
              "      <th>1</th>\n",
              "      <td>20</td>\n",
              "      <td>80.0</td>\n",
              "      <td>9600</td>\n",
              "      <td>2007</td>\n",
              "      <td>181500</td>\n",
              "    </tr>\n",
              "    <tr>\n",
              "      <th>2</th>\n",
              "      <td>60</td>\n",
              "      <td>68.0</td>\n",
              "      <td>11250</td>\n",
              "      <td>2008</td>\n",
              "      <td>223500</td>\n",
              "    </tr>\n",
              "    <tr>\n",
              "      <th>3</th>\n",
              "      <td>70</td>\n",
              "      <td>60.0</td>\n",
              "      <td>9550</td>\n",
              "      <td>2006</td>\n",
              "      <td>140000</td>\n",
              "    </tr>\n",
              "    <tr>\n",
              "      <th>4</th>\n",
              "      <td>60</td>\n",
              "      <td>84.0</td>\n",
              "      <td>14260</td>\n",
              "      <td>2008</td>\n",
              "      <td>250000</td>\n",
              "    </tr>\n",
              "    <tr>\n",
              "      <th>...</th>\n",
              "      <td>...</td>\n",
              "      <td>...</td>\n",
              "      <td>...</td>\n",
              "      <td>...</td>\n",
              "      <td>...</td>\n",
              "    </tr>\n",
              "    <tr>\n",
              "      <th>1254</th>\n",
              "      <td>60</td>\n",
              "      <td>60.0</td>\n",
              "      <td>6931</td>\n",
              "      <td>2008</td>\n",
              "      <td>165400</td>\n",
              "    </tr>\n",
              "    <tr>\n",
              "      <th>1255</th>\n",
              "      <td>50</td>\n",
              "      <td>52.0</td>\n",
              "      <td>6240</td>\n",
              "      <td>2007</td>\n",
              "      <td>127500</td>\n",
              "    </tr>\n",
              "    <tr>\n",
              "      <th>1256</th>\n",
              "      <td>20</td>\n",
              "      <td>91.0</td>\n",
              "      <td>14303</td>\n",
              "      <td>2008</td>\n",
              "      <td>301500</td>\n",
              "    </tr>\n",
              "    <tr>\n",
              "      <th>1257</th>\n",
              "      <td>30</td>\n",
              "      <td>56.0</td>\n",
              "      <td>4060</td>\n",
              "      <td>2009</td>\n",
              "      <td>99900</td>\n",
              "    </tr>\n",
              "    <tr>\n",
              "      <th>1258</th>\n",
              "      <td>80</td>\n",
              "      <td>59.0</td>\n",
              "      <td>9587</td>\n",
              "      <td>2008</td>\n",
              "      <td>190000</td>\n",
              "    </tr>\n",
              "  </tbody>\n",
              "</table>\n",
              "<p>1041 rows × 5 columns</p>\n",
              "</div>"
            ],
            "text/plain": [
              "      MSSubClass  LotFrontage  LotArea  YrSold  SalePrice\n",
              "0             60         65.0     8450    2008     208500\n",
              "1             20         80.0     9600    2007     181500\n",
              "2             60         68.0    11250    2008     223500\n",
              "3             70         60.0     9550    2006     140000\n",
              "4             60         84.0    14260    2008     250000\n",
              "...          ...          ...      ...     ...        ...\n",
              "1254          60         60.0     6931    2008     165400\n",
              "1255          50         52.0     6240    2007     127500\n",
              "1256          20         91.0    14303    2008     301500\n",
              "1257          30         56.0     4060    2009      99900\n",
              "1258          80         59.0     9587    2008     190000\n",
              "\n",
              "[1041 rows x 5 columns]"
            ]
          },
          "execution_count": 8,
          "metadata": {},
          "output_type": "execute_result"
        }
      ],
      "source": [
        "data.dropna()"
      ]
    },
    {
      "cell_type": "markdown",
      "metadata": {
        "id": "tUYxkHmhQ9y0"
      },
      "source": [
        "## Converting the dataset to numpy array"
      ]
    },
    {
      "cell_type": "code",
      "execution_count": 9,
      "metadata": {
        "colab": {
          "base_uri": "https://localhost:8080/"
        },
        "id": "rdXWSUJjQ8l7",
        "outputId": "6fd8b082-4127-4154-936a-877204d8f10b"
      },
      "outputs": [
        {
          "name": "stdout",
          "output_type": "stream",
          "text": [
            "Dataset Array Shape: (1041, 5)\n",
            "X Shape: (1041, 4)\n",
            "y Shape: (1041,)\n"
          ]
        }
      ],
      "source": [
        "dataset_array = np.array(data, dtype=float)\n",
        "print(\"Dataset Array Shape: \" + str(dataset_array.shape))\n",
        "\n",
        "\n",
        "X = []\n",
        "y = []\n",
        "\n",
        "for row in dataset_array:\n",
        "  X.append(row[:4])\n",
        "  y.append(row[4])\n",
        "\n",
        "\n",
        "X = np.array(X)\n",
        "y = np.array(y)\n",
        "\n",
        "from sklearn.preprocessing import StandardScaler\n",
        "\n",
        "scaler = StandardScaler()\n",
        "X = scaler.fit_transform(X)\n",
        "\n",
        "print(\"X Shape: \" + str(X.shape))\n",
        "print(\"y Shape: \" + str(y.shape))"
      ]
    },
    {
      "cell_type": "markdown",
      "metadata": {},
      "source": [
        "## Function For Forward Propogation"
      ]
    },
    {
      "cell_type": "code",
      "execution_count": 10,
      "metadata": {},
      "outputs": [],
      "source": [
        "def forward_prop(w, x):\n",
        "  y = []\n",
        "  for row in x:\n",
        "    y.append(w[0] + row[0]*w[1] + row[1]*w[2] + row[2]*w[3] + row[3]*w[4])\n",
        "\n",
        "  y = np.array(y)\n",
        "  return y"
      ]
    },
    {
      "cell_type": "markdown",
      "metadata": {},
      "source": [
        "## Function For Backward Propogation"
      ]
    },
    {
      "cell_type": "code",
      "execution_count": 11,
      "metadata": {},
      "outputs": [],
      "source": [
        "def back_prop(w, y, y_hat, X, alpha):\n",
        "  # get the total number of rows\n",
        "  n = y.shape[0]\n",
        "  # create an error against each weight value\n",
        "  dldw = np.zeros(*w.shape)\n",
        "\n",
        "  for predict, actual, x in zip(y,y_hat,X):\n",
        "    error = actual - predict\n",
        "    dldw[0] = dldw[0] + ((error))\n",
        "    dldw[1] = dldw[1] + ((error) * x[0])\n",
        "    dldw[2] = dldw[2] + ((error) * x[1])\n",
        "    dldw[3] = dldw[3] + ((error) * x[2])\n",
        "    dldw[4] = dldw[4] + ((error) * x[3])\n",
        "\n",
        "  w[0] = w[0] + (dldw[0] * alpha)/n\n",
        "  w[1] = w[1] + (dldw[1] * alpha)/n\n",
        "  w[2] = w[2] + (dldw[2] * alpha)/n\n",
        "  w[3] = w[3] + (dldw[3] * alpha)/n\n",
        "  w[4] = w[4] + (dldw[4] * alpha)/n\n",
        "\n",
        "  return w"
      ]
    },
    {
      "cell_type": "markdown",
      "metadata": {},
      "source": [
        "## Getting the testing dataset"
      ]
    },
    {
      "cell_type": "code",
      "execution_count": 12,
      "metadata": {},
      "outputs": [],
      "source": [
        "test_dataset = './test.csv'\n",
        "test_df = pd.read_csv(test_dataset)"
      ]
    },
    {
      "cell_type": "code",
      "execution_count": 13,
      "metadata": {},
      "outputs": [
        {
          "data": {
            "text/html": [
              "<div>\n",
              "<style scoped>\n",
              "    .dataframe tbody tr th:only-of-type {\n",
              "        vertical-align: middle;\n",
              "    }\n",
              "\n",
              "    .dataframe tbody tr th {\n",
              "        vertical-align: top;\n",
              "    }\n",
              "\n",
              "    .dataframe thead th {\n",
              "        text-align: right;\n",
              "    }\n",
              "</style>\n",
              "<table border=\"1\" class=\"dataframe\">\n",
              "  <thead>\n",
              "    <tr style=\"text-align: right;\">\n",
              "      <th></th>\n",
              "      <th>Id</th>\n",
              "      <th>MSSubClass</th>\n",
              "      <th>MSZoning</th>\n",
              "      <th>LotFrontage</th>\n",
              "      <th>LotArea</th>\n",
              "      <th>Street</th>\n",
              "      <th>Alley</th>\n",
              "      <th>LotShape</th>\n",
              "      <th>LandContour</th>\n",
              "      <th>Utilities</th>\n",
              "      <th>...</th>\n",
              "      <th>ScreenPorch</th>\n",
              "      <th>PoolArea</th>\n",
              "      <th>PoolQC</th>\n",
              "      <th>Fence</th>\n",
              "      <th>MiscFeature</th>\n",
              "      <th>MiscVal</th>\n",
              "      <th>MoSold</th>\n",
              "      <th>YrSold</th>\n",
              "      <th>SaleType</th>\n",
              "      <th>SaleCondition</th>\n",
              "    </tr>\n",
              "  </thead>\n",
              "  <tbody>\n",
              "    <tr>\n",
              "      <th>0</th>\n",
              "      <td>1260</td>\n",
              "      <td>20</td>\n",
              "      <td>RL</td>\n",
              "      <td>65.0</td>\n",
              "      <td>9750</td>\n",
              "      <td>Pave</td>\n",
              "      <td>NaN</td>\n",
              "      <td>Reg</td>\n",
              "      <td>Lvl</td>\n",
              "      <td>AllPub</td>\n",
              "      <td>...</td>\n",
              "      <td>80</td>\n",
              "      <td>0</td>\n",
              "      <td>NaN</td>\n",
              "      <td>NaN</td>\n",
              "      <td>NaN</td>\n",
              "      <td>0</td>\n",
              "      <td>7</td>\n",
              "      <td>2008</td>\n",
              "      <td>WD</td>\n",
              "      <td>Normal</td>\n",
              "    </tr>\n",
              "    <tr>\n",
              "      <th>1</th>\n",
              "      <td>1261</td>\n",
              "      <td>60</td>\n",
              "      <td>RL</td>\n",
              "      <td>NaN</td>\n",
              "      <td>24682</td>\n",
              "      <td>Pave</td>\n",
              "      <td>NaN</td>\n",
              "      <td>IR3</td>\n",
              "      <td>Lvl</td>\n",
              "      <td>AllPub</td>\n",
              "      <td>...</td>\n",
              "      <td>0</td>\n",
              "      <td>0</td>\n",
              "      <td>NaN</td>\n",
              "      <td>NaN</td>\n",
              "      <td>NaN</td>\n",
              "      <td>0</td>\n",
              "      <td>6</td>\n",
              "      <td>2009</td>\n",
              "      <td>WD</td>\n",
              "      <td>Normal</td>\n",
              "    </tr>\n",
              "    <tr>\n",
              "      <th>2</th>\n",
              "      <td>1262</td>\n",
              "      <td>20</td>\n",
              "      <td>RL</td>\n",
              "      <td>80.0</td>\n",
              "      <td>9600</td>\n",
              "      <td>Pave</td>\n",
              "      <td>NaN</td>\n",
              "      <td>Reg</td>\n",
              "      <td>Lvl</td>\n",
              "      <td>AllPub</td>\n",
              "      <td>...</td>\n",
              "      <td>0</td>\n",
              "      <td>0</td>\n",
              "      <td>NaN</td>\n",
              "      <td>NaN</td>\n",
              "      <td>NaN</td>\n",
              "      <td>0</td>\n",
              "      <td>6</td>\n",
              "      <td>2009</td>\n",
              "      <td>WD</td>\n",
              "      <td>Normal</td>\n",
              "    </tr>\n",
              "    <tr>\n",
              "      <th>3</th>\n",
              "      <td>1263</td>\n",
              "      <td>50</td>\n",
              "      <td>RL</td>\n",
              "      <td>NaN</td>\n",
              "      <td>11250</td>\n",
              "      <td>Pave</td>\n",
              "      <td>NaN</td>\n",
              "      <td>Reg</td>\n",
              "      <td>Lvl</td>\n",
              "      <td>AllPub</td>\n",
              "      <td>...</td>\n",
              "      <td>0</td>\n",
              "      <td>0</td>\n",
              "      <td>NaN</td>\n",
              "      <td>NaN</td>\n",
              "      <td>NaN</td>\n",
              "      <td>0</td>\n",
              "      <td>11</td>\n",
              "      <td>2009</td>\n",
              "      <td>WD</td>\n",
              "      <td>Normal</td>\n",
              "    </tr>\n",
              "    <tr>\n",
              "      <th>4</th>\n",
              "      <td>1264</td>\n",
              "      <td>70</td>\n",
              "      <td>RL</td>\n",
              "      <td>60.0</td>\n",
              "      <td>13515</td>\n",
              "      <td>Pave</td>\n",
              "      <td>Pave</td>\n",
              "      <td>Reg</td>\n",
              "      <td>Lvl</td>\n",
              "      <td>AllPub</td>\n",
              "      <td>...</td>\n",
              "      <td>0</td>\n",
              "      <td>0</td>\n",
              "      <td>NaN</td>\n",
              "      <td>GdPrv</td>\n",
              "      <td>NaN</td>\n",
              "      <td>0</td>\n",
              "      <td>7</td>\n",
              "      <td>2007</td>\n",
              "      <td>WD</td>\n",
              "      <td>Normal</td>\n",
              "    </tr>\n",
              "  </tbody>\n",
              "</table>\n",
              "<p>5 rows × 80 columns</p>\n",
              "</div>"
            ],
            "text/plain": [
              "     Id  MSSubClass MSZoning  LotFrontage  LotArea Street Alley LotShape  \\\n",
              "0  1260          20       RL         65.0     9750   Pave   NaN      Reg   \n",
              "1  1261          60       RL          NaN    24682   Pave   NaN      IR3   \n",
              "2  1262          20       RL         80.0     9600   Pave   NaN      Reg   \n",
              "3  1263          50       RL          NaN    11250   Pave   NaN      Reg   \n",
              "4  1264          70       RL         60.0    13515   Pave  Pave      Reg   \n",
              "\n",
              "  LandContour Utilities  ... ScreenPorch PoolArea PoolQC  Fence MiscFeature  \\\n",
              "0         Lvl    AllPub  ...          80        0    NaN    NaN         NaN   \n",
              "1         Lvl    AllPub  ...           0        0    NaN    NaN         NaN   \n",
              "2         Lvl    AllPub  ...           0        0    NaN    NaN         NaN   \n",
              "3         Lvl    AllPub  ...           0        0    NaN    NaN         NaN   \n",
              "4         Lvl    AllPub  ...           0        0    NaN  GdPrv         NaN   \n",
              "\n",
              "  MiscVal MoSold  YrSold  SaleType  SaleCondition  \n",
              "0       0      7    2008        WD         Normal  \n",
              "1       0      6    2009        WD         Normal  \n",
              "2       0      6    2009        WD         Normal  \n",
              "3       0     11    2009        WD         Normal  \n",
              "4       0      7    2007        WD         Normal  \n",
              "\n",
              "[5 rows x 80 columns]"
            ]
          },
          "execution_count": 13,
          "metadata": {},
          "output_type": "execute_result"
        }
      ],
      "source": [
        "test_df.head(5)"
      ]
    },
    {
      "cell_type": "code",
      "execution_count": 14,
      "metadata": {},
      "outputs": [],
      "source": [
        "test_data = test_df[[\"MSSubClass\", \"LotFrontage\", \"LotArea\", \"YrSold\"]]"
      ]
    },
    {
      "cell_type": "code",
      "execution_count": 15,
      "metadata": {},
      "outputs": [
        {
          "data": {
            "text/html": [
              "<div>\n",
              "<style scoped>\n",
              "    .dataframe tbody tr th:only-of-type {\n",
              "        vertical-align: middle;\n",
              "    }\n",
              "\n",
              "    .dataframe tbody tr th {\n",
              "        vertical-align: top;\n",
              "    }\n",
              "\n",
              "    .dataframe thead th {\n",
              "        text-align: right;\n",
              "    }\n",
              "</style>\n",
              "<table border=\"1\" class=\"dataframe\">\n",
              "  <thead>\n",
              "    <tr style=\"text-align: right;\">\n",
              "      <th></th>\n",
              "      <th>MSSubClass</th>\n",
              "      <th>LotFrontage</th>\n",
              "      <th>LotArea</th>\n",
              "      <th>YrSold</th>\n",
              "    </tr>\n",
              "  </thead>\n",
              "  <tbody>\n",
              "    <tr>\n",
              "      <th>0</th>\n",
              "      <td>20</td>\n",
              "      <td>65.0</td>\n",
              "      <td>9750</td>\n",
              "      <td>2008</td>\n",
              "    </tr>\n",
              "    <tr>\n",
              "      <th>1</th>\n",
              "      <td>60</td>\n",
              "      <td>NaN</td>\n",
              "      <td>24682</td>\n",
              "      <td>2009</td>\n",
              "    </tr>\n",
              "    <tr>\n",
              "      <th>2</th>\n",
              "      <td>20</td>\n",
              "      <td>80.0</td>\n",
              "      <td>9600</td>\n",
              "      <td>2009</td>\n",
              "    </tr>\n",
              "    <tr>\n",
              "      <th>3</th>\n",
              "      <td>50</td>\n",
              "      <td>NaN</td>\n",
              "      <td>11250</td>\n",
              "      <td>2009</td>\n",
              "    </tr>\n",
              "    <tr>\n",
              "      <th>4</th>\n",
              "      <td>70</td>\n",
              "      <td>60.0</td>\n",
              "      <td>13515</td>\n",
              "      <td>2007</td>\n",
              "    </tr>\n",
              "  </tbody>\n",
              "</table>\n",
              "</div>"
            ],
            "text/plain": [
              "   MSSubClass  LotFrontage  LotArea  YrSold\n",
              "0          20         65.0     9750    2008\n",
              "1          60          NaN    24682    2009\n",
              "2          20         80.0     9600    2009\n",
              "3          50          NaN    11250    2009\n",
              "4          70         60.0    13515    2007"
            ]
          },
          "execution_count": 15,
          "metadata": {},
          "output_type": "execute_result"
        }
      ],
      "source": [
        "test_data.head(5)"
      ]
    },
    {
      "cell_type": "code",
      "execution_count": 16,
      "metadata": {},
      "outputs": [],
      "source": [
        "test_data = test_data.dropna()"
      ]
    },
    {
      "cell_type": "markdown",
      "metadata": {},
      "source": [
        "### Converting to Numpy Arrays"
      ]
    },
    {
      "cell_type": "code",
      "execution_count": 17,
      "metadata": {},
      "outputs": [
        {
          "name": "stdout",
          "output_type": "stream",
          "text": [
            "Dataset Array Shape: (160, 4)\n",
            "Test X Shape: (160, 4)\n"
          ]
        }
      ],
      "source": [
        "test_dataset_array = np.array(test_data, dtype=float)\n",
        "print(\"Dataset Array Shape: \" + str(test_dataset_array.shape))\n",
        "\n",
        "\n",
        "test_X = []\n",
        "\n",
        "for row in test_dataset_array:\n",
        "  test_X.append(row[:4])\n",
        "\n",
        "\n",
        "test_X = np.array(test_X)\n",
        "\n",
        "from sklearn.preprocessing import StandardScaler\n",
        "scaler = StandardScaler()\n",
        "test_X = scaler.fit_transform(test_X)\n",
        "\n",
        "print(\"Test X Shape: \" + str(test_X.shape))"
      ]
    },
    {
      "cell_type": "markdown",
      "metadata": {},
      "source": [
        "## Cost Function"
      ]
    },
    {
      "cell_type": "code",
      "execution_count": 18,
      "metadata": {},
      "outputs": [],
      "source": [
        "def cost(y, y_hat):\n",
        "  n = y.shape[0]\n",
        "\n",
        "  sum = 0\n",
        "\n",
        "  for predict, actual in zip(y, y_hat):\n",
        "    sum = sum + (predict - actual)**2\n",
        "\n",
        "  j = sum / (2 * n)\n",
        "\n",
        "  return j"
      ]
    },
    {
      "cell_type": "markdown",
      "metadata": {},
      "source": [
        "## Carrying out the learning ( **Batch Gradient Descent** )"
      ]
    },
    {
      "cell_type": "markdown",
      "metadata": {},
      "source": [
        "### Initialize random weights"
      ]
    },
    {
      "cell_type": "code",
      "execution_count": 19,
      "metadata": {},
      "outputs": [
        {
          "name": "stdout",
          "output_type": "stream",
          "text": [
            "Shape of weights: (5,)\n",
            "Random Weights: [0.09096607 0.68308742 0.7077221  0.84144394 0.9927101 ]\n"
          ]
        }
      ],
      "source": [
        "weights = np.random.rand(X.shape[1] + 1)\n",
        "\n",
        "print(\"Shape of weights: \" + str(weights.shape))\n",
        "print(\"Random Weights: \" + str(weights))"
      ]
    },
    {
      "cell_type": "markdown",
      "metadata": {},
      "source": [
        "### Perfoming Forward and Backward Propgations"
      ]
    },
    {
      "cell_type": "code",
      "execution_count": 20,
      "metadata": {},
      "outputs": [
        {
          "name": "stdout",
          "output_type": "stream",
          "text": [
            "Cost: 20129991317.86173\n"
          ]
        },
        {
          "name": "stdout",
          "output_type": "stream",
          "text": [
            "Cost: 5248402300.176957\n",
            "Cost: 3282386405.1507697\n",
            "Cost: 3015586046.7726192\n",
            "Cost: 2978353744.2379723\n",
            "Cost: 2972869327.309001\n",
            "Cost: 2971969607.0789614\n",
            "Cost: 2971793536.7715693\n",
            "Cost: 2971751079.987927\n",
            "Cost: 2971738944.9427547\n"
          ]
        }
      ],
      "source": [
        "costs = []\n",
        "\n",
        "costs.append(cost(weights, y))\n",
        "\n",
        "for epoch in range(1000):\n",
        "  hx = forward_prop(weights, X)\n",
        "  c = cost(hx, y)\n",
        "  if epoch % 100 == 0:\n",
        "    print(\"Cost: \" +str(c))\n",
        "\n",
        "  costs.append(c)\n",
        "  weights = back_prop(weights, hx, y, X, 0.01)"
      ]
    },
    {
      "cell_type": "markdown",
      "metadata": {},
      "source": [
        "### Final Weights For Our Params"
      ]
    },
    {
      "cell_type": "code",
      "execution_count": 21,
      "metadata": {},
      "outputs": [
        {
          "data": {
            "text/plain": [
              "array([181645.07808974,   6679.9333452 ,  28268.75947672,  16899.11756272,\n",
              "        -3056.93204568])"
            ]
          },
          "execution_count": 21,
          "metadata": {},
          "output_type": "execute_result"
        }
      ],
      "source": [
        "weights"
      ]
    },
    {
      "cell_type": "markdown",
      "metadata": {},
      "source": [
        "### Making Predictions"
      ]
    },
    {
      "cell_type": "code",
      "execution_count": 22,
      "metadata": {},
      "outputs": [],
      "source": [
        "batch_predict = forward_prop(weights, test_X)"
      ]
    },
    {
      "cell_type": "code",
      "execution_count": 23,
      "metadata": {},
      "outputs": [
        {
          "data": {
            "text/plain": [
              "array([171384.44900841, 183395.39532501, 187839.29851472, 139097.03542991,\n",
              "       149827.48000565, 196054.32201216, 200889.411119  , 195892.72632896,\n",
              "       243967.59239432, 153220.39220811, 218772.19526938, 186540.23191969,\n",
              "       159714.88054222, 171241.7301921 , 156060.54983785, 162293.72345556,\n",
              "       205052.95729469, 156347.60659842, 147630.56045144, 147562.73084428,\n",
              "       206740.10510997, 122992.90836577, 162358.17652706, 196076.53359656,\n",
              "       166265.34752844, 176787.67728158, 182958.37572324, 152726.34869939,\n",
              "       585115.81020725, 169843.65450256, 209782.01548318, 180608.47183547,\n",
              "       145752.65980173, 221732.48616467, 166187.17977868, 159108.8846659 ,\n",
              "       212603.61795214, 224666.88221678, 173788.41073896, 230450.04147153,\n",
              "       164035.09780484, 201217.69551984, 166606.11127641, 154678.49977945,\n",
              "       184908.1777799 , 169933.62590717, 215592.11923975, 142524.08789429,\n",
              "       184215.65547206, 129853.08951653, 163553.55682333, 156942.07135198,\n",
              "       173175.1458764 , 178133.82094155, 194090.82464058, 178476.77011884,\n",
              "       168426.27923754, 167946.38124367, 128023.34887221, 183546.60106908,\n",
              "       202273.62909376, 246991.07710233, 222802.16750622, 229459.80834488,\n",
              "       174182.43731268, 184297.86537146, 159225.11352875, 203587.05452798,\n",
              "       149119.61244775, 218003.04344932, 150727.47366849, 211170.88129703,\n",
              "       180940.36617641, 147630.56045144, 177615.85736169, 222912.89890144,\n",
              "       260013.42925268, 165597.49235979, 246491.99958187, 183912.86150466,\n",
              "       143232.6804664 , 178768.16005244, 152491.37601869, 152775.60944319,\n",
              "       185147.41776333, 194921.02587633, 191947.27932476, 199856.84382322,\n",
              "       201020.8551121 , 149684.53651368, 172577.91818874, 130672.54310279,\n",
              "       188446.29929319, 144038.48741087, 171026.69683029, 166717.18354863,\n",
              "       133807.44430669, 217857.10061137, 169653.52909562, 162034.25134857,\n",
              "       162032.75959455, 178904.55769854, 177443.43317572, 183132.58406272,\n",
              "       195826.03634003, 162303.42125397, 211260.57144075, 156626.42056277,\n",
              "       161092.32986927, 149130.96725217, 149915.2442429 , 167533.92246558,\n",
              "       165934.47816977, 174587.37884045, 177653.79001289, 148270.60994595,\n",
              "       180080.73673335, 163520.98370037, 191504.99624689, 197100.74730771,\n",
              "       188015.86870494, 167252.96104251, 195477.27671779, 185010.29068551,\n",
              "       152242.91646616, 192889.69079304, 175632.98121929, 212593.55068372,\n",
              "       153158.63785834, 143180.92797848, 189070.1118985 , 196888.4038463 ,\n",
              "       174656.96216827, 155727.33049118, 214031.75123967, 173468.19543854,\n",
              "       206622.33125454, 213837.54277415, 182051.14125882, 166484.63085875,\n",
              "       210013.1923354 , 184311.65915886, 200125.23800583, 198222.03018854,\n",
              "       198715.27545691, 167922.42288612, 184514.01914662, 195335.04003373,\n",
              "       189305.66167563, 132482.73043923, 172696.36782899, 180406.67818307,\n",
              "       152726.34869939, 223116.96131104, 159345.65726579, 171336.7119275 ,\n",
              "       196838.33801455, 173358.08021203, 169665.13510244, 181782.79005141])"
            ]
          },
          "execution_count": 23,
          "metadata": {},
          "output_type": "execute_result"
        }
      ],
      "source": [
        "batch_predict"
      ]
    },
    {
      "cell_type": "markdown",
      "metadata": {},
      "source": [
        "## Carrying out the learning ( **Mini-Batch Gradient Descent** )"
      ]
    },
    {
      "cell_type": "markdown",
      "metadata": {},
      "source": [
        "### Initialize Random Weights"
      ]
    },
    {
      "cell_type": "code",
      "execution_count": 24,
      "metadata": {},
      "outputs": [
        {
          "name": "stdout",
          "output_type": "stream",
          "text": [
            "Shape of weights: (5,)\n",
            "Random Weights: [0.16191571 0.16246986 0.4826512  0.48869728 0.71524603]\n"
          ]
        }
      ],
      "source": [
        "weights = np.random.rand(X.shape[1] + 1)\n",
        "\n",
        "print(\"Shape of weights: \" + str(weights.shape))\n",
        "print(\"Random Weights: \" + str(weights))"
      ]
    },
    {
      "cell_type": "markdown",
      "metadata": {},
      "source": [
        "### Initialize Batches"
      ]
    },
    {
      "cell_type": "code",
      "execution_count": 25,
      "metadata": {},
      "outputs": [
        {
          "name": "stdout",
          "output_type": "stream",
          "text": [
            "Shape Of Batches X: (3, 300, 4)\n",
            "Shape Of Batches y: (3, 300)\n"
          ]
        }
      ],
      "source": [
        "batchSize = 300\n",
        "\n",
        "batches_X = []\n",
        "batches_y = []\n",
        "\n",
        "for i in range(X.shape[0] // batchSize):\n",
        "    batches_X.append(X[300*i : 300*(i+1)])\n",
        "    batches_y.append(y[300*i : 300*(i+1)])\n",
        "\n",
        "batches_X = np.array(batches_X)\n",
        "batches_y = np.array(batches_y)\n",
        "\n",
        "\n",
        "print(\"Shape Of Batches X: \" + str(batches_X.shape))\n",
        "print(\"Shape Of Batches y: \" + str(batches_y.shape))"
      ]
    },
    {
      "cell_type": "markdown",
      "metadata": {},
      "source": [
        "### Perform Forward and Backward Propogations"
      ]
    },
    {
      "cell_type": "code",
      "execution_count": 26,
      "metadata": {},
      "outputs": [
        {
          "name": "stdout",
          "output_type": "stream",
          "text": [
            "Cost: 20070104005.88807\n"
          ]
        },
        {
          "name": "stdout",
          "output_type": "stream",
          "text": [
            "Cost: 3834445177.286156\n",
            "Cost: 3785250441.68632\n",
            "Cost: 3790764019.2061677\n",
            "Cost: 3792322582.8239884\n",
            "Cost: 3792662916.5514297\n",
            "Cost: 3792733908.9939256\n",
            "Cost: 3792748569.046009\n",
            "Cost: 3792751589.42354\n",
            "Cost: 3792752211.380592\n"
          ]
        }
      ],
      "source": [
        "costs = []\n",
        "\n",
        "costs.append(cost(weights, y))\n",
        "\n",
        "# interate over the whole dataset\n",
        "for epoch in range(1000):\n",
        "  # for every batch perform forward and backward propogation\n",
        "  for batchx,batchy in zip(batches_X,batches_y):\n",
        "    # forward propogation\n",
        "    hx = forward_prop(weights, batchx)\n",
        "    # backward propogation\n",
        "    weights = back_prop(weights, hx, batchy, batchx, 0.01)\n",
        "  \n",
        "\n",
        "  # get cost against each epoch after a batch completes\n",
        "  c = cost(hx, y)\n",
        "  # print cost per 100 epoch\n",
        "  if epoch % 100 == 0:\n",
        "    print(\"Cost: \" +str(c))\n",
        "  # append cost to list\n",
        "  costs.append(c)"
      ]
    },
    {
      "cell_type": "code",
      "execution_count": 27,
      "metadata": {},
      "outputs": [
        {
          "data": {
            "text/plain": [
              "array([182370.57703046,   5399.94873517,  27026.57774312,  15831.13296188,\n",
              "        -3411.21361518])"
            ]
          },
          "execution_count": 27,
          "metadata": {},
          "output_type": "execute_result"
        }
      ],
      "source": [
        "weights"
      ]
    },
    {
      "cell_type": "markdown",
      "metadata": {},
      "source": [
        "### Making Predictions"
      ]
    },
    {
      "cell_type": "code",
      "execution_count": 28,
      "metadata": {},
      "outputs": [],
      "source": [
        "mini_batch_predict = forward_prop(weights, test_X)"
      ]
    },
    {
      "cell_type": "code",
      "execution_count": 29,
      "metadata": {},
      "outputs": [
        {
          "data": {
            "text/plain": [
              "array([173376.87580972, 184503.59812708, 188117.39134986, 140565.14912331,\n",
              "       150663.58612675, 193439.8235249 , 200653.26936711, 196398.24186083,\n",
              "       241303.32450721, 155949.35159733, 217362.51801189, 186973.04745091,\n",
              "       160938.43408611, 172871.87538256, 159555.74040237, 164375.75826655,\n",
              "       203263.86306353, 157594.62492288, 149837.64456317, 148200.26694905,\n",
              "       206922.94679025, 124032.31509768, 163428.27869232, 196781.81676094,\n",
              "       169304.95784587, 179351.64007019, 184503.36605193, 152983.68293335,\n",
              "       564865.85293035, 171304.45711446, 209886.21898305, 182987.77107908,\n",
              "       146789.48329321, 220948.02402933, 167026.67235277, 161373.2599162 ,\n",
              "       212653.77656385, 223136.33299057, 176094.88341979, 227914.34100389,\n",
              "       166806.48576216, 200912.26880707, 168415.61328985, 155817.21112492,\n",
              "       186644.44458545, 171703.24193177, 213976.4707111 , 145449.45928041,\n",
              "       185995.68806348, 133799.06816244, 166346.93098591, 159752.55303507,\n",
              "       174366.38004128, 179689.03291491, 195436.10873451, 179463.26709574,\n",
              "       170234.35432598, 170286.39889691, 128801.64527159, 184645.24802271,\n",
              "       201345.98238711, 246492.07856148, 222140.32964191, 229641.71115003,\n",
              "       176501.87624532, 185493.12844474, 160831.9864011 , 203541.05879476,\n",
              "       152446.4999741 , 217988.60261869, 152752.43885626, 209347.51581744,\n",
              "       181632.41057255, 149837.64456317, 177632.3755346 , 221981.03021437,\n",
              "       258434.81999861, 166701.6411407 , 244445.73671869, 184883.02179018,\n",
              "       144390.89293516, 179559.61497444, 153272.73358048, 154803.8570796 ,\n",
              "       185740.88061667, 194523.29421729, 192856.71996497, 199637.41974642,\n",
              "       202003.91314595, 152604.42105848, 173397.72683034, 132454.12166623,\n",
              "       188325.2178453 , 146364.3138681 , 172776.47557827, 167907.37687582,\n",
              "       136289.6089941 , 217223.770824  , 171476.49009533, 163772.9400193 ,\n",
              "       164337.33535571, 181334.73860897, 177259.28183081, 183972.0927177 ,\n",
              "       192816.79605929, 163483.02777739, 210786.42914424, 158706.68895634,\n",
              "       162638.00075849, 151262.16307625, 152387.11060932, 168921.75143656,\n",
              "       169070.73426929, 176483.61444193, 179380.32219619, 149348.31427863,\n",
              "       179923.47605224, 164108.43026648, 191074.96710997, 196532.72973315,\n",
              "       188238.71314911, 167618.1541212 , 195973.40417738, 185529.30706687,\n",
              "       152792.94875477, 189247.68283978, 177470.51416962, 212482.20394482,\n",
              "       153279.497597  , 144447.75095059, 190228.85483319, 196780.84260042,\n",
              "       175754.54901843, 157598.45803099, 213261.49648941, 175445.64865458,\n",
              "       206126.81546646, 214249.37998337, 183653.46667817, 169101.21407132,\n",
              "       210151.32415692, 185142.12635898, 200203.35144057, 197794.53398615,\n",
              "       198158.82691122, 170504.94272513, 184894.92323846, 195715.88274709,\n",
              "       190075.99301763, 133754.33922432, 172717.55036378, 181665.89309259,\n",
              "       152983.68293335, 223131.70006563, 161632.93685027, 172893.3824348 ,\n",
              "       196782.47896842, 173437.44876877, 171004.6823964 , 183307.40511962])"
            ]
          },
          "execution_count": 29,
          "metadata": {},
          "output_type": "execute_result"
        }
      ],
      "source": [
        "mini_batch_predict"
      ]
    },
    {
      "cell_type": "markdown",
      "metadata": {},
      "source": [
        "## Carrying out the learning ( **Schotatic Gradient Descent** )"
      ]
    },
    {
      "cell_type": "markdown",
      "metadata": {},
      "source": [
        "### Initialize Random Weights"
      ]
    },
    {
      "cell_type": "code",
      "execution_count": 30,
      "metadata": {},
      "outputs": [
        {
          "name": "stdout",
          "output_type": "stream",
          "text": [
            "Shape of weights: (5,)\n",
            "Random Weights: [0.57300589 0.89212504 0.35682841 0.62550921 0.07865025]\n"
          ]
        }
      ],
      "source": [
        "weights = np.random.rand(X.shape[1] + 1)\n",
        "\n",
        "print(\"Shape of weights: \" + str(weights.shape))\n",
        "print(\"Random Weights: \" + str(weights))"
      ]
    },
    {
      "cell_type": "markdown",
      "metadata": {},
      "source": [
        "### Perform Forward and Backward Propogations"
      ]
    },
    {
      "cell_type": "code",
      "execution_count": 31,
      "metadata": {},
      "outputs": [],
      "source": [
        "costs = []\n",
        "\n",
        "# interate over the whole dataset\n",
        "for epoch in range(100):\n",
        "  # for every row in data perform forward and backward propogation\n",
        "  for rowx,rowy in zip(X,y):\n",
        "    \n",
        "    # convert to seperate array objects so it can be used by above coded functions\n",
        "    tempx = []\n",
        "    tempy = []\n",
        "    tempx.append(rowx)\n",
        "    tempy.append(rowy)\n",
        "    tempx = np.array(tempx)\n",
        "    tempy = np.array(tempy)\n",
        "\n",
        "    # perform forward propogation\n",
        "    hx = forward_prop(weights, tempx)\n",
        "\n",
        "    # get the cost\n",
        "    c = cost(hx, y)\n",
        "    costs.append(c)\n",
        "\n",
        "    # perform backward propogation\n",
        "    weights = back_prop(weights, hx, tempy, tempx, 0.01)\n"
      ]
    },
    {
      "cell_type": "code",
      "execution_count": 32,
      "metadata": {},
      "outputs": [
        {
          "name": "stdout",
          "output_type": "stream",
          "text": [
            "Cost : 21736030678.766148\n",
            "Cost : 21404802880.598644\n",
            "Cost : 20998669834.90672\n",
            "Cost : 20451589366.34598\n",
            "Cost : 20377301316.87767\n",
            "Cost : 19822907505.54893\n",
            "Cost : 19165220331.31761\n",
            "Cost : 19399802420.350586\n",
            "Cost : 21257551150.20871\n",
            "Cost : 18477155785.906013\n",
            "Cost : 17647736788.827824\n",
            "Cost : 16356659068.92601\n",
            "Cost : 17003081829.991621\n",
            "Cost : 15245942759.691698\n",
            "Cost : 16667070899.380657\n",
            "Cost : 17595707779.1655\n",
            "Cost : 13592511449.313107\n",
            "Cost : 15293642116.97331\n",
            "Cost : 15030503474.07896\n",
            "Cost : 17593242845.852127\n",
            "Cost : 14464218003.38086\n",
            "Cost : 17864875657.716145\n",
            "Cost : 13987056413.843214\n",
            "Cost : 13286238788.342022\n",
            "Cost : 13916023247.465034\n",
            "Cost : 16319921097.235405\n",
            "Cost : 11226518268.00881\n",
            "Cost : 13507128709.98234\n",
            "Cost : 17586573915.16599\n",
            "Cost : 9224940187.01376\n",
            "Cost : 8864692703.006056\n",
            "Cost : 12028072817.202677\n",
            "Cost : 13203690504.233622\n",
            "Cost : 14782357296.090425\n",
            "Cost : 8312523744.127803\n",
            "Cost : 5701267061.773577\n",
            "Cost : 8962253275.180216\n",
            "Cost : 19205590213.416492\n",
            "Cost : 13854211165.810791\n",
            "Cost : 8564363973.7345\n",
            "Cost : 21902624706.801548\n",
            "Cost : 10064253933.396366\n",
            "Cost : 11624643812.722979\n",
            "Cost : 9123934552.8607\n",
            "Cost : 7249495758.182863\n",
            "Cost : 11941136245.26166\n",
            "Cost : 6849137520.943658\n",
            "Cost : 22772573961.163376\n",
            "Cost : 7171383572.053748\n",
            "Cost : 7556336704.228727\n",
            "Cost : 9902390389.848087\n",
            "Cost : 5889819772.586361\n",
            "Cost : 9529162078.955687\n",
            "Cost : 11678743784.047352\n",
            "Cost : 12869554249.324034\n",
            "Cost : 7402208480.810006\n",
            "Cost : 6480402122.543951\n",
            "Cost : 13623212337.734259\n",
            "Cost : 4195028890.404435\n",
            "Cost : 4434306442.032095\n",
            "Cost : 6474430112.733799\n",
            "Cost : 9208043341.85689\n",
            "Cost : 8924374923.518637\n",
            "Cost : 12174608314.16765\n",
            "Cost : 18587466129.270615\n",
            "Cost : 8554509383.270745\n",
            "Cost : 9943613159.778412\n",
            "Cost : 8469912066.980339\n",
            "Cost : 6234810157.486536\n",
            "Cost : 9516879885.080244\n",
            "Cost : 6244927124.651427\n",
            "Cost : 5301316160.445713\n",
            "Cost : 2437259363.3309975\n",
            "Cost : 4632817778.364539\n",
            "Cost : 13554834923.15065\n",
            "Cost : 5808309072.881356\n",
            "Cost : 6280566764.250396\n",
            "Cost : 5505893365.970116\n",
            "Cost : 4117730645.3670373\n",
            "Cost : 5919252057.76129\n",
            "Cost : 7622607099.059019\n",
            "Cost : 5634966922.476921\n",
            "Cost : 4001995060.910226\n",
            "Cost : 4636358998.000183\n",
            "Cost : 7199558157.562499\n",
            "Cost : 7961020544.430398\n",
            "Cost : 7965321421.145091\n",
            "Cost : 8061406457.725255\n",
            "Cost : 6002479962.129247\n",
            "Cost : 5634944515.64525\n",
            "Cost : 5203768211.011204\n",
            "Cost : 7482148175.273961\n",
            "Cost : 4461023296.467654\n",
            "Cost : 4351843419.636008\n",
            "Cost : 4265385579.297581\n",
            "Cost : 4574490057.648998\n",
            "Cost : 5775629728.87392\n",
            "Cost : 8935282226.811138\n",
            "Cost : 4278121032.3920555\n",
            "Cost : 5012765266.750822\n"
          ]
        }
      ],
      "source": [
        "for cost in costs[0:100]:\n",
        "    print(\"Cost : \" + str(cost))"
      ]
    },
    {
      "cell_type": "code",
      "execution_count": 33,
      "metadata": {},
      "outputs": [
        {
          "data": {
            "text/plain": [
              "array([179787.35505937,   5115.95408968,  32434.24401099,  32882.72344207,\n",
              "        -2306.61355325])"
            ]
          },
          "execution_count": 33,
          "metadata": {},
          "output_type": "execute_result"
        }
      ],
      "source": [
        "weights"
      ]
    },
    {
      "cell_type": "markdown",
      "metadata": {},
      "source": [
        "### Making Predictions"
      ]
    },
    {
      "cell_type": "code",
      "execution_count": 34,
      "metadata": {},
      "outputs": [],
      "source": [
        "schotatic_predict = forward_prop(weights, test_X)"
      ]
    },
    {
      "cell_type": "code",
      "execution_count": 35,
      "metadata": {},
      "outputs": [
        {
          "data": {
            "text/plain": [
              "array([171064.28010656, 185380.30031005, 195199.88250877, 114404.29006675,\n",
              "       121786.09466806, 189377.06126898, 215076.1576617 , 200372.84674888,\n",
              "       255072.14009928, 136968.05776417, 224275.90555449, 185434.26660285,\n",
              "       152274.3735746 , 171938.00856046, 147580.15148557, 159237.49853352,\n",
              "       206530.84192009, 153573.48836231, 133889.9607491 , 128887.98904247,\n",
              "       210659.95360015,  88727.50072547, 151061.44595775, 196191.5029858 ,\n",
              "       159585.66053753, 172209.03137771, 181808.25437442, 123792.14910785,\n",
              "       774133.02723348, 165658.2882465 , 211868.2343662 , 177288.25642684,\n",
              "       116212.58018835, 237994.0929836 , 150681.86606598, 153825.48399186,\n",
              "       223790.22391857, 252706.58832709, 170664.91427356, 250409.33854289,\n",
              "       157967.6674521 , 206142.80027174, 167628.65005735, 131794.79650305,\n",
              "       186806.16551784, 167037.29463034, 222283.54778666, 127588.29578168,\n",
              "       185458.63837972, 108062.30974748, 147362.11461799, 146887.56240993,\n",
              "       173022.328143  , 173054.98656563, 196822.74805153, 176368.66138362,\n",
              "       166459.63403824, 157404.70317617,  96160.48496782, 185674.5202092 ,\n",
              "       201175.25945891, 241829.94160405, 234847.79807976, 235443.57353827,\n",
              "       169861.37294238, 195406.40295969, 150955.06247672, 208031.47566438,\n",
              "       134978.66692857, 237070.74622962, 133559.69282971, 218068.94041518,\n",
              "       178463.52860866, 133889.9607491 , 190247.03577219, 225932.7574398 ,\n",
              "       287829.45315264, 161709.02117787, 273609.78592307, 179170.42959647,\n",
              "       112879.38973745, 175807.0439258 , 122258.82568623, 153645.21005324,\n",
              "       175486.23435945, 194181.56751549, 190512.0693424 , 203494.82117936,\n",
              "       207166.87769275, 137229.34451051, 174581.90996842,  95505.67812221,\n",
              "       187078.75157317, 137182.35446969, 159763.82149494, 163177.94667727,\n",
              "       117565.5199375 , 237002.42419074, 163448.19626467, 173649.96765617,\n",
              "       148619.51334739, 176328.10996584, 172854.45719881, 174312.78862725,\n",
              "       191654.53964833, 139199.13198534, 220607.42374392, 141531.20413409,\n",
              "       152232.9664288 , 136024.36561421, 135613.87299822, 158657.92902368,\n",
              "       155801.35062145, 187136.92269027, 176293.62070175, 124403.21940649,\n",
              "       174969.2270756 , 156045.7474093 , 217863.42518305, 205564.36644979,\n",
              "       188918.97778821, 156951.20306636, 202608.53357845, 192910.95131272,\n",
              "       129358.44644491, 191384.29006093, 174620.43566784, 218909.23755941,\n",
              "       132291.71419288, 119995.45774041, 193700.62269816, 200859.25289594,\n",
              "       175905.6831547 , 148149.93586091, 245261.44462586, 174505.50534725,\n",
              "       210378.28279357, 236450.34132519, 180042.93497951, 162734.02981837,\n",
              "       221890.20538303, 182033.63138414, 205221.00704421, 203207.18606145,\n",
              "       203995.21136784, 163176.34925686, 178152.25366461, 195900.12063906,\n",
              "       193836.56461567,  95393.3492881 , 167543.11943584, 181135.02817177,\n",
              "       123792.14910785, 246655.22459433, 152715.95396556, 163335.80906029,\n",
              "       210333.97490034, 170476.27044326, 170806.78890489, 183446.39062943])"
            ]
          },
          "execution_count": 35,
          "metadata": {},
          "output_type": "execute_result"
        }
      ],
      "source": [
        "schotatic_predict"
      ]
    }
  ],
  "metadata": {
    "colab": {
      "provenance": []
    },
    "kernelspec": {
      "display_name": "Python 3",
      "name": "python3"
    },
    "language_info": {
      "codemirror_mode": {
        "name": "ipython",
        "version": 3
      },
      "file_extension": ".py",
      "mimetype": "text/x-python",
      "name": "python",
      "nbconvert_exporter": "python",
      "pygments_lexer": "ipython3",
      "version": "3.11.4"
    }
  },
  "nbformat": 4,
  "nbformat_minor": 0
}
